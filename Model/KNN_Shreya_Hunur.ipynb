{
 "cells": [
  {
   "cell_type": "markdown",
   "id": "1176cda0",
   "metadata": {},
   "source": [
    "## Importing libraries"
   ]
  },
  {
   "cell_type": "code",
   "execution_count": 73,
   "id": "3147ad8d",
   "metadata": {},
   "outputs": [],
   "source": [
    "import pandas as pd\n",
    "import numpy as np\n",
    "import seaborn as sns\n",
    "import matplotlib.pyplot as plt\n",
    "import warnings\n",
    "warnings.filterwarnings('ignore')\n",
    "\n",
    "import nltk\n",
    "\n",
    "from sklearn.feature_extraction.text import CountVectorizer,TfidfTransformer,TfidfVectorizer \n",
    "from sklearn.pipeline import Pipeline\n",
    "from sklearn.model_selection import GridSearchCV\n",
    "\n",
    "from sklearn.model_selection import train_test_split\n",
    "\n",
    "import sklearn.metrics\n",
    "import sklearn.metrics as metrics\n",
    "from sklearn.metrics import accuracy_score\n",
    "from sklearn.metrics import precision_score\n",
    "from sklearn.metrics import recall_score\n",
    "from sklearn.metrics import f1_score\n",
    "from sklearn.metrics import ConfusionMatrixDisplay,roc_auc_score,confusion_matrix\n",
    "from sklearn.naive_bayes import MultinomialNB"
   ]
  },
  {
   "cell_type": "markdown",
   "id": "c775cc07",
   "metadata": {},
   "source": [
    "## Loading the data"
   ]
  },
  {
   "cell_type": "code",
   "execution_count": 74,
   "id": "ca6ed784",
   "metadata": {},
   "outputs": [],
   "source": [
    "df=pd.read_csv('spamSMS.csv')"
   ]
  },
  {
   "cell_type": "code",
   "execution_count": 75,
   "id": "7258854d",
   "metadata": {
    "scrolled": true
   },
   "outputs": [
    {
     "data": {
      "text/html": [
       "<div>\n",
       "<style scoped>\n",
       "    .dataframe tbody tr th:only-of-type {\n",
       "        vertical-align: middle;\n",
       "    }\n",
       "\n",
       "    .dataframe tbody tr th {\n",
       "        vertical-align: top;\n",
       "    }\n",
       "\n",
       "    .dataframe thead th {\n",
       "        text-align: right;\n",
       "    }\n",
       "</style>\n",
       "<table border=\"1\" class=\"dataframe\">\n",
       "  <thead>\n",
       "    <tr style=\"text-align: right;\">\n",
       "      <th></th>\n",
       "      <th>Class</th>\n",
       "      <th>input Text</th>\n",
       "    </tr>\n",
       "  </thead>\n",
       "  <tbody>\n",
       "    <tr>\n",
       "      <th>0</th>\n",
       "      <td>ham</td>\n",
       "      <td>Go until jurong point, crazy.. Available only ...</td>\n",
       "    </tr>\n",
       "    <tr>\n",
       "      <th>1</th>\n",
       "      <td>ham</td>\n",
       "      <td>Ok lar... Joking wif u oni...</td>\n",
       "    </tr>\n",
       "    <tr>\n",
       "      <th>2</th>\n",
       "      <td>spam</td>\n",
       "      <td>Free entry in 2 a wkly comp to win FA Cup fina...</td>\n",
       "    </tr>\n",
       "    <tr>\n",
       "      <th>3</th>\n",
       "      <td>ham</td>\n",
       "      <td>U dun say so early hor... U c already then say...</td>\n",
       "    </tr>\n",
       "    <tr>\n",
       "      <th>4</th>\n",
       "      <td>ham</td>\n",
       "      <td>Nah I don't think he goes to usf, he lives aro...</td>\n",
       "    </tr>\n",
       "  </tbody>\n",
       "</table>\n",
       "</div>"
      ],
      "text/plain": [
       "  Class                                         input Text\n",
       "0   ham  Go until jurong point, crazy.. Available only ...\n",
       "1   ham                      Ok lar... Joking wif u oni...\n",
       "2  spam  Free entry in 2 a wkly comp to win FA Cup fina...\n",
       "3   ham  U dun say so early hor... U c already then say...\n",
       "4   ham  Nah I don't think he goes to usf, he lives aro..."
      ]
     },
     "execution_count": 75,
     "metadata": {},
     "output_type": "execute_result"
    }
   ],
   "source": [
    "df.head()"
   ]
  },
  {
   "cell_type": "code",
   "execution_count": 76,
   "id": "99c9a7fe",
   "metadata": {},
   "outputs": [],
   "source": [
    "# Target Encoding\n",
    "df['spam'] = df['Class'].map( {'spam': 1, 'ham': 0} ).astype(int)"
   ]
  },
  {
   "cell_type": "code",
   "execution_count": 77,
   "id": "403153af",
   "metadata": {},
   "outputs": [],
   "source": [
    "# Added length of each string\n",
    "df['length'] = df['input Text'].apply(len)"
   ]
  },
  {
   "cell_type": "code",
   "execution_count": 78,
   "id": "c4edc47c",
   "metadata": {},
   "outputs": [],
   "source": [
    "# Renaming input column\n",
    "df.rename(columns={'input Text': 'text'}, inplace=True)"
   ]
  },
  {
   "cell_type": "code",
   "execution_count": 79,
   "id": "b120736a",
   "metadata": {},
   "outputs": [],
   "source": [
    "# drop unnecessary column\n",
    "df.drop('Class', axis=1, inplace=True)"
   ]
  },
  {
   "cell_type": "code",
   "execution_count": 80,
   "id": "c2b527e9",
   "metadata": {},
   "outputs": [
    {
     "data": {
      "text/html": [
       "<div>\n",
       "<style scoped>\n",
       "    .dataframe tbody tr th:only-of-type {\n",
       "        vertical-align: middle;\n",
       "    }\n",
       "\n",
       "    .dataframe tbody tr th {\n",
       "        vertical-align: top;\n",
       "    }\n",
       "\n",
       "    .dataframe thead th {\n",
       "        text-align: right;\n",
       "    }\n",
       "</style>\n",
       "<table border=\"1\" class=\"dataframe\">\n",
       "  <thead>\n",
       "    <tr style=\"text-align: right;\">\n",
       "      <th></th>\n",
       "      <th>text</th>\n",
       "      <th>spam</th>\n",
       "      <th>length</th>\n",
       "    </tr>\n",
       "  </thead>\n",
       "  <tbody>\n",
       "    <tr>\n",
       "      <th>0</th>\n",
       "      <td>Go until jurong point, crazy.. Available only ...</td>\n",
       "      <td>0</td>\n",
       "      <td>111</td>\n",
       "    </tr>\n",
       "    <tr>\n",
       "      <th>1</th>\n",
       "      <td>Ok lar... Joking wif u oni...</td>\n",
       "      <td>0</td>\n",
       "      <td>29</td>\n",
       "    </tr>\n",
       "    <tr>\n",
       "      <th>2</th>\n",
       "      <td>Free entry in 2 a wkly comp to win FA Cup fina...</td>\n",
       "      <td>1</td>\n",
       "      <td>155</td>\n",
       "    </tr>\n",
       "    <tr>\n",
       "      <th>3</th>\n",
       "      <td>U dun say so early hor... U c already then say...</td>\n",
       "      <td>0</td>\n",
       "      <td>49</td>\n",
       "    </tr>\n",
       "    <tr>\n",
       "      <th>4</th>\n",
       "      <td>Nah I don't think he goes to usf, he lives aro...</td>\n",
       "      <td>0</td>\n",
       "      <td>61</td>\n",
       "    </tr>\n",
       "  </tbody>\n",
       "</table>\n",
       "</div>"
      ],
      "text/plain": [
       "                                                text  spam  length\n",
       "0  Go until jurong point, crazy.. Available only ...     0     111\n",
       "1                      Ok lar... Joking wif u oni...     0      29\n",
       "2  Free entry in 2 a wkly comp to win FA Cup fina...     1     155\n",
       "3  U dun say so early hor... U c already then say...     0      49\n",
       "4  Nah I don't think he goes to usf, he lives aro...     0      61"
      ]
     },
     "execution_count": 80,
     "metadata": {},
     "output_type": "execute_result"
    }
   ],
   "source": [
    "df.head()"
   ]
  },
  {
   "cell_type": "markdown",
   "id": "733c6074",
   "metadata": {},
   "source": [
    "## Data Preprocessing"
   ]
  },
  {
   "cell_type": "markdown",
   "id": "a0a17ffb",
   "metadata": {},
   "source": [
    "### 1. Remove Punctuation and Stopwords"
   ]
  },
  {
   "cell_type": "markdown",
   "id": "71964f9f",
   "metadata": {},
   "source": [
    "Punctuation can provide grammatical context to a sentence which supports our understanding. But for our vectorizer which counts the number of words and not the context, it does not add value, so we remove all special characters."
   ]
  },
  {
   "cell_type": "code",
   "execution_count": 81,
   "id": "9372d580",
   "metadata": {},
   "outputs": [
    {
     "data": {
      "text/plain": [
       "'!\"#$%&\\'()*+,-./:;<=>?@[\\\\]^_`{|}~'"
      ]
     },
     "execution_count": 81,
     "metadata": {},
     "output_type": "execute_result"
    }
   ],
   "source": [
    "import string\n",
    "string.punctuation"
   ]
  },
  {
   "cell_type": "markdown",
   "id": "d27afd0b",
   "metadata": {},
   "source": [
    "Stopwords are common words that will likely appear in any text. They don’t tell us much about our data so we remove them."
   ]
  },
  {
   "cell_type": "code",
   "execution_count": 82,
   "id": "b6f884d2",
   "metadata": {},
   "outputs": [
    {
     "data": {
      "text/plain": [
       "[\"you've\", \"you'll\", \"you'd\", 'your', 'yours']"
      ]
     },
     "execution_count": 82,
     "metadata": {},
     "output_type": "execute_result"
    }
   ],
   "source": [
    "from nltk.corpus import stopwords\n",
    "stopwords.words(\"english\")[10:15]"
   ]
  },
  {
   "cell_type": "markdown",
   "id": "082d4d1e",
   "metadata": {},
   "source": [
    "With the above lists for punctuation characters and stop words, we define a function to remove these from the text.\n",
    "This function will also convert all text to lowercase.\n",
    "\n",
    "Tokenizing separates text into units such as sentences or words. It gives structure to previously unstructured text."
   ]
  },
  {
   "cell_type": "code",
   "execution_count": 83,
   "id": "ff89f721",
   "metadata": {},
   "outputs": [],
   "source": [
    "# Preprocessing steps\n",
    "def remove_punctuation_and_stopwords(message):\n",
    "    # remove punctuation\n",
    "    message_without_punc = [ch for ch in message if ch not in string.punctuation]\n",
    "    \n",
    "    # tokenize\n",
    "    message_without_punc = \"\".join(message_without_punc).split()\n",
    "    \n",
    "    # remove stopword\n",
    "    message_without_punc_stopwords = \\\n",
    "        [word.lower() for word in message_without_punc if word.lower() not in stopwords.words(\"english\")]\n",
    "        \n",
    "    return message_without_punc_stopwords"
   ]
  },
  {
   "cell_type": "code",
   "execution_count": 84,
   "id": "9e53eab3",
   "metadata": {},
   "outputs": [],
   "source": [
    "df['clean'] = df['text'].apply(remove_punctuation_and_stopwords)"
   ]
  },
  {
   "cell_type": "code",
   "execution_count": 85,
   "id": "d94557ae",
   "metadata": {},
   "outputs": [
    {
     "data": {
      "text/html": [
       "<div>\n",
       "<style scoped>\n",
       "    .dataframe tbody tr th:only-of-type {\n",
       "        vertical-align: middle;\n",
       "    }\n",
       "\n",
       "    .dataframe tbody tr th {\n",
       "        vertical-align: top;\n",
       "    }\n",
       "\n",
       "    .dataframe thead th {\n",
       "        text-align: right;\n",
       "    }\n",
       "</style>\n",
       "<table border=\"1\" class=\"dataframe\">\n",
       "  <thead>\n",
       "    <tr style=\"text-align: right;\">\n",
       "      <th></th>\n",
       "      <th>text</th>\n",
       "      <th>spam</th>\n",
       "      <th>length</th>\n",
       "      <th>clean</th>\n",
       "    </tr>\n",
       "  </thead>\n",
       "  <tbody>\n",
       "    <tr>\n",
       "      <th>0</th>\n",
       "      <td>Go until jurong point, crazy.. Available only ...</td>\n",
       "      <td>0</td>\n",
       "      <td>111</td>\n",
       "      <td>[go, jurong, point, crazy, available, bugis, n...</td>\n",
       "    </tr>\n",
       "    <tr>\n",
       "      <th>1</th>\n",
       "      <td>Ok lar... Joking wif u oni...</td>\n",
       "      <td>0</td>\n",
       "      <td>29</td>\n",
       "      <td>[ok, lar, joking, wif, u, oni]</td>\n",
       "    </tr>\n",
       "    <tr>\n",
       "      <th>2</th>\n",
       "      <td>Free entry in 2 a wkly comp to win FA Cup fina...</td>\n",
       "      <td>1</td>\n",
       "      <td>155</td>\n",
       "      <td>[free, entry, 2, wkly, comp, win, fa, cup, fin...</td>\n",
       "    </tr>\n",
       "    <tr>\n",
       "      <th>3</th>\n",
       "      <td>U dun say so early hor... U c already then say...</td>\n",
       "      <td>0</td>\n",
       "      <td>49</td>\n",
       "      <td>[u, dun, say, early, hor, u, c, already, say]</td>\n",
       "    </tr>\n",
       "    <tr>\n",
       "      <th>4</th>\n",
       "      <td>Nah I don't think he goes to usf, he lives aro...</td>\n",
       "      <td>0</td>\n",
       "      <td>61</td>\n",
       "      <td>[nah, dont, think, goes, usf, lives, around, t...</td>\n",
       "    </tr>\n",
       "  </tbody>\n",
       "</table>\n",
       "</div>"
      ],
      "text/plain": [
       "                                                text  spam  length  \\\n",
       "0  Go until jurong point, crazy.. Available only ...     0     111   \n",
       "1                      Ok lar... Joking wif u oni...     0      29   \n",
       "2  Free entry in 2 a wkly comp to win FA Cup fina...     1     155   \n",
       "3  U dun say so early hor... U c already then say...     0      49   \n",
       "4  Nah I don't think he goes to usf, he lives aro...     0      61   \n",
       "\n",
       "                                               clean  \n",
       "0  [go, jurong, point, crazy, available, bugis, n...  \n",
       "1                     [ok, lar, joking, wif, u, oni]  \n",
       "2  [free, entry, 2, wkly, comp, win, fa, cup, fin...  \n",
       "3      [u, dun, say, early, hor, u, c, already, say]  \n",
       "4  [nah, dont, think, goes, usf, lives, around, t...  "
      ]
     },
     "execution_count": 85,
     "metadata": {},
     "output_type": "execute_result"
    }
   ],
   "source": [
    "df.head()"
   ]
  },
  {
   "cell_type": "markdown",
   "id": "b40a7abc",
   "metadata": {},
   "source": [
    "### 2. Stemming "
   ]
  },
  {
   "cell_type": "markdown",
   "id": "fa9e9428",
   "metadata": {},
   "source": [
    "Stemming helps reduce a word to its stem form. It often makes sense to treat related words in the same way. It removes suffices, like “ing”, “ly”, “s”, etc. by a simple rule-based approach. It reduces the corpus of words but often the actual words get neglected."
   ]
  },
  {
   "cell_type": "code",
   "execution_count": 86,
   "id": "54bc4bcf",
   "metadata": {},
   "outputs": [],
   "source": [
    "ps = nltk.PorterStemmer()\n",
    "\n",
    "def stemming(tokenized_text):\n",
    "    text = [ps.stem(word) for word in tokenized_text]\n",
    "    return text"
   ]
  },
  {
   "cell_type": "code",
   "execution_count": 87,
   "id": "4f1f1ad4",
   "metadata": {},
   "outputs": [
    {
     "data": {
      "text/html": [
       "<div>\n",
       "<style scoped>\n",
       "    .dataframe tbody tr th:only-of-type {\n",
       "        vertical-align: middle;\n",
       "    }\n",
       "\n",
       "    .dataframe tbody tr th {\n",
       "        vertical-align: top;\n",
       "    }\n",
       "\n",
       "    .dataframe thead th {\n",
       "        text-align: right;\n",
       "    }\n",
       "</style>\n",
       "<table border=\"1\" class=\"dataframe\">\n",
       "  <thead>\n",
       "    <tr style=\"text-align: right;\">\n",
       "      <th></th>\n",
       "      <th>text</th>\n",
       "      <th>spam</th>\n",
       "      <th>length</th>\n",
       "      <th>clean</th>\n",
       "      <th>stemmed</th>\n",
       "    </tr>\n",
       "  </thead>\n",
       "  <tbody>\n",
       "    <tr>\n",
       "      <th>0</th>\n",
       "      <td>Go until jurong point, crazy.. Available only ...</td>\n",
       "      <td>0</td>\n",
       "      <td>111</td>\n",
       "      <td>[go, jurong, point, crazy, available, bugis, n...</td>\n",
       "      <td>[go, jurong, point, crazi, avail, bugi, n, gre...</td>\n",
       "    </tr>\n",
       "    <tr>\n",
       "      <th>1</th>\n",
       "      <td>Ok lar... Joking wif u oni...</td>\n",
       "      <td>0</td>\n",
       "      <td>29</td>\n",
       "      <td>[ok, lar, joking, wif, u, oni]</td>\n",
       "      <td>[ok, lar, joke, wif, u, oni]</td>\n",
       "    </tr>\n",
       "    <tr>\n",
       "      <th>2</th>\n",
       "      <td>Free entry in 2 a wkly comp to win FA Cup fina...</td>\n",
       "      <td>1</td>\n",
       "      <td>155</td>\n",
       "      <td>[free, entry, 2, wkly, comp, win, fa, cup, fin...</td>\n",
       "      <td>[free, entri, 2, wkli, comp, win, fa, cup, fin...</td>\n",
       "    </tr>\n",
       "    <tr>\n",
       "      <th>3</th>\n",
       "      <td>U dun say so early hor... U c already then say...</td>\n",
       "      <td>0</td>\n",
       "      <td>49</td>\n",
       "      <td>[u, dun, say, early, hor, u, c, already, say]</td>\n",
       "      <td>[u, dun, say, earli, hor, u, c, alreadi, say]</td>\n",
       "    </tr>\n",
       "    <tr>\n",
       "      <th>4</th>\n",
       "      <td>Nah I don't think he goes to usf, he lives aro...</td>\n",
       "      <td>0</td>\n",
       "      <td>61</td>\n",
       "      <td>[nah, dont, think, goes, usf, lives, around, t...</td>\n",
       "      <td>[nah, dont, think, goe, usf, live, around, tho...</td>\n",
       "    </tr>\n",
       "  </tbody>\n",
       "</table>\n",
       "</div>"
      ],
      "text/plain": [
       "                                                text  spam  length  \\\n",
       "0  Go until jurong point, crazy.. Available only ...     0     111   \n",
       "1                      Ok lar... Joking wif u oni...     0      29   \n",
       "2  Free entry in 2 a wkly comp to win FA Cup fina...     1     155   \n",
       "3  U dun say so early hor... U c already then say...     0      49   \n",
       "4  Nah I don't think he goes to usf, he lives aro...     0      61   \n",
       "\n",
       "                                               clean  \\\n",
       "0  [go, jurong, point, crazy, available, bugis, n...   \n",
       "1                     [ok, lar, joking, wif, u, oni]   \n",
       "2  [free, entry, 2, wkly, comp, win, fa, cup, fin...   \n",
       "3      [u, dun, say, early, hor, u, c, already, say]   \n",
       "4  [nah, dont, think, goes, usf, lives, around, t...   \n",
       "\n",
       "                                             stemmed  \n",
       "0  [go, jurong, point, crazi, avail, bugi, n, gre...  \n",
       "1                       [ok, lar, joke, wif, u, oni]  \n",
       "2  [free, entri, 2, wkli, comp, win, fa, cup, fin...  \n",
       "3      [u, dun, say, earli, hor, u, c, alreadi, say]  \n",
       "4  [nah, dont, think, goe, usf, live, around, tho...  "
      ]
     },
     "execution_count": 87,
     "metadata": {},
     "output_type": "execute_result"
    }
   ],
   "source": [
    "df['stemmed'] = df['clean'].apply(stemming)\n",
    "df.head()"
   ]
  },
  {
   "cell_type": "code",
   "execution_count": 88,
   "id": "68b8d667",
   "metadata": {},
   "outputs": [],
   "source": [
    "# Creating a dataframe for stemmed words\n",
    "df_stem =  pd.DataFrame(df, columns = ['stemmed','spam'])"
   ]
  },
  {
   "cell_type": "code",
   "execution_count": 89,
   "id": "00f0cb21",
   "metadata": {},
   "outputs": [],
   "source": [
    "df_stem['stem'] = [' '.join(map(str, l)) for l in df['stemmed']]"
   ]
  },
  {
   "cell_type": "code",
   "execution_count": 90,
   "id": "957c4c83",
   "metadata": {},
   "outputs": [],
   "source": [
    "# drop unnecessary column\n",
    "df_stem.drop('stemmed', axis=1, inplace=True)"
   ]
  },
  {
   "cell_type": "code",
   "execution_count": 91,
   "id": "6cce98a5",
   "metadata": {},
   "outputs": [
    {
     "data": {
      "text/html": [
       "<div>\n",
       "<style scoped>\n",
       "    .dataframe tbody tr th:only-of-type {\n",
       "        vertical-align: middle;\n",
       "    }\n",
       "\n",
       "    .dataframe tbody tr th {\n",
       "        vertical-align: top;\n",
       "    }\n",
       "\n",
       "    .dataframe thead th {\n",
       "        text-align: right;\n",
       "    }\n",
       "</style>\n",
       "<table border=\"1\" class=\"dataframe\">\n",
       "  <thead>\n",
       "    <tr style=\"text-align: right;\">\n",
       "      <th></th>\n",
       "      <th>spam</th>\n",
       "      <th>stem</th>\n",
       "    </tr>\n",
       "  </thead>\n",
       "  <tbody>\n",
       "    <tr>\n",
       "      <th>0</th>\n",
       "      <td>0</td>\n",
       "      <td>go jurong point crazi avail bugi n great world...</td>\n",
       "    </tr>\n",
       "    <tr>\n",
       "      <th>1</th>\n",
       "      <td>0</td>\n",
       "      <td>ok lar joke wif u oni</td>\n",
       "    </tr>\n",
       "    <tr>\n",
       "      <th>2</th>\n",
       "      <td>1</td>\n",
       "      <td>free entri 2 wkli comp win fa cup final tkt 21...</td>\n",
       "    </tr>\n",
       "    <tr>\n",
       "      <th>3</th>\n",
       "      <td>0</td>\n",
       "      <td>u dun say earli hor u c alreadi say</td>\n",
       "    </tr>\n",
       "    <tr>\n",
       "      <th>4</th>\n",
       "      <td>0</td>\n",
       "      <td>nah dont think goe usf live around though</td>\n",
       "    </tr>\n",
       "  </tbody>\n",
       "</table>\n",
       "</div>"
      ],
      "text/plain": [
       "   spam                                               stem\n",
       "0     0  go jurong point crazi avail bugi n great world...\n",
       "1     0                              ok lar joke wif u oni\n",
       "2     1  free entri 2 wkli comp win fa cup final tkt 21...\n",
       "3     0                u dun say earli hor u c alreadi say\n",
       "4     0          nah dont think goe usf live around though"
      ]
     },
     "execution_count": 91,
     "metadata": {},
     "output_type": "execute_result"
    }
   ],
   "source": [
    "df_stem.head()"
   ]
  },
  {
   "cell_type": "markdown",
   "id": "d46b3f02",
   "metadata": {},
   "source": [
    "### 3. Lemmatization"
   ]
  },
  {
   "cell_type": "markdown",
   "id": "ceb1b166",
   "metadata": {},
   "source": [
    "Lemmatizing derives the canonical form (‘lemma’) of a word. i.e the root form. It is better than stemming as it uses a dictionary-based approach i.e a morphological analysis to the root word."
   ]
  },
  {
   "cell_type": "code",
   "execution_count": 92,
   "id": "4968c114",
   "metadata": {},
   "outputs": [],
   "source": [
    "wn = nltk.WordNetLemmatizer()\n",
    "\n",
    "def lemmatizing(tokenized_text):\n",
    "    text = [wn.lemmatize(word) for word in tokenized_text]\n",
    "    return text"
   ]
  },
  {
   "cell_type": "code",
   "execution_count": 93,
   "id": "8d76d43d",
   "metadata": {},
   "outputs": [
    {
     "data": {
      "text/html": [
       "<div>\n",
       "<style scoped>\n",
       "    .dataframe tbody tr th:only-of-type {\n",
       "        vertical-align: middle;\n",
       "    }\n",
       "\n",
       "    .dataframe tbody tr th {\n",
       "        vertical-align: top;\n",
       "    }\n",
       "\n",
       "    .dataframe thead th {\n",
       "        text-align: right;\n",
       "    }\n",
       "</style>\n",
       "<table border=\"1\" class=\"dataframe\">\n",
       "  <thead>\n",
       "    <tr style=\"text-align: right;\">\n",
       "      <th></th>\n",
       "      <th>text</th>\n",
       "      <th>spam</th>\n",
       "      <th>length</th>\n",
       "      <th>clean</th>\n",
       "      <th>stemmed</th>\n",
       "      <th>lemmed</th>\n",
       "    </tr>\n",
       "  </thead>\n",
       "  <tbody>\n",
       "    <tr>\n",
       "      <th>0</th>\n",
       "      <td>Go until jurong point, crazy.. Available only ...</td>\n",
       "      <td>0</td>\n",
       "      <td>111</td>\n",
       "      <td>[go, jurong, point, crazy, available, bugis, n...</td>\n",
       "      <td>[go, jurong, point, crazi, avail, bugi, n, gre...</td>\n",
       "      <td>[go, jurong, point, crazy, available, bugis, n...</td>\n",
       "    </tr>\n",
       "    <tr>\n",
       "      <th>1</th>\n",
       "      <td>Ok lar... Joking wif u oni...</td>\n",
       "      <td>0</td>\n",
       "      <td>29</td>\n",
       "      <td>[ok, lar, joking, wif, u, oni]</td>\n",
       "      <td>[ok, lar, joke, wif, u, oni]</td>\n",
       "      <td>[ok, lar, joking, wif, u, oni]</td>\n",
       "    </tr>\n",
       "    <tr>\n",
       "      <th>2</th>\n",
       "      <td>Free entry in 2 a wkly comp to win FA Cup fina...</td>\n",
       "      <td>1</td>\n",
       "      <td>155</td>\n",
       "      <td>[free, entry, 2, wkly, comp, win, fa, cup, fin...</td>\n",
       "      <td>[free, entri, 2, wkli, comp, win, fa, cup, fin...</td>\n",
       "      <td>[free, entry, 2, wkly, comp, win, fa, cup, fin...</td>\n",
       "    </tr>\n",
       "    <tr>\n",
       "      <th>3</th>\n",
       "      <td>U dun say so early hor... U c already then say...</td>\n",
       "      <td>0</td>\n",
       "      <td>49</td>\n",
       "      <td>[u, dun, say, early, hor, u, c, already, say]</td>\n",
       "      <td>[u, dun, say, earli, hor, u, c, alreadi, say]</td>\n",
       "      <td>[u, dun, say, early, hor, u, c, already, say]</td>\n",
       "    </tr>\n",
       "    <tr>\n",
       "      <th>4</th>\n",
       "      <td>Nah I don't think he goes to usf, he lives aro...</td>\n",
       "      <td>0</td>\n",
       "      <td>61</td>\n",
       "      <td>[nah, dont, think, goes, usf, lives, around, t...</td>\n",
       "      <td>[nah, dont, think, goe, usf, live, around, tho...</td>\n",
       "      <td>[nah, dont, think, go, usf, life, around, though]</td>\n",
       "    </tr>\n",
       "  </tbody>\n",
       "</table>\n",
       "</div>"
      ],
      "text/plain": [
       "                                                text  spam  length  \\\n",
       "0  Go until jurong point, crazy.. Available only ...     0     111   \n",
       "1                      Ok lar... Joking wif u oni...     0      29   \n",
       "2  Free entry in 2 a wkly comp to win FA Cup fina...     1     155   \n",
       "3  U dun say so early hor... U c already then say...     0      49   \n",
       "4  Nah I don't think he goes to usf, he lives aro...     0      61   \n",
       "\n",
       "                                               clean  \\\n",
       "0  [go, jurong, point, crazy, available, bugis, n...   \n",
       "1                     [ok, lar, joking, wif, u, oni]   \n",
       "2  [free, entry, 2, wkly, comp, win, fa, cup, fin...   \n",
       "3      [u, dun, say, early, hor, u, c, already, say]   \n",
       "4  [nah, dont, think, goes, usf, lives, around, t...   \n",
       "\n",
       "                                             stemmed  \\\n",
       "0  [go, jurong, point, crazi, avail, bugi, n, gre...   \n",
       "1                       [ok, lar, joke, wif, u, oni]   \n",
       "2  [free, entri, 2, wkli, comp, win, fa, cup, fin...   \n",
       "3      [u, dun, say, earli, hor, u, c, alreadi, say]   \n",
       "4  [nah, dont, think, goe, usf, live, around, tho...   \n",
       "\n",
       "                                              lemmed  \n",
       "0  [go, jurong, point, crazy, available, bugis, n...  \n",
       "1                     [ok, lar, joking, wif, u, oni]  \n",
       "2  [free, entry, 2, wkly, comp, win, fa, cup, fin...  \n",
       "3      [u, dun, say, early, hor, u, c, already, say]  \n",
       "4  [nah, dont, think, go, usf, life, around, though]  "
      ]
     },
     "execution_count": 93,
     "metadata": {},
     "output_type": "execute_result"
    }
   ],
   "source": [
    "df['lemmed'] = df['clean'].apply(lemmatizing)\n",
    "df.head()"
   ]
  },
  {
   "cell_type": "code",
   "execution_count": 94,
   "id": "5c4810c2",
   "metadata": {},
   "outputs": [
    {
     "data": {
      "text/html": [
       "<div>\n",
       "<style scoped>\n",
       "    .dataframe tbody tr th:only-of-type {\n",
       "        vertical-align: middle;\n",
       "    }\n",
       "\n",
       "    .dataframe tbody tr th {\n",
       "        vertical-align: top;\n",
       "    }\n",
       "\n",
       "    .dataframe thead th {\n",
       "        text-align: right;\n",
       "    }\n",
       "</style>\n",
       "<table border=\"1\" class=\"dataframe\">\n",
       "  <thead>\n",
       "    <tr style=\"text-align: right;\">\n",
       "      <th></th>\n",
       "      <th>spam</th>\n",
       "      <th>lem</th>\n",
       "    </tr>\n",
       "  </thead>\n",
       "  <tbody>\n",
       "    <tr>\n",
       "      <th>0</th>\n",
       "      <td>0</td>\n",
       "      <td>go jurong point crazy available bugis n great ...</td>\n",
       "    </tr>\n",
       "    <tr>\n",
       "      <th>1</th>\n",
       "      <td>0</td>\n",
       "      <td>ok lar joking wif u oni</td>\n",
       "    </tr>\n",
       "    <tr>\n",
       "      <th>2</th>\n",
       "      <td>1</td>\n",
       "      <td>free entry 2 wkly comp win fa cup final tkts 2...</td>\n",
       "    </tr>\n",
       "    <tr>\n",
       "      <th>3</th>\n",
       "      <td>0</td>\n",
       "      <td>u dun say early hor u c already say</td>\n",
       "    </tr>\n",
       "    <tr>\n",
       "      <th>4</th>\n",
       "      <td>0</td>\n",
       "      <td>nah dont think go usf life around though</td>\n",
       "    </tr>\n",
       "  </tbody>\n",
       "</table>\n",
       "</div>"
      ],
      "text/plain": [
       "   spam                                                lem\n",
       "0     0  go jurong point crazy available bugis n great ...\n",
       "1     0                            ok lar joking wif u oni\n",
       "2     1  free entry 2 wkly comp win fa cup final tkts 2...\n",
       "3     0                u dun say early hor u c already say\n",
       "4     0           nah dont think go usf life around though"
      ]
     },
     "execution_count": 94,
     "metadata": {},
     "output_type": "execute_result"
    }
   ],
   "source": [
    "# Creating a dataframe for stemmed words\n",
    "df_lem =  pd.DataFrame(df, columns = ['lemmed','spam'])\n",
    "# Converting it back to text\n",
    "df_lem['lem'] = [' '.join(map(str, l)) for l in df['lemmed']]\n",
    "# drop unnecessary column\n",
    "df_lem.drop('lemmed', axis=1, inplace=True)\n",
    "\n",
    "df_lem.head()"
   ]
  },
  {
   "cell_type": "markdown",
   "id": "2666e007",
   "metadata": {},
   "source": [
    "## Train Test Split using stemmed data"
   ]
  },
  {
   "cell_type": "code",
   "execution_count": 95,
   "id": "c1098dd3",
   "metadata": {},
   "outputs": [
    {
     "name": "stdout",
     "output_type": "stream",
     "text": [
      "4180 4180\n",
      "1394 1394\n"
     ]
    }
   ],
   "source": [
    "# Split into train and test sets\n",
    "\n",
    "X_train, X_test, y_train, y_test = train_test_split(\n",
    "    df_stem['stem'],\n",
    "    df_stem['spam'],\n",
    "    random_state=42)\n",
    "print(len(X_train), len(y_train))\n",
    "print(len(X_test), len(y_test))"
   ]
  },
  {
   "cell_type": "markdown",
   "id": "c4e55776",
   "metadata": {},
   "source": [
    "## Vectorization using Bag of Words"
   ]
  },
  {
   "cell_type": "markdown",
   "id": "e1340d54",
   "metadata": {},
   "source": [
    "We already have the messages as lists of tokens (also known as lemmas), and we must now convert each of them into a vector that SciKit Learn's algorithm models can use.\n",
    "\n",
    "We'll now convert each message, which is represented above as a list of tokens (lemmas), into a vector that machine learning models can understand.\n",
    "\n",
    "We'll do that in three steps using the bag-of-words model:\n",
    "\n",
    "1. Count how many times a word occurs in each message (term frequency)\n",
    "\n",
    "2. Weigh the counts, so that frequent tokens get lower weight (inverse document frequency)\n",
    "\n",
    "3. Normalize the vectors to unit length, to abstract from the original text length (L2 norm)"
   ]
  },
  {
   "cell_type": "markdown",
   "id": "cdc254fd",
   "metadata": {},
   "source": [
    "Firstly,\n",
    "\n",
    "Each vector will have the same number of dimensions as the number of distinct words in the SMS corpus. We'll start with the CountVectorizer from SciKit Learn. This model will transform a set of text documents into a token count matrix.\n",
    "\n",
    "This can be shown as a two-dimensional matrix. Where the first dimension represents the full vocabulary (1 row per word) and the second dimension represents the actual documents, in this example a column per text message.\n",
    "\n",
    "We should expect a lot of zero counts for the presence of that word in that document because there are so many messages. As a result, SciKit Learn will generate a Sparse Matrix."
   ]
  },
  {
   "cell_type": "code",
   "execution_count": 96,
   "id": "dec13647",
   "metadata": {},
   "outputs": [
    {
     "data": {
      "text/plain": [
       "CountVectorizer()"
      ]
     },
     "execution_count": 96,
     "metadata": {},
     "output_type": "execute_result"
    }
   ],
   "source": [
    "# instantiate the vectorizer\n",
    "vect = CountVectorizer()\n",
    "vect.fit(X_train)"
   ]
  },
  {
   "cell_type": "code",
   "execution_count": 97,
   "id": "c03e2881",
   "metadata": {},
   "outputs": [],
   "source": [
    "# Create a document-term matrix from train and test sets\n",
    "X_train_dtm = vect.transform(X_train)\n",
    "X_test_dtm = vect.transform(X_test)"
   ]
  },
  {
   "cell_type": "code",
   "execution_count": 98,
   "id": "866fa651",
   "metadata": {},
   "outputs": [
    {
     "data": {
      "text/plain": [
       "<4180x6917 sparse matrix of type '<class 'numpy.int64'>'\n",
       "\twith 35458 stored elements in Compressed Sparse Row format>"
      ]
     },
     "execution_count": 98,
     "metadata": {},
     "output_type": "execute_result"
    }
   ],
   "source": [
    "X_train_dtm"
   ]
  },
  {
   "cell_type": "markdown",
   "id": "9b74d726",
   "metadata": {},
   "source": [
    "### Tuning Count Vectorizer"
   ]
  },
  {
   "cell_type": "markdown",
   "id": "72908a75",
   "metadata": {},
   "source": [
    "- max_df:\n",
    "    float in range [0.0, 1.0] or int, default=1.0\n",
    "    \n",
    "    When building the vocabulary ignore terms that have a document frequency strictly higher than the given threshold (corpus-specific stop words). If float, the parameter represents a proportion of documents, integer absolute counts. This parameter is ignored if vocabulary is not None.\n",
    "    \n",
    "\n",
    "- min_df: \n",
    "    float in range [0.0, 1.0] or int, default=1\n",
    "    \n",
    "    When building the vocabulary ignore terms that have a document frequency strictly lower than the given threshold. This value is also called cut-off in the literature. If float, the parameter represents a proportion of documents, integer absolute counts. This parameter is ignored if vocabulary is not None.\n",
    "    \n",
    "    \n",
    "- max_features:\n",
    "    int, default=None\n",
    "    If not None, build a vocabulary that only consider the top max_features ordered by term frequency across the corpus.This parameter is ignored if vocabulary is not None."
   ]
  },
  {
   "cell_type": "markdown",
   "id": "86b6d820",
   "metadata": {},
   "source": [
    "### Manually selecting features"
   ]
  },
  {
   "cell_type": "code",
   "execution_count": 99,
   "id": "69d7bc9e",
   "metadata": {},
   "outputs": [],
   "source": [
    "vect_tuned = CountVectorizer(stop_words='english',\n",
    "                              ngram_range=(1,2),\n",
    "                              min_df=0, \n",
    "                              max_df=0.8,\n",
    "                              max_features=1000)"
   ]
  },
  {
   "cell_type": "code",
   "execution_count": 100,
   "id": "a81a2771",
   "metadata": {
    "scrolled": true
   },
   "outputs": [
    {
     "data": {
      "text/plain": [
       "CountVectorizer(max_df=0.8, max_features=1000, min_df=0, ngram_range=(1, 2),\n",
       "                stop_words='english')"
      ]
     },
     "execution_count": 100,
     "metadata": {},
     "output_type": "execute_result"
    }
   ],
   "source": [
    "vect_tuned.fit(X_train)"
   ]
  },
  {
   "cell_type": "code",
   "execution_count": 101,
   "id": "9d3246a6",
   "metadata": {},
   "outputs": [],
   "source": [
    "# Create a document-term matrix from train and test sets\n",
    "X_train_dtm_tuned = vect_tuned.transform(X_train)\n",
    "X_test_dtm_tuned = vect_tuned.transform(X_test)"
   ]
  },
  {
   "cell_type": "markdown",
   "id": "e3eafd4a",
   "metadata": {},
   "source": [
    "### Using GridSearchCV to select best parameters"
   ]
  },
  {
   "cell_type": "code",
   "execution_count": 102,
   "id": "72f71c4c",
   "metadata": {},
   "outputs": [],
   "source": [
    "pipeline = Pipeline([\n",
    "           ('vect', TfidfVectorizer()),\n",
    "           ('clf', MultinomialNB()),\n",
    "])\n",
    "parameters = [{\n",
    "    'vect__max_df': (0.5, 0.75, 1.0),\n",
    "    'vect__max_features': (None, 5000, 10000, 50000),\n",
    "    'vect__ngram_range': ((1, 1), (1, 2), (1,3),), \n",
    "    'clf__alpha': (0.00001, 0.000001),\n",
    "},{\n",
    "    'vect': ([CountVectorizer()]),\n",
    "    'clf__alpha': (0.00001, 0.000001),\n",
    "\n",
    "}]"
   ]
  },
  {
   "cell_type": "code",
   "execution_count": 103,
   "id": "607452ec",
   "metadata": {},
   "outputs": [],
   "source": [
    "grid_search = GridSearchCV(pipeline, parameters)"
   ]
  },
  {
   "cell_type": "code",
   "execution_count": 104,
   "id": "f9bc626d",
   "metadata": {},
   "outputs": [
    {
     "data": {
      "text/plain": [
       "dict_keys(['memory', 'steps', 'verbose', 'vect', 'clf', 'vect__analyzer', 'vect__binary', 'vect__decode_error', 'vect__dtype', 'vect__encoding', 'vect__input', 'vect__lowercase', 'vect__max_df', 'vect__max_features', 'vect__min_df', 'vect__ngram_range', 'vect__norm', 'vect__preprocessor', 'vect__smooth_idf', 'vect__stop_words', 'vect__strip_accents', 'vect__sublinear_tf', 'vect__token_pattern', 'vect__tokenizer', 'vect__use_idf', 'vect__vocabulary', 'clf__alpha', 'clf__class_prior', 'clf__fit_prior'])"
      ]
     },
     "execution_count": 104,
     "metadata": {},
     "output_type": "execute_result"
    }
   ],
   "source": [
    "grid_search.estimator.get_params().keys()"
   ]
  },
  {
   "cell_type": "code",
   "execution_count": 105,
   "id": "e260639a",
   "metadata": {},
   "outputs": [
    {
     "data": {
      "text/plain": [
       "GridSearchCV(estimator=Pipeline(steps=[('vect', TfidfVectorizer()),\n",
       "                                       ('clf', MultinomialNB())]),\n",
       "             param_grid=[{'clf__alpha': (1e-05, 1e-06),\n",
       "                          'vect__max_df': (0.5, 0.75, 1.0),\n",
       "                          'vect__max_features': (None, 5000, 10000, 50000),\n",
       "                          'vect__ngram_range': ((1, 1), (1, 2), (1, 3))},\n",
       "                         {'clf__alpha': (1e-05, 1e-06),\n",
       "                          'vect': [CountVectorizer()]}])"
      ]
     },
     "execution_count": 105,
     "metadata": {},
     "output_type": "execute_result"
    }
   ],
   "source": [
    "grid_search.fit(X_train, y_train)"
   ]
  },
  {
   "cell_type": "code",
   "execution_count": 106,
   "id": "ba86cc11",
   "metadata": {},
   "outputs": [
    {
     "name": "stdout",
     "output_type": "stream",
     "text": [
      "{'clf__alpha': 1e-05, 'vect__max_df': 0.5, 'vect__max_features': None, 'vect__ngram_range': (1, 2)}\n"
     ]
    }
   ],
   "source": [
    "print(grid_search.best_params_)"
   ]
  },
  {
   "cell_type": "markdown",
   "id": "7ea80e7d",
   "metadata": {},
   "source": [
    "## Training a Multinomial Naive Bayes model on vectorized data"
   ]
  },
  {
   "cell_type": "markdown",
   "id": "48b843f5",
   "metadata": {},
   "source": [
    "#### Why Multinomial Naive Bayes ?\n",
    "\n",
    "The Multinomial Naive Bayes algorithm is a Bayesian learning approach popular in Natural Language Processing (NLP). The program guesses the tag of a text, such as an email or a newspaper story, using the Bayes theorem. It calculates each tag's likelihood for a given sample and outputs the tag with the greatest chance.\n",
    "\n",
    "In our case, we have a frequency as a feature. In such a scenario, we use multinomial Naive Bayes. It ignores the non-occurrence of the features. So, if you have frequency 0 then the probability of occurrence of that feature will be 0 hence multinomial naive Bayes ignores that feature."
   ]
  },
  {
   "cell_type": "code",
   "execution_count": 107,
   "id": "24821225",
   "metadata": {},
   "outputs": [
    {
     "data": {
      "text/plain": [
       "MultinomialNB()"
      ]
     },
     "execution_count": 107,
     "metadata": {},
     "output_type": "execute_result"
    }
   ],
   "source": [
    "# Create a Multinomial Naive Bayes model\n",
    "nb = MultinomialNB()\n",
    "\n",
    "# Train the model\n",
    "nb.fit(X_train_dtm, y_train)"
   ]
  },
  {
   "cell_type": "code",
   "execution_count": 108,
   "id": "247f80ca",
   "metadata": {},
   "outputs": [],
   "source": [
    "# Make class and probability predictions\n",
    "y_pred_class = nb.predict(X_test_dtm)\n",
    "y_pred_prob = nb.predict_proba(X_test_dtm)[:, 1]"
   ]
  },
  {
   "cell_type": "code",
   "execution_count": 109,
   "id": "99eec068",
   "metadata": {},
   "outputs": [
    {
     "name": "stdout",
     "output_type": "stream",
     "text": [
      "Accuracy score : 0.98\n",
      "Recall score : 0.96\n",
      "Precision score : 0.94\n",
      "F1 score : 0.93\n",
      "ROC_AUC Score : 0.98\n"
     ]
    },
    {
     "data": {
      "image/png": "[encoded data removed]",
      "text/plain": [
       "<Figure size 432x288 with 2 Axes>"
      ]
     },
     "metadata": {
      "needs_background": "light"
     },
     "output_type": "display_data"
    }
   ],
   "source": [
    "# calculate accuracy of class predictions\n",
    "print(\"Accuracy score : {:.2f}\".format(accuracy_score(y_test,y_pred_class)))\n",
    "\n",
    "# calculate recall of class predictions\n",
    "print(\"Recall score : {:.2f}\".format(recall_score(y_test,y_pred_class,average='macro',zero_division=True)))\n",
    "\n",
    "# calculate precision of class predictions\n",
    "print(\"Precision score : {:.2f}\".format(precision_score(y_test,y_pred_class,zero_division = True)))\n",
    "\n",
    "# calculate f1 score of class predictions\n",
    "print(\"F1 score : {:.2f}\".format(f1_score(y_test,y_pred_class,zero_division=True)))\n",
    "\n",
    "# calculate ROC_AUC score of class predictions\n",
    "print(\"ROC_AUC Score : {:.2f}\".format(roc_auc_score(y_test,y_pred_prob)))\n",
    "\n",
    "# Create confusion matrix\n",
    "dtcm = metrics.confusion_matrix(y_test, y_pred_class)\n",
    "dis = ConfusionMatrixDisplay(dtcm,display_labels=[\"Ham\",\"Spam\"])\n",
    "dis.plot(cmap=plt.cm.Blues)\n",
    "plt.show()"
   ]
  },
  {
   "cell_type": "markdown",
   "id": "5cdc14a1",
   "metadata": {},
   "source": [
    "## Training a Multinomial Naive Bayes model on manualy tuned vectorized data"
   ]
  },
  {
   "cell_type": "code",
   "execution_count": 110,
   "id": "bd47e4e6",
   "metadata": {},
   "outputs": [
    {
     "data": {
      "text/plain": [
       "MultinomialNB()"
      ]
     },
     "execution_count": 110,
     "metadata": {},
     "output_type": "execute_result"
    }
   ],
   "source": [
    "nb_t = MultinomialNB()\n",
    "\n",
    "# Train the model\n",
    "nb_t.fit(X_train_dtm_tuned, y_train)"
   ]
  },
  {
   "cell_type": "code",
   "execution_count": 111,
   "id": "99a8b5bc",
   "metadata": {},
   "outputs": [],
   "source": [
    "# Make class and probability predictions\n",
    "y_pred_class = nb_t.predict(X_test_dtm_tuned)\n",
    "y_pred_prob = nb_t.predict_proba(X_test_dtm_tuned)[:, 1]"
   ]
  },
  {
   "cell_type": "code",
   "execution_count": 112,
   "id": "91fdf2ba",
   "metadata": {},
   "outputs": [
    {
     "name": "stdout",
     "output_type": "stream",
     "text": [
      "Accuracy score : 0.98\n",
      "Recall score : 0.95\n",
      "Precision score : 0.91\n",
      "F1 score : 0.91\n",
      "ROC_AUC Score : 0.98\n"
     ]
    },
    {
     "data": {
      "image/png": "[encoded data removed]",
      "text/plain": [
       "<Figure size 432x288 with 2 Axes>"
      ]
     },
     "metadata": {
      "needs_background": "light"
     },
     "output_type": "display_data"
    }
   ],
   "source": [
    "# calculate accuracy of class predictions\n",
    "print(\"Accuracy score : {:.2f}\".format(accuracy_score(y_test,y_pred_class)))\n",
    "\n",
    "# calculate recall of class predictions\n",
    "print(\"Recall score : {:.2f}\".format(recall_score(y_test,y_pred_class,average='macro',zero_division=True)))\n",
    "\n",
    "# calculate precision of class predictions\n",
    "print(\"Precision score : {:.2f}\".format(precision_score(y_test,y_pred_class,zero_division = True)))\n",
    "\n",
    "# calculate f1 score of class predictions\n",
    "print(\"F1 score : {:.2f}\".format(f1_score(y_test,y_pred_class,zero_division=True)))\n",
    "\n",
    "# calculate ROC_AUC score of class predictions\n",
    "print(\"ROC_AUC Score : {:.2f}\".format(roc_auc_score(y_test,y_pred_prob)))\n",
    "\n",
    "# Create confusion matrix\n",
    "dtcm = metrics.confusion_matrix(y_test, y_pred_class)\n",
    "dis = ConfusionMatrixDisplay(dtcm,display_labels=[\"Ham\",\"Spam\"])\n",
    "dis.plot(cmap=plt.cm.Blues)\n",
    "plt.show()"
   ]
  },
  {
   "cell_type": "markdown",
   "id": "638116e9",
   "metadata": {},
   "source": [
    "## Training a Multinomial Naive Bayes model on Grid Search tuned vectorized data"
   ]
  },
  {
   "cell_type": "code",
   "execution_count": 113,
   "id": "6d7951e7",
   "metadata": {},
   "outputs": [],
   "source": [
    "# Make class and probability predictions\n",
    "y_pred_class = grid_search.predict(X_test)\n",
    "y_pred_prob = grid_search.predict_proba(X_test)[:, 1]"
   ]
  },
  {
   "cell_type": "code",
   "execution_count": 114,
   "id": "a4df0d28",
   "metadata": {},
   "outputs": [
    {
     "name": "stdout",
     "output_type": "stream",
     "text": [
      "Accuracy score : 0.98\n",
      "Recall score : 0.95\n",
      "Precision score : 0.96\n",
      "F1 score : 0.93\n",
      "ROC_AUC Score : 0.98\n"
     ]
    },
    {
     "data": {
      "image/png": "[encoded data removed]",
      "text/plain": [
       "<Figure size 432x288 with 2 Axes>"
      ]
     },
     "metadata": {
      "needs_background": "light"
     },
     "output_type": "display_data"
    }
   ],
   "source": [
    "# calculate accuracy of class predictions\n",
    "print(\"Accuracy score : {:.2f}\".format(accuracy_score(y_test,y_pred_class)))\n",
    "\n",
    "# calculate recall of class predictions\n",
    "print(\"Recall score : {:.2f}\".format(recall_score(y_test,y_pred_class,average='macro',zero_division=True)))\n",
    "\n",
    "# calculate precision of class predictions\n",
    "print(\"Precision score : {:.2f}\".format(precision_score(y_test,y_pred_class,zero_division = True)))\n",
    "\n",
    "# calculate f1 score of class predictions\n",
    "print(\"F1 score : {:.2f}\".format(f1_score(y_test,y_pred_class,zero_division=True)))\n",
    "\n",
    "# calculate ROC_AUC score of class predictions\n",
    "print(\"ROC_AUC Score : {:.2f}\".format(roc_auc_score(y_test,y_pred_prob)))\n",
    "\n",
    "# Create confusion matrix\n",
    "dtcm = metrics.confusion_matrix(y_test, y_pred_class)\n",
    "dis = ConfusionMatrixDisplay(dtcm,display_labels=[\"Ham\",\"Spam\"])\n",
    "dis.plot(cmap=plt.cm.Blues)\n",
    "plt.show()"
   ]
  },
  {
   "cell_type": "markdown",
   "id": "65b0734b",
   "metadata": {},
   "source": [
    "##### Observation:\n",
    "\n",
    "When GridSearchCV was used, the precision score improved to 0.96."
   ]
  },
  {
   "cell_type": "markdown",
   "id": "e9e4e05d",
   "metadata": {},
   "source": [
    "## Train Test Split using lemmatized data"
   ]
  },
  {
   "cell_type": "code",
   "execution_count": 115,
   "id": "cb461ff5",
   "metadata": {},
   "outputs": [
    {
     "name": "stdout",
     "output_type": "stream",
     "text": [
      "4180 4180\n",
      "1394 1394\n"
     ]
    }
   ],
   "source": [
    "# Split into train and test sets\n",
    "\n",
    "X_train, X_test, y_train, y_test = train_test_split(\n",
    "    df_lem['lem'],\n",
    "    df_lem['spam'],\n",
    "    random_state=42)\n",
    "print(len(X_train), len(y_train))\n",
    "print(len(X_test), len(y_test))"
   ]
  },
  {
   "cell_type": "code",
   "execution_count": 116,
   "id": "dd0d4978",
   "metadata": {},
   "outputs": [
    {
     "data": {
      "text/plain": [
       "CountVectorizer()"
      ]
     },
     "execution_count": 116,
     "metadata": {},
     "output_type": "execute_result"
    }
   ],
   "source": [
    "# instantiate the vectorizer\n",
    "vect = CountVectorizer()\n",
    "vect.fit(X_train)"
   ]
  },
  {
   "cell_type": "code",
   "execution_count": 117,
   "id": "34aea43f",
   "metadata": {},
   "outputs": [],
   "source": [
    "# Create a document-term matrix from train and test sets\n",
    "X_train_dtm = vect.transform(X_train)\n",
    "X_test_dtm = vect.transform(X_test)"
   ]
  },
  {
   "cell_type": "code",
   "execution_count": 118,
   "id": "16f09c5c",
   "metadata": {},
   "outputs": [
    {
     "data": {
      "text/plain": [
       "<4180x7586 sparse matrix of type '<class 'numpy.int64'>'\n",
       "\twith 35524 stored elements in Compressed Sparse Row format>"
      ]
     },
     "execution_count": 118,
     "metadata": {},
     "output_type": "execute_result"
    }
   ],
   "source": [
    "X_train_dtm"
   ]
  },
  {
   "cell_type": "markdown",
   "id": "d231034a",
   "metadata": {},
   "source": [
    "### Manually selecting features"
   ]
  },
  {
   "cell_type": "code",
   "execution_count": 119,
   "id": "0ad08062",
   "metadata": {},
   "outputs": [],
   "source": [
    "vect_tuned = CountVectorizer(stop_words='english',\n",
    "                              ngram_range=(1,2),\n",
    "                              min_df=0, \n",
    "                              max_df=0.8,\n",
    "                              max_features=1000)"
   ]
  },
  {
   "cell_type": "code",
   "execution_count": 120,
   "id": "c013f576",
   "metadata": {
    "scrolled": true
   },
   "outputs": [
    {
     "data": {
      "text/plain": [
       "CountVectorizer(max_df=0.8, max_features=1000, min_df=0, ngram_range=(1, 2),\n",
       "                stop_words='english')"
      ]
     },
     "execution_count": 120,
     "metadata": {},
     "output_type": "execute_result"
    }
   ],
   "source": [
    "vect_tuned.fit(X_train)"
   ]
  },
  {
   "cell_type": "code",
   "execution_count": 121,
   "id": "cef9e72d",
   "metadata": {},
   "outputs": [],
   "source": [
    "# Create a document-term matrix from train and test sets\n",
    "X_train_dtm_tuned = vect_tuned.transform(X_train)\n",
    "X_test_dtm_tuned = vect_tuned.transform(X_test)"
   ]
  },
  {
   "cell_type": "markdown",
   "id": "6d16b2a5",
   "metadata": {},
   "source": [
    "### Using GridSearchCV to select best parameters"
   ]
  },
  {
   "cell_type": "code",
   "execution_count": 122,
   "id": "6826f9b4",
   "metadata": {},
   "outputs": [],
   "source": [
    "pipeline = Pipeline([\n",
    "           ('vect', TfidfVectorizer()),\n",
    "           ('clf', MultinomialNB()),\n",
    "])\n",
    "parameters = [{\n",
    "    'vect__max_df': (0.5, 0.75, 1.0),\n",
    "    'vect__max_features': (None, 5000, 10000, 50000),\n",
    "    'vect__ngram_range': ((1, 1), (1, 2), (1,3),(1,4)), \n",
    "    'clf__alpha': (0.00001, 0.000001),\n",
    "},{\n",
    "    'vect': ([CountVectorizer()]),\n",
    "    'clf__alpha': (0.00001, 0.000001),\n",
    "\n",
    "}]"
   ]
  },
  {
   "cell_type": "code",
   "execution_count": 123,
   "id": "9d049491",
   "metadata": {},
   "outputs": [],
   "source": [
    "grid_search = GridSearchCV(pipeline, parameters)"
   ]
  },
  {
   "cell_type": "code",
   "execution_count": 124,
   "id": "1775727d",
   "metadata": {},
   "outputs": [
    {
     "data": {
      "text/plain": [
       "dict_keys(['memory', 'steps', 'verbose', 'vect', 'clf', 'vect__analyzer', 'vect__binary', 'vect__decode_error', 'vect__dtype', 'vect__encoding', 'vect__input', 'vect__lowercase', 'vect__max_df', 'vect__max_features', 'vect__min_df', 'vect__ngram_range', 'vect__norm', 'vect__preprocessor', 'vect__smooth_idf', 'vect__stop_words', 'vect__strip_accents', 'vect__sublinear_tf', 'vect__token_pattern', 'vect__tokenizer', 'vect__use_idf', 'vect__vocabulary', 'clf__alpha', 'clf__class_prior', 'clf__fit_prior'])"
      ]
     },
     "execution_count": 124,
     "metadata": {},
     "output_type": "execute_result"
    }
   ],
   "source": [
    "grid_search.estimator.get_params().keys()"
   ]
  },
  {
   "cell_type": "code",
   "execution_count": 125,
   "id": "ff5228f1",
   "metadata": {},
   "outputs": [
    {
     "data": {
      "text/plain": [
       "GridSearchCV(estimator=Pipeline(steps=[('vect', TfidfVectorizer()),\n",
       "                                       ('clf', MultinomialNB())]),\n",
       "             param_grid=[{'clf__alpha': (1e-05, 1e-06),\n",
       "                          'vect__max_df': (0.5, 0.75, 1.0),\n",
       "                          'vect__max_features': (None, 5000, 10000, 50000),\n",
       "                          'vect__ngram_range': ((1, 1), (1, 2), (1, 3),\n",
       "                                                (1, 4))},\n",
       "                         {'clf__alpha': (1e-05, 1e-06),\n",
       "                          'vect': [CountVectorizer()]}])"
      ]
     },
     "execution_count": 125,
     "metadata": {},
     "output_type": "execute_result"
    }
   ],
   "source": [
    "grid_search.fit(X_train, y_train)"
   ]
  },
  {
   "cell_type": "code",
   "execution_count": 126,
   "id": "bb17a31a",
   "metadata": {},
   "outputs": [
    {
     "name": "stdout",
     "output_type": "stream",
     "text": [
      "{'clf__alpha': 1e-05, 'vect__max_df': 0.5, 'vect__max_features': 50000, 'vect__ngram_range': (1, 4)}\n"
     ]
    }
   ],
   "source": [
    "print(grid_search.best_params_)"
   ]
  },
  {
   "cell_type": "markdown",
   "id": "cc0d773f",
   "metadata": {},
   "source": [
    "## Training a Multinomial Naive Bayes model on vectorized data"
   ]
  },
  {
   "cell_type": "code",
   "execution_count": 127,
   "id": "2673378c",
   "metadata": {},
   "outputs": [
    {
     "data": {
      "text/plain": [
       "MultinomialNB()"
      ]
     },
     "execution_count": 127,
     "metadata": {},
     "output_type": "execute_result"
    }
   ],
   "source": [
    "# Create a Multinomial Naive Bayes model\n",
    "from sklearn.naive_bayes import MultinomialNB\n",
    "nb = MultinomialNB()\n",
    "\n",
    "# Train the model\n",
    "nb.fit(X_train_dtm, y_train)"
   ]
  },
  {
   "cell_type": "code",
   "execution_count": 128,
   "id": "37497a63",
   "metadata": {},
   "outputs": [],
   "source": [
    "# Make class and probability predictions\n",
    "y_pred_class = nb.predict(X_test_dtm)\n",
    "y_pred_prob = nb.predict_proba(X_test_dtm)[:, 1]"
   ]
  },
  {
   "cell_type": "code",
   "execution_count": 129,
   "id": "84664aaf",
   "metadata": {},
   "outputs": [
    {
     "name": "stdout",
     "output_type": "stream",
     "text": [
      "Accuracy score : 0.98\n",
      "Recall score : 0.96\n",
      "Precision score : 0.94\n",
      "F1 score : 0.93\n",
      "ROC_AUC Score : 0.98\n"
     ]
    },
    {
     "data": {
      "image/png": "[encoded data removed]",
      "text/plain": [
       "<Figure size 432x288 with 2 Axes>"
      ]
     },
     "metadata": {
      "needs_background": "light"
     },
     "output_type": "display_data"
    }
   ],
   "source": [
    "# calculate accuracy of class predictions\n",
    "print(\"Accuracy score : {:.2f}\".format(accuracy_score(y_test,y_pred_class)))\n",
    "\n",
    "# calculate recall of class predictions\n",
    "print(\"Recall score : {:.2f}\".format(recall_score(y_test,y_pred_class,average='macro',zero_division=True)))\n",
    "\n",
    "# calculate precision of class predictions\n",
    "print(\"Precision score : {:.2f}\".format(precision_score(y_test,y_pred_class,zero_division = True)))\n",
    "\n",
    "# calculate f1 score of class predictions\n",
    "print(\"F1 score : {:.2f}\".format(f1_score(y_test,y_pred_class,zero_division=True)))\n",
    "\n",
    "# calculate ROC_AUC score of class predictions\n",
    "print(\"ROC_AUC Score : {:.2f}\".format(roc_auc_score(y_test,y_pred_prob)))\n",
    "\n",
    "# Create confusion matrix\n",
    "dtcm = sklearn.metrics.confusion_matrix(y_test, y_pred_class)\n",
    "dis = ConfusionMatrixDisplay(dtcm,display_labels=[\"Ham\",\"Spam\"])\n",
    "dis.plot(cmap=plt.cm.Blues)\n",
    "plt.show()"
   ]
  },
  {
   "cell_type": "markdown",
   "id": "1e300cd3",
   "metadata": {},
   "source": [
    "## Training a Multinomial Naive Bayes model on manualy tuned vectorized data"
   ]
  },
  {
   "cell_type": "code",
   "execution_count": 130,
   "id": "101b02cd",
   "metadata": {},
   "outputs": [
    {
     "data": {
      "text/plain": [
       "MultinomialNB()"
      ]
     },
     "execution_count": 130,
     "metadata": {},
     "output_type": "execute_result"
    }
   ],
   "source": [
    "nb_t = MultinomialNB()\n",
    "\n",
    "# Train the model\n",
    "nb_t.fit(X_train_dtm_tuned, y_train)"
   ]
  },
  {
   "cell_type": "code",
   "execution_count": 131,
   "id": "0183269d",
   "metadata": {},
   "outputs": [],
   "source": [
    "# Make class and probability predictions\n",
    "y_pred_class = nb_t.predict(X_test_dtm_tuned)\n",
    "y_pred_prob = nb_t.predict_proba(X_test_dtm_tuned)[:, 1]"
   ]
  },
  {
   "cell_type": "code",
   "execution_count": 132,
   "id": "d1fe82c2",
   "metadata": {},
   "outputs": [
    {
     "name": "stdout",
     "output_type": "stream",
     "text": [
      "Accuracy score : 0.98\n",
      "Recall score : 0.94\n",
      "Precision score : 0.92\n",
      "F1 score : 0.91\n",
      "ROC_AUC Score : 0.97\n"
     ]
    },
    {
     "data": {
      "image/png": "[encoded data removed]",
      "text/plain": [
       "<Figure size 432x288 with 2 Axes>"
      ]
     },
     "metadata": {
      "needs_background": "light"
     },
     "output_type": "display_data"
    }
   ],
   "source": [
    "# calculate accuracy of class predictions\n",
    "print(\"Accuracy score : {:.2f}\".format(accuracy_score(y_test,y_pred_class)))\n",
    "\n",
    "# calculate recall of class predictions\n",
    "print(\"Recall score : {:.2f}\".format(recall_score(y_test,y_pred_class,average='macro',zero_division=True)))\n",
    "\n",
    "# calculate precision of class predictions\n",
    "print(\"Precision score : {:.2f}\".format(precision_score(y_test,y_pred_class,zero_division = True)))\n",
    "\n",
    "# calculate f1 score of class predictions\n",
    "print(\"F1 score : {:.2f}\".format(f1_score(y_test,y_pred_class,zero_division=True)))\n",
    "\n",
    "# calculate ROC_AUC score of class predictions\n",
    "print(\"ROC_AUC Score : {:.2f}\".format(roc_auc_score(y_test,y_pred_prob)))\n",
    "\n",
    "# Create confusion matrix\n",
    "dtcm = sklearn.metrics.confusion_matrix(y_test, y_pred_class)\n",
    "dis = ConfusionMatrixDisplay(dtcm,display_labels=[\"Ham\",\"Spam\"])\n",
    "dis.plot(cmap=plt.cm.Blues)\n",
    "plt.show()\n",
    "\n"
   ]
  },
  {
   "cell_type": "markdown",
   "id": "2e32b34a",
   "metadata": {},
   "source": [
    "## Training a Multinomial Naive Bayes model on Grid Search tuned vectorized data"
   ]
  },
  {
   "cell_type": "code",
   "execution_count": 133,
   "id": "891eda0d",
   "metadata": {},
   "outputs": [],
   "source": [
    "# Make class and probability predictions\n",
    "y_pred_class = grid_search.predict(X_test)\n",
    "y_pred_prob = grid_search.predict_proba(X_test)[:, 1]"
   ]
  },
  {
   "cell_type": "code",
   "execution_count": 134,
   "id": "7696476f",
   "metadata": {},
   "outputs": [
    {
     "name": "stdout",
     "output_type": "stream",
     "text": [
      "Accuracy score : 0.98\n",
      "Recall score : 0.95\n",
      "Precision score : 0.96\n",
      "F1 score : 0.93\n",
      "ROC_AUC Score : 0.98\n"
     ]
    },
    {
     "data": {
      "image/png": "[encoded data removed]",
      "text/plain": [
       "<Figure size 432x288 with 2 Axes>"
      ]
     },
     "metadata": {
      "needs_background": "light"
     },
     "output_type": "display_data"
    }
   ],
   "source": [
    "# calculate accuracy of class predictions\n",
    "print(\"Accuracy score : {:.2f}\".format(accuracy_score(y_test,y_pred_class)))\n",
    "\n",
    "# calculate recall of class predictions\n",
    "print(\"Recall score : {:.2f}\".format(recall_score(y_test,y_pred_class,average='macro',zero_division=True)))\n",
    "\n",
    "# calculate precision of class predictions\n",
    "print(\"Precision score : {:.2f}\".format(precision_score(y_test,y_pred_class,zero_division = True)))\n",
    "\n",
    "# calculate f1 score of class predictions\n",
    "print(\"F1 score : {:.2f}\".format(f1_score(y_test,y_pred_class,zero_division=True)))\n",
    "\n",
    "# calculate ROC_AUC score of class predictions\n",
    "print(\"ROC_AUC Score : {:.2f}\".format(roc_auc_score(y_test,y_pred_prob)))\n",
    "\n",
    "# Create confusion matrix\n",
    "dtcm = sklearn.metrics.confusion_matrix(y_test, y_pred_class)\n",
    "dis = ConfusionMatrixDisplay(dtcm,display_labels=[\"Ham\",\"Spam\"])\n",
    "dis.plot(cmap=plt.cm.Blues)\n",
    "plt.show()"
   ]
  },
  {
   "cell_type": "markdown",
   "id": "f312ad16",
   "metadata": {},
   "source": [
    "##### Observation:\n",
    "\n",
    "The stemming and lemmitization both are giving same results currently. Therefore will use stemming since it is quicker and takes up lesser storage space."
   ]
  },
  {
   "cell_type": "markdown",
   "id": "75fa1f67",
   "metadata": {},
   "source": [
    "### KNN"
   ]
  },
  {
   "cell_type": "markdown",
   "id": "5ed7579e",
   "metadata": {},
   "source": [
    "The abbreviation KNN stands for “K-Nearest Neighbour”. It is a supervised machine learning algorithm. The algorithm can be used to solve both classification and regression problem statements. The number of nearest neighbours to a new unknown variable that has to be predicted or classified is denoted by the symbol 'K'."
   ]
  },
  {
   "cell_type": "code",
   "execution_count": 135,
   "id": "ee88dfcd",
   "metadata": {},
   "outputs": [],
   "source": [
    "from sklearn.neighbors import KNeighborsClassifier"
   ]
  },
  {
   "cell_type": "code",
   "execution_count": 136,
   "id": "41f0c038",
   "metadata": {},
   "outputs": [
    {
     "data": {
      "text/plain": [
       "KNeighborsClassifier()"
      ]
     },
     "execution_count": 136,
     "metadata": {},
     "output_type": "execute_result"
    }
   ],
   "source": [
    "kn = KNeighborsClassifier()\n",
    "\n",
    "# Train the model\n",
    "kn.fit(X_train_dtm_tuned, y_train)"
   ]
  },
  {
   "cell_type": "code",
   "execution_count": 137,
   "id": "964f0351",
   "metadata": {},
   "outputs": [],
   "source": [
    "# Make class and probability predictions\n",
    "y_pred_class = kn.predict(X_test_dtm_tuned)\n",
    "y_pred_prob = kn.predict_proba(X_test_dtm_tuned)[:, 1]"
   ]
  },
  {
   "cell_type": "code",
   "execution_count": 138,
   "id": "b369884f",
   "metadata": {},
   "outputs": [
    {
     "name": "stdout",
     "output_type": "stream",
     "text": [
      "Accuracy score : 0.93\n",
      "Recall score : 0.74\n",
      "Precision score : 0.96\n",
      "F1 score : 0.65\n",
      "ROC_AUC Score : 0.90\n"
     ]
    },
    {
     "data": {
      "image/png": "[encoded data removed]",
      "text/plain": [
       "<Figure size 432x288 with 2 Axes>"
      ]
     },
     "metadata": {
      "needs_background": "light"
     },
     "output_type": "display_data"
    }
   ],
   "source": [
    "# calculate accuracy of class predictions\n",
    "print(\"Accuracy score : {:.2f}\".format(accuracy_score(y_test,y_pred_class)))\n",
    "\n",
    "# calculate recall of class predictions\n",
    "print(\"Recall score : {:.2f}\".format(recall_score(y_test,y_pred_class,average='macro',zero_division=True)))\n",
    "\n",
    "# calculate precision of class predictions\n",
    "print(\"Precision score : {:.2f}\".format(precision_score(y_test,y_pred_class,zero_division = True)))\n",
    "\n",
    "# calculate f1 score of class predictions\n",
    "print(\"F1 score : {:.2f}\".format(f1_score(y_test,y_pred_class,zero_division=True)))\n",
    "\n",
    "# calculate ROC_AUC score of class predictions\n",
    "print(\"ROC_AUC Score : {:.2f}\".format(roc_auc_score(y_test,y_pred_prob)))\n",
    "\n",
    "# Create confusion matrix\n",
    "dtcm = sklearn.metrics.confusion_matrix(y_test, y_pred_class)\n",
    "dis = ConfusionMatrixDisplay(dtcm,display_labels=[\"Ham\",\"Spam\"])\n",
    "dis.plot(cmap=plt.cm.Blues)\n",
    "plt.show()\n"
   ]
  },
  {
   "cell_type": "markdown",
   "id": "3917fa58",
   "metadata": {},
   "source": [
    "### Hyperparameter tuning to improve recall"
   ]
  },
  {
   "cell_type": "code",
   "execution_count": 171,
   "id": "7eb30236",
   "metadata": {},
   "outputs": [
    {
     "name": "stdout",
     "output_type": "stream",
     "text": [
      "Fitting 10 folds for each of 2842 candidates, totalling 28420 fits\n"
     ]
    },
    {
     "data": {
      "text/plain": [
       "GridSearchCV(cv=10, estimator=KNeighborsClassifier(), n_jobs=-1,\n",
       "             param_grid={'leaf_size': [1, 2, 3, 4, 5, 6, 7, 8, 9, 10, 11, 12,\n",
       "                                       13, 14, 15, 16, 17, 18, 19, 20, 21, 22,\n",
       "                                       23, 24, 25, 26, 27, 28, 29, 30, ...],\n",
       "                         'n_neighbors': [1, 2, 3, 4, 5, 6, 7, 8, 9, 10, 11, 12,\n",
       "                                         13, 14, 15, 16, 17, 18, 19, 20, 21, 22,\n",
       "                                         23, 24, 25, 26, 27, 28, 29],\n",
       "                         'p': [1, 2]},\n",
       "             verbose=1)"
      ]
     },
     "execution_count": 171,
     "metadata": {},
     "output_type": "execute_result"
    }
   ],
   "source": [
    "leaf_size = list(range(1,50))\n",
    "n_neighbors = list(range(1,30))\n",
    "p=[1,2]\n",
    "hyperparameters =  dict(leaf_size=leaf_size, n_neighbors=n_neighbors, p=p)\n",
    "knn_2 = KNeighborsClassifier()\n",
    "\n",
    "clf = GridSearchCV(knn_2, hyperparameters, cv=10,n_jobs=-1, verbose=1)\n",
    "\n",
    "clf.fit(X_train_dtm_tuned, y_train)"
   ]
  },
  {
   "cell_type": "code",
   "execution_count": 172,
   "id": "6fc2909c",
   "metadata": {},
   "outputs": [
    {
     "name": "stdout",
     "output_type": "stream",
     "text": [
      "Best leaf_size: 1\n",
      "Best p: 2\n",
      "Best n_neighbors: 1\n"
     ]
    }
   ],
   "source": [
    "#Print The value of best Hyperparameters\n",
    "print('Best leaf_size:', clf.best_estimator_.get_params()['leaf_size'])\n",
    "print('Best p:', clf.best_estimator_.get_params()['p'])\n",
    "print('Best n_neighbors:', clf.best_estimator_.get_params()['n_neighbors'])"
   ]
  },
  {
   "cell_type": "code",
   "execution_count": 173,
   "id": "ff305946",
   "metadata": {},
   "outputs": [],
   "source": [
    "# Make class and probability predictions\n",
    "y_pred_class = clf.predict(X_test_dtm_tuned)\n",
    "y_pred_prob = clf.predict_proba(X_test_dtm_tuned)[:, 1]"
   ]
  },
  {
   "cell_type": "code",
   "execution_count": 175,
   "id": "5cfff1cc",
   "metadata": {},
   "outputs": [
    {
     "data": {
      "image/png": "[encoded data removed]",
      "text/plain": [
       "<Figure size 432x288 with 1 Axes>"
      ]
     },
     "metadata": {
      "needs_background": "light"
     },
     "output_type": "display_data"
    }
   ],
   "source": [
    "import sklearn.metrics as metrics\n",
    "# calculate the fpr and tpr for all thresholds of the classification\n",
    "fpr, tpr, threshold = metrics.roc_curve(y_test, y_pred_prob)\n",
    "roc_auc = metrics.auc(fpr, tpr)\n",
    "\n",
    "# method I: plt\n",
    "import matplotlib.pyplot as plt\n",
    "plt.title('Receiver Operating Characteristic')\n",
    "plt.plot(fpr, tpr, 'b', label = 'AUC = %0.2f' % roc_auc)\n",
    "plt.legend(loc = 'lower right')\n",
    "plt.plot([0, 1], [0, 1],'r--')\n",
    "plt.xlim([0, 1])\n",
    "plt.ylim([0, 1])\n",
    "plt.ylabel('True Positive Rate')\n",
    "plt.xlabel('False Positive Rate')\n",
    "plt.show()"
   ]
  },
  {
   "cell_type": "code",
   "execution_count": 142,
   "id": "78ad654f",
   "metadata": {},
   "outputs": [
    {
     "name": "stdout",
     "output_type": "stream",
     "text": [
      "Accuracy score : 0.96\n",
      "Recall score : 0.87\n",
      "Precision score : 0.92\n",
      "F1 score : 0.83\n",
      "ROC_AUC Score : 0.87\n"
     ]
    },
    {
     "data": {
      "image/png": "[encoded data removed]",
      "text/plain": [
       "<Figure size 432x288 with 2 Axes>"
      ]
     },
     "metadata": {
      "needs_background": "light"
     },
     "output_type": "display_data"
    }
   ],
   "source": [
    "# calculate accuracy of class predictions\n",
    "print(\"Accuracy score : {:.2f}\".format(accuracy_score(y_test,y_pred_class)))\n",
    "\n",
    "# calculate recall of class predictions\n",
    "print(\"Recall score : {:.2f}\".format(recall_score(y_test,y_pred_class,average='macro',zero_division=True)))\n",
    "\n",
    "# calculate precision of class predictions\n",
    "print(\"Precision score : {:.2f}\".format(precision_score(y_test,y_pred_class,zero_division = True)))\n",
    "\n",
    "# calculate f1 score of class predictions\n",
    "print(\"F1 score : {:.2f}\".format(f1_score(y_test,y_pred_class,zero_division=True)))\n",
    "\n",
    "# calculate ROC_AUC score of class predictions\n",
    "print(\"ROC_AUC Score : {:.2f}\".format(roc_auc_score(y_test,y_pred_prob)))\n",
    "\n",
    "# Create confusion matrix\n",
    "dtcm = sklearn.metrics.confusion_matrix(y_test, y_pred_class)\n",
    "dis = ConfusionMatrixDisplay(dtcm,display_labels=[\"Ham\",\"Spam\"])\n",
    "dis.plot(cmap=plt.cm.Blues)\n",
    "plt.show()"
   ]
  },
  {
   "cell_type": "markdown",
   "id": "c737b167",
   "metadata": {},
   "source": [
    "I could improve Recall score from 0.74 to 0.87 and therefore the F1 score by a huge margin from 0.65 to 0.83 after hyperparameter tuning.  "
   ]
  },
  {
   "cell_type": "markdown",
   "id": "ade935a0",
   "metadata": {},
   "source": [
    "## Using stemmed data"
   ]
  },
  {
   "cell_type": "code",
   "execution_count": 143,
   "id": "e2d6f8bb",
   "metadata": {},
   "outputs": [
    {
     "name": "stdout",
     "output_type": "stream",
     "text": [
      "4180 4180\n",
      "1394 1394\n"
     ]
    }
   ],
   "source": [
    "# Split into train and test sets\n",
    "\n",
    "X_train, X_test, y_train, y_test = train_test_split(\n",
    "    df_stem['stem'],\n",
    "    df_stem['spam'],\n",
    "    random_state=42)\n",
    "print(len(X_train), len(y_train))\n",
    "print(len(X_test), len(y_test))"
   ]
  },
  {
   "cell_type": "markdown",
   "id": "305850eb",
   "metadata": {},
   "source": [
    "### Using GridSearchCV to select best parameters"
   ]
  },
  {
   "cell_type": "code",
   "execution_count": 155,
   "id": "2eaeac74",
   "metadata": {},
   "outputs": [],
   "source": [
    "pipeline = Pipeline([\n",
    "           ('vect', TfidfVectorizer()),\n",
    "           ('clf', KNeighborsClassifier()),\n",
    "])\n",
    "parameters = [{\n",
    "    'vect__max_df': (0.5, 0.75, 1.0),\n",
    "    'vect__max_features': (None, 5000, 10000, 50000),\n",
    "    'vect__ngram_range': ((1, 1), (1, 2), (1,3),),\n",
    "    'clf__leaf_size': (1,2,3),\n",
    "    'clf__n_neighbors':(1,2,3),\n",
    "    'clf__p':(1,2,3)\n",
    "}\n",
    "]\n"
   ]
  },
  {
   "cell_type": "code",
   "execution_count": 156,
   "id": "0e60500b",
   "metadata": {},
   "outputs": [],
   "source": [
    "grid_search = GridSearchCV(pipeline, parameters)"
   ]
  },
  {
   "cell_type": "code",
   "execution_count": 157,
   "id": "5e5a2086",
   "metadata": {},
   "outputs": [
    {
     "data": {
      "text/plain": [
       "dict_keys(['memory', 'steps', 'verbose', 'vect', 'clf', 'vect__analyzer', 'vect__binary', 'vect__decode_error', 'vect__dtype', 'vect__encoding', 'vect__input', 'vect__lowercase', 'vect__max_df', 'vect__max_features', 'vect__min_df', 'vect__ngram_range', 'vect__norm', 'vect__preprocessor', 'vect__smooth_idf', 'vect__stop_words', 'vect__strip_accents', 'vect__sublinear_tf', 'vect__token_pattern', 'vect__tokenizer', 'vect__use_idf', 'vect__vocabulary', 'clf__algorithm', 'clf__leaf_size', 'clf__metric', 'clf__metric_params', 'clf__n_jobs', 'clf__n_neighbors', 'clf__p', 'clf__weights'])"
      ]
     },
     "execution_count": 157,
     "metadata": {},
     "output_type": "execute_result"
    }
   ],
   "source": [
    "grid_search.estimator.get_params().keys()"
   ]
  },
  {
   "cell_type": "code",
   "execution_count": 158,
   "id": "255e1e12",
   "metadata": {},
   "outputs": [
    {
     "data": {
      "text/plain": [
       "GridSearchCV(estimator=Pipeline(steps=[('vect', TfidfVectorizer()),\n",
       "                                       ('clf', KNeighborsClassifier())]),\n",
       "             param_grid=[{'clf__leaf_size': (1, 2, 3),\n",
       "                          'clf__n_neighbors': (1, 2, 3), 'clf__p': (1, 2, 3),\n",
       "                          'vect__max_df': (0.5, 0.75, 1.0),\n",
       "                          'vect__max_features': (None, 5000, 10000, 50000),\n",
       "                          'vect__ngram_range': ((1, 1), (1, 2), (1, 3))}])"
      ]
     },
     "execution_count": 158,
     "metadata": {},
     "output_type": "execute_result"
    }
   ],
   "source": [
    "grid_search.fit(X_train, y_train)"
   ]
  },
  {
   "cell_type": "code",
   "execution_count": 159,
   "id": "d1aca0be",
   "metadata": {},
   "outputs": [
    {
     "name": "stdout",
     "output_type": "stream",
     "text": [
      "{'clf__leaf_size': 1, 'clf__n_neighbors': 1, 'clf__p': 2, 'vect__max_df': 0.5, 'vect__max_features': 5000, 'vect__ngram_range': (1, 3)}\n"
     ]
    }
   ],
   "source": [
    "print(grid_search.best_params_)"
   ]
  },
  {
   "cell_type": "code",
   "execution_count": 160,
   "id": "bf1d8eb9",
   "metadata": {},
   "outputs": [],
   "source": [
    "# Make class and probability predictions\n",
    "y_pred_class = grid_search.predict(X_test)\n",
    "y_pred_prob = grid_search.predict_proba(X_test)[:, 1]"
   ]
  },
  {
   "cell_type": "code",
   "execution_count": 168,
   "id": "08d3191f",
   "metadata": {},
   "outputs": [
    {
     "data": {
      "image/png": "[encoded data removed]",
      "text/plain": [
       "<Figure size 432x288 with 1 Axes>"
      ]
     },
     "metadata": {
      "needs_background": "light"
     },
     "output_type": "display_data"
    }
   ],
   "source": [
    "import sklearn.metrics as metrics\n",
    "# calculate the fpr and tpr for all thresholds of the classification\n",
    "probs = grid_search.predict_proba(X_test)\n",
    "preds = probs[:,1]\n",
    "fpr, tpr, threshold = metrics.roc_curve(y_test, preds)\n",
    "roc_auc = metrics.auc(fpr, tpr)\n",
    "\n",
    "# method I: plt\n",
    "import matplotlib.pyplot as plt\n",
    "plt.title('Receiver Operating Characteristic')\n",
    "plt.plot(fpr, tpr, 'b', label = 'AUC = %0.2f' % roc_auc)\n",
    "plt.legend(loc = 'lower right')\n",
    "plt.plot([0, 1], [0, 1],'r--')\n",
    "plt.xlim([0, 1])\n",
    "plt.ylim([0, 1])\n",
    "plt.ylabel('True Positive Rate')\n",
    "plt.xlabel('False Positive Rate')\n",
    "plt.show()"
   ]
  },
  {
   "cell_type": "code",
   "execution_count": 166,
   "id": "126534f6",
   "metadata": {},
   "outputs": [
    {
     "name": "stdout",
     "output_type": "stream",
     "text": [
      "Accuracy score : 0.95\n",
      "Recall score : 0.84\n",
      "Precision score : 0.98\n",
      "F1 score : 0.81\n",
      "ROC_AUC Score : 0.84\n"
     ]
    },
    {
     "data": {
      "image/png": "[encoded data removed]",
      "text/plain": [
       "<Figure size 432x288 with 2 Axes>"
      ]
     },
     "metadata": {
      "needs_background": "light"
     },
     "output_type": "display_data"
    }
   ],
   "source": [
    "# calculate accuracy of class predictions\n",
    "print(\"Accuracy score : {:.2f}\".format(accuracy_score(y_test,y_pred_class)))\n",
    "\n",
    "# calculate recall of class predictions\n",
    "print(\"Recall score : {:.2f}\".format(recall_score(y_test,y_pred_class,average='macro',zero_division=True)))\n",
    "\n",
    "# calculate precision of class predictions\n",
    "print(\"Precision score : {:.2f}\".format(precision_score(y_test,y_pred_class,zero_division = True)))\n",
    "\n",
    "# calculate f1 score of class predictions\n",
    "print(\"F1 score : {:.2f}\".format(f1_score(y_test,y_pred_class,zero_division=True)))\n",
    "\n",
    "# calculate ROC_AUC score of class predictions\n",
    "print(\"ROC_AUC Score : {:.2f}\".format(roc_auc_score(y_test,y_pred_prob)))\n",
    "\n",
    "# Create confusion matrix\n",
    "dtcm = sklearn.metrics.confusion_matrix(y_test, y_pred_class)\n",
    "dis = ConfusionMatrixDisplay(dtcm,display_labels=[\"Ham\",\"Spam\"])\n",
    "dis.plot(cmap=plt.cm.Blues)\n",
    "plt.show()"
   ]
  }
 ],
 "metadata": {
  "kernelspec": {
   "display_name": "Python 3 (ipykernel)",
   "language": "python",
   "name": "python3"
  },
  "language_info": {
   "codemirror_mode": {
    "name": "ipython",
    "version": 3
   },
   "file_extension": ".py",
   "mimetype": "text/x-python",
   "name": "python",
   "nbconvert_exporter": "python",
   "pygments_lexer": "ipython3",
   "version": "3.7.0"
  }
 },
 "nbformat": 4,
 "nbformat_minor": 5
}
