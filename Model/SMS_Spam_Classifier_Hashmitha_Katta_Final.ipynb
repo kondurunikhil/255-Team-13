{
  "cells": [
    {
      "cell_type": "markdown",
      "metadata": {
        "id": "60c34f5f"
      },
      "source": [
        "# Importing Libraries"
      ],
      "id": "60c34f5f"
    },
    {
      "cell_type": "code",
      "execution_count": 2,
      "metadata": {
        "id": "93d9efc6"
      },
      "outputs": [],
      "source": [
        "import warnings\n",
        "import matplotlib.pyplot as plt\n",
        "import seaborn as sns\n",
        "import numpy as np \n",
        "import pandas as pd\n",
        "import re"
      ],
      "id": "93d9efc6"
    },
    {
      "cell_type": "markdown",
      "metadata": {
        "id": "9687e29b"
      },
      "source": [
        "# Loading data"
      ],
      "id": "9687e29b"
    },
    {
      "cell_type": "code",
      "execution_count": 3,
      "metadata": {
        "colab": {
          "base_uri": "https://localhost:8080/",
          "height": 206
        },
        "id": "07d0160e",
        "outputId": "0fc396f3-9825-4f6b-9395-91adc4ae93b8"
      },
      "outputs": [
        {
          "output_type": "execute_result",
          "data": {
            "text/plain": [
              "  Class                                         input Text\n",
              "0   ham  Go until jurong point, crazy.. Available only ...\n",
              "1   ham                      Ok lar... Joking wif u oni...\n",
              "2  spam  Free entry in 2 a wkly comp to win FA Cup fina...\n",
              "3   ham  U dun say so early hor... U c already then say...\n",
              "4   ham  Nah I don't think he goes to usf, he lives aro..."
            ],
            "text/html": [
              "\n",
              "  <div id=\"df-db4ab442-0698-4a16-9f4b-5b92dbc36625\">\n",
              "    <div class=\"colab-df-container\">\n",
              "      <div>\n",
              "<style scoped>\n",
              "    .dataframe tbody tr th:only-of-type {\n",
              "        vertical-align: middle;\n",
              "    }\n",
              "\n",
              "    .dataframe tbody tr th {\n",
              "        vertical-align: top;\n",
              "    }\n",
              "\n",
              "    .dataframe thead th {\n",
              "        text-align: right;\n",
              "    }\n",
              "</style>\n",
              "<table border=\"1\" class=\"dataframe\">\n",
              "  <thead>\n",
              "    <tr style=\"text-align: right;\">\n",
              "      <th></th>\n",
              "      <th>Class</th>\n",
              "      <th>input Text</th>\n",
              "    </tr>\n",
              "  </thead>\n",
              "  <tbody>\n",
              "    <tr>\n",
              "      <th>0</th>\n",
              "      <td>ham</td>\n",
              "      <td>Go until jurong point, crazy.. Available only ...</td>\n",
              "    </tr>\n",
              "    <tr>\n",
              "      <th>1</th>\n",
              "      <td>ham</td>\n",
              "      <td>Ok lar... Joking wif u oni...</td>\n",
              "    </tr>\n",
              "    <tr>\n",
              "      <th>2</th>\n",
              "      <td>spam</td>\n",
              "      <td>Free entry in 2 a wkly comp to win FA Cup fina...</td>\n",
              "    </tr>\n",
              "    <tr>\n",
              "      <th>3</th>\n",
              "      <td>ham</td>\n",
              "      <td>U dun say so early hor... U c already then say...</td>\n",
              "    </tr>\n",
              "    <tr>\n",
              "      <th>4</th>\n",
              "      <td>ham</td>\n",
              "      <td>Nah I don't think he goes to usf, he lives aro...</td>\n",
              "    </tr>\n",
              "  </tbody>\n",
              "</table>\n",
              "</div>\n",
              "      <button class=\"colab-df-convert\" onclick=\"convertToInteractive('df-db4ab442-0698-4a16-9f4b-5b92dbc36625')\"\n",
              "              title=\"Convert this dataframe to an interactive table.\"\n",
              "              style=\"display:none;\">\n",
              "        \n",
              "  <svg xmlns=\"http://www.w3.org/2000/svg\" height=\"24px\"viewBox=\"0 0 24 24\"\n",
              "       width=\"24px\">\n",
              "    <path d=\"M0 0h24v24H0V0z\" fill=\"none\"/>\n",
              "    <path d=\"M18.56 5.44l.94 2.06.94-2.06 2.06-.94-2.06-.94-.94-2.06-.94 2.06-2.06.94zm-11 1L8.5 8.5l.94-2.06 2.06-.94-2.06-.94L8.5 2.5l-.94 2.06-2.06.94zm10 10l.94 2.06.94-2.06 2.06-.94-2.06-.94-.94-2.06-.94 2.06-2.06.94z\"/><path d=\"M17.41 7.96l-1.37-1.37c-.4-.4-.92-.59-1.43-.59-.52 0-1.04.2-1.43.59L10.3 9.45l-7.72 7.72c-.78.78-.78 2.05 0 2.83L4 21.41c.39.39.9.59 1.41.59.51 0 1.02-.2 1.41-.59l7.78-7.78 2.81-2.81c.8-.78.8-2.07 0-2.86zM5.41 20L4 18.59l7.72-7.72 1.47 1.35L5.41 20z\"/>\n",
              "  </svg>\n",
              "      </button>\n",
              "      \n",
              "  <style>\n",
              "    .colab-df-container {\n",
              "      display:flex;\n",
              "      flex-wrap:wrap;\n",
              "      gap: 12px;\n",
              "    }\n",
              "\n",
              "    .colab-df-convert {\n",
              "      background-color: #E8F0FE;\n",
              "      border: none;\n",
              "      border-radius: 50%;\n",
              "      cursor: pointer;\n",
              "      display: none;\n",
              "      fill: #1967D2;\n",
              "      height: 32px;\n",
              "      padding: 0 0 0 0;\n",
              "      width: 32px;\n",
              "    }\n",
              "\n",
              "    .colab-df-convert:hover {\n",
              "      background-color: #E2EBFA;\n",
              "      box-shadow: 0px 1px 2px rgba(60, 64, 67, 0.3), 0px 1px 3px 1px rgba(60, 64, 67, 0.15);\n",
              "      fill: #174EA6;\n",
              "    }\n",
              "\n",
              "    [theme=dark] .colab-df-convert {\n",
              "      background-color: #3B4455;\n",
              "      fill: #D2E3FC;\n",
              "    }\n",
              "\n",
              "    [theme=dark] .colab-df-convert:hover {\n",
              "      background-color: #434B5C;\n",
              "      box-shadow: 0px 1px 3px 1px rgba(0, 0, 0, 0.15);\n",
              "      filter: drop-shadow(0px 1px 2px rgba(0, 0, 0, 0.3));\n",
              "      fill: #FFFFFF;\n",
              "    }\n",
              "  </style>\n",
              "\n",
              "      <script>\n",
              "        const buttonEl =\n",
              "          document.querySelector('#df-db4ab442-0698-4a16-9f4b-5b92dbc36625 button.colab-df-convert');\n",
              "        buttonEl.style.display =\n",
              "          google.colab.kernel.accessAllowed ? 'block' : 'none';\n",
              "\n",
              "        async function convertToInteractive(key) {\n",
              "          const element = document.querySelector('#df-db4ab442-0698-4a16-9f4b-5b92dbc36625');\n",
              "          const dataTable =\n",
              "            await google.colab.kernel.invokeFunction('convertToInteractive',\n",
              "                                                     [key], {});\n",
              "          if (!dataTable) return;\n",
              "\n",
              "          const docLinkHtml = 'Like what you see? Visit the ' +\n",
              "            '<a target=\"_blank\" href=https://colab.research.google.com/notebooks/data_table.ipynb>data table notebook</a>'\n",
              "            + ' to learn more about interactive tables.';\n",
              "          element.innerHTML = '';\n",
              "          dataTable['output_type'] = 'display_data';\n",
              "          await google.colab.output.renderOutput(dataTable, element);\n",
              "          const docLink = document.createElement('div');\n",
              "          docLink.innerHTML = docLinkHtml;\n",
              "          element.appendChild(docLink);\n",
              "        }\n",
              "      </script>\n",
              "    </div>\n",
              "  </div>\n",
              "  "
            ]
          },
          "metadata": {},
          "execution_count": 3
        }
      ],
      "source": [
        "data = pd.read_csv(\"spamSMS.csv\")\n",
        "data.head()"
      ],
      "id": "07d0160e"
    },
    {
      "cell_type": "markdown",
      "metadata": {
        "id": "fc097130"
      },
      "source": [
        "# Data visualization"
      ],
      "id": "fc097130"
    },
    {
      "cell_type": "code",
      "execution_count": 4,
      "metadata": {
        "colab": {
          "base_uri": "https://localhost:8080/"
        },
        "id": "998c2b9f",
        "outputId": "739b7a83-1ce9-4116-b8f8-cd9ed5e352e9"
      },
      "outputs": [
        {
          "output_type": "execute_result",
          "data": {
            "text/plain": [
              "(5574, 2)"
            ]
          },
          "metadata": {},
          "execution_count": 4
        }
      ],
      "source": [
        "data.shape"
      ],
      "id": "998c2b9f"
    },
    {
      "cell_type": "code",
      "execution_count": 5,
      "metadata": {
        "colab": {
          "base_uri": "https://localhost:8080/"
        },
        "id": "d7cca0f6",
        "outputId": "50ff3db9-be30-4900-9620-e90d34265160"
      },
      "outputs": [
        {
          "output_type": "stream",
          "name": "stdout",
          "text": [
            "<class 'pandas.core.frame.DataFrame'>\n",
            "RangeIndex: 5574 entries, 0 to 5573\n",
            "Data columns (total 2 columns):\n",
            " #   Column      Non-Null Count  Dtype \n",
            "---  ------      --------------  ----- \n",
            " 0   Class       5574 non-null   object\n",
            " 1   input Text  5574 non-null   object\n",
            "dtypes: object(2)\n",
            "memory usage: 87.2+ KB\n"
          ]
        }
      ],
      "source": [
        "data.info()"
      ],
      "id": "d7cca0f6"
    },
    {
      "cell_type": "code",
      "execution_count": 6,
      "metadata": {
        "colab": {
          "base_uri": "https://localhost:8080/",
          "height": 175
        },
        "id": "c8d5f579",
        "outputId": "1e8a167c-3e0d-486b-fe2d-fac1ff966e5f"
      },
      "outputs": [
        {
          "output_type": "execute_result",
          "data": {
            "text/plain": [
              "       Class              input Text\n",
              "count   5574                    5574\n",
              "unique     2                    5171\n",
              "top      ham  Sorry, I'll call later\n",
              "freq    4827                      30"
            ],
            "text/html": [
              "\n",
              "  <div id=\"df-71851ae5-4277-4214-8519-7235768f04ca\">\n",
              "    <div class=\"colab-df-container\">\n",
              "      <div>\n",
              "<style scoped>\n",
              "    .dataframe tbody tr th:only-of-type {\n",
              "        vertical-align: middle;\n",
              "    }\n",
              "\n",
              "    .dataframe tbody tr th {\n",
              "        vertical-align: top;\n",
              "    }\n",
              "\n",
              "    .dataframe thead th {\n",
              "        text-align: right;\n",
              "    }\n",
              "</style>\n",
              "<table border=\"1\" class=\"dataframe\">\n",
              "  <thead>\n",
              "    <tr style=\"text-align: right;\">\n",
              "      <th></th>\n",
              "      <th>Class</th>\n",
              "      <th>input Text</th>\n",
              "    </tr>\n",
              "  </thead>\n",
              "  <tbody>\n",
              "    <tr>\n",
              "      <th>count</th>\n",
              "      <td>5574</td>\n",
              "      <td>5574</td>\n",
              "    </tr>\n",
              "    <tr>\n",
              "      <th>unique</th>\n",
              "      <td>2</td>\n",
              "      <td>5171</td>\n",
              "    </tr>\n",
              "    <tr>\n",
              "      <th>top</th>\n",
              "      <td>ham</td>\n",
              "      <td>Sorry, I'll call later</td>\n",
              "    </tr>\n",
              "    <tr>\n",
              "      <th>freq</th>\n",
              "      <td>4827</td>\n",
              "      <td>30</td>\n",
              "    </tr>\n",
              "  </tbody>\n",
              "</table>\n",
              "</div>\n",
              "      <button class=\"colab-df-convert\" onclick=\"convertToInteractive('df-71851ae5-4277-4214-8519-7235768f04ca')\"\n",
              "              title=\"Convert this dataframe to an interactive table.\"\n",
              "              style=\"display:none;\">\n",
              "        \n",
              "  <svg xmlns=\"http://www.w3.org/2000/svg\" height=\"24px\"viewBox=\"0 0 24 24\"\n",
              "       width=\"24px\">\n",
              "    <path d=\"M0 0h24v24H0V0z\" fill=\"none\"/>\n",
              "    <path d=\"M18.56 5.44l.94 2.06.94-2.06 2.06-.94-2.06-.94-.94-2.06-.94 2.06-2.06.94zm-11 1L8.5 8.5l.94-2.06 2.06-.94-2.06-.94L8.5 2.5l-.94 2.06-2.06.94zm10 10l.94 2.06.94-2.06 2.06-.94-2.06-.94-.94-2.06-.94 2.06-2.06.94z\"/><path d=\"M17.41 7.96l-1.37-1.37c-.4-.4-.92-.59-1.43-.59-.52 0-1.04.2-1.43.59L10.3 9.45l-7.72 7.72c-.78.78-.78 2.05 0 2.83L4 21.41c.39.39.9.59 1.41.59.51 0 1.02-.2 1.41-.59l7.78-7.78 2.81-2.81c.8-.78.8-2.07 0-2.86zM5.41 20L4 18.59l7.72-7.72 1.47 1.35L5.41 20z\"/>\n",
              "  </svg>\n",
              "      </button>\n",
              "      \n",
              "  <style>\n",
              "    .colab-df-container {\n",
              "      display:flex;\n",
              "      flex-wrap:wrap;\n",
              "      gap: 12px;\n",
              "    }\n",
              "\n",
              "    .colab-df-convert {\n",
              "      background-color: #E8F0FE;\n",
              "      border: none;\n",
              "      border-radius: 50%;\n",
              "      cursor: pointer;\n",
              "      display: none;\n",
              "      fill: #1967D2;\n",
              "      height: 32px;\n",
              "      padding: 0 0 0 0;\n",
              "      width: 32px;\n",
              "    }\n",
              "\n",
              "    .colab-df-convert:hover {\n",
              "      background-color: #E2EBFA;\n",
              "      box-shadow: 0px 1px 2px rgba(60, 64, 67, 0.3), 0px 1px 3px 1px rgba(60, 64, 67, 0.15);\n",
              "      fill: #174EA6;\n",
              "    }\n",
              "\n",
              "    [theme=dark] .colab-df-convert {\n",
              "      background-color: #3B4455;\n",
              "      fill: #D2E3FC;\n",
              "    }\n",
              "\n",
              "    [theme=dark] .colab-df-convert:hover {\n",
              "      background-color: #434B5C;\n",
              "      box-shadow: 0px 1px 3px 1px rgba(0, 0, 0, 0.15);\n",
              "      filter: drop-shadow(0px 1px 2px rgba(0, 0, 0, 0.3));\n",
              "      fill: #FFFFFF;\n",
              "    }\n",
              "  </style>\n",
              "\n",
              "      <script>\n",
              "        const buttonEl =\n",
              "          document.querySelector('#df-71851ae5-4277-4214-8519-7235768f04ca button.colab-df-convert');\n",
              "        buttonEl.style.display =\n",
              "          google.colab.kernel.accessAllowed ? 'block' : 'none';\n",
              "\n",
              "        async function convertToInteractive(key) {\n",
              "          const element = document.querySelector('#df-71851ae5-4277-4214-8519-7235768f04ca');\n",
              "          const dataTable =\n",
              "            await google.colab.kernel.invokeFunction('convertToInteractive',\n",
              "                                                     [key], {});\n",
              "          if (!dataTable) return;\n",
              "\n",
              "          const docLinkHtml = 'Like what you see? Visit the ' +\n",
              "            '<a target=\"_blank\" href=https://colab.research.google.com/notebooks/data_table.ipynb>data table notebook</a>'\n",
              "            + ' to learn more about interactive tables.';\n",
              "          element.innerHTML = '';\n",
              "          dataTable['output_type'] = 'display_data';\n",
              "          await google.colab.output.renderOutput(dataTable, element);\n",
              "          const docLink = document.createElement('div');\n",
              "          docLink.innerHTML = docLinkHtml;\n",
              "          element.appendChild(docLink);\n",
              "        }\n",
              "      </script>\n",
              "    </div>\n",
              "  </div>\n",
              "  "
            ]
          },
          "metadata": {},
          "execution_count": 6
        }
      ],
      "source": [
        "data.describe()"
      ],
      "id": "c8d5f579"
    },
    {
      "cell_type": "code",
      "execution_count": 7,
      "metadata": {
        "colab": {
          "base_uri": "https://localhost:8080/",
          "height": 298
        },
        "id": "638cb28f",
        "outputId": "43a206b5-ae74-40c0-c78d-ae00846da4c4"
      },
      "outputs": [
        {
          "output_type": "execute_result",
          "data": {
            "text/plain": [
              "Text(0, 0.5, 'Count')"
            ]
          },
          "metadata": {},
          "execution_count": 7
        },
        {
          "output_type": "display_data",
          "data": {
            "text/plain": [
              "<Figure size 432x288 with 1 Axes>"
            ],
            "image/png": "[encoded data removed]"
          },
          "metadata": {
            "needs_background": "light"
          }
        }
      ],
      "source": [
        "#Checking if the data is imbalanced or not\n",
        "cols= [\"#00FFFF\", \"#FFC0CB\"] #colour palette\n",
        "bar = sns.countplot(x= data[\"Class\"], palette= cols)\n",
        "bar.set_xlabel(\"Classes\")\n",
        "bar.set_ylabel(\"Count\")"
      ],
      "id": "638cb28f"
    },
    {
      "cell_type": "markdown",
      "metadata": {
        "id": "9648e986"
      },
      "source": [
        "Hence, The data imbalance is quite evident here."
      ],
      "id": "9648e986"
    },
    {
      "cell_type": "markdown",
      "metadata": {
        "id": "1ea19f8a"
      },
      "source": [
        "**FEATURE ENGINEERING**"
      ],
      "id": "1ea19f8a"
    },
    {
      "cell_type": "markdown",
      "metadata": {
        "id": "73bf804b"
      },
      "source": [
        "**To explore and get to know data better I am creating more features(columns)**\n",
        "- No_of_Char = Number of characters in the input text\n",
        "- No_of_Word = Number of words in the input text\n",
        "- No_of_sen  = Number of sentences in the input text"
      ],
      "id": "73bf804b"
    },
    {
      "cell_type": "code",
      "execution_count": 8,
      "metadata": {
        "id": "1c793759"
      },
      "outputs": [],
      "source": [
        "import nltk"
      ],
      "id": "1c793759"
    },
    {
      "cell_type": "code",
      "execution_count": 9,
      "metadata": {
        "colab": {
          "base_uri": "https://localhost:8080/"
        },
        "id": "E7_PMvadVKra",
        "outputId": "cddb7b6e-fa83-496e-bb4d-445913b881f8"
      },
      "outputs": [
        {
          "output_type": "stream",
          "name": "stdout",
          "text": [
            "[nltk_data] Downloading package punkt to /root/nltk_data...\n",
            "[nltk_data]   Package punkt is already up-to-date!\n"
          ]
        },
        {
          "output_type": "execute_result",
          "data": {
            "text/plain": [
              "True"
            ]
          },
          "metadata": {},
          "execution_count": 9
        }
      ],
      "source": [
        "nltk.download('punkt')"
      ],
      "id": "E7_PMvadVKra"
    },
    {
      "cell_type": "code",
      "execution_count": 10,
      "metadata": {
        "id": "9d6e5c9e"
      },
      "outputs": [],
      "source": [
        "from nltk.corpus import stopwords\n",
        "from nltk.stem.porter import PorterStemmer\n",
        "from nltk.stem import WordNetLemmatizer"
      ],
      "id": "9d6e5c9e"
    },
    {
      "cell_type": "code",
      "execution_count": 11,
      "metadata": {
        "id": "3085a992"
      },
      "outputs": [],
      "source": [
        "data[\"No_of_Char\"] = data[\"input Text\"].apply(len)\n",
        "data[\"No_of_Words\"]=data.apply(lambda row: nltk.word_tokenize(row[\"input Text\"]), axis=1).apply(len)\n",
        "data[\"No_of_sen\"]=data.apply(lambda row: nltk.sent_tokenize(row[\"input Text\"]), axis=1).apply(len)"
      ],
      "id": "3085a992"
    },
    {
      "cell_type": "code",
      "execution_count": 12,
      "metadata": {
        "colab": {
          "base_uri": "https://localhost:8080/",
          "height": 206
        },
        "id": "5d114531",
        "outputId": "2c7e6560-749a-4e23-a005-1ebd75582942"
      },
      "outputs": [
        {
          "output_type": "execute_result",
          "data": {
            "text/plain": [
              "  Class                                         input Text  No_of_Char  \\\n",
              "0   ham  Go until jurong point, crazy.. Available only ...         111   \n",
              "1   ham                      Ok lar... Joking wif u oni...          29   \n",
              "2  spam  Free entry in 2 a wkly comp to win FA Cup fina...         155   \n",
              "3   ham  U dun say so early hor... U c already then say...          49   \n",
              "4   ham  Nah I don't think he goes to usf, he lives aro...          61   \n",
              "\n",
              "   No_of_Words  No_of_sen  \n",
              "0           23          2  \n",
              "1            8          2  \n",
              "2           37          2  \n",
              "3           13          1  \n",
              "4           15          1  "
            ],
            "text/html": [
              "\n",
              "  <div id=\"df-553ef463-d02a-4335-a053-d7866822d84a\">\n",
              "    <div class=\"colab-df-container\">\n",
              "      <div>\n",
              "<style scoped>\n",
              "    .dataframe tbody tr th:only-of-type {\n",
              "        vertical-align: middle;\n",
              "    }\n",
              "\n",
              "    .dataframe tbody tr th {\n",
              "        vertical-align: top;\n",
              "    }\n",
              "\n",
              "    .dataframe thead th {\n",
              "        text-align: right;\n",
              "    }\n",
              "</style>\n",
              "<table border=\"1\" class=\"dataframe\">\n",
              "  <thead>\n",
              "    <tr style=\"text-align: right;\">\n",
              "      <th></th>\n",
              "      <th>Class</th>\n",
              "      <th>input Text</th>\n",
              "      <th>No_of_Char</th>\n",
              "      <th>No_of_Words</th>\n",
              "      <th>No_of_sen</th>\n",
              "    </tr>\n",
              "  </thead>\n",
              "  <tbody>\n",
              "    <tr>\n",
              "      <th>0</th>\n",
              "      <td>ham</td>\n",
              "      <td>Go until jurong point, crazy.. Available only ...</td>\n",
              "      <td>111</td>\n",
              "      <td>23</td>\n",
              "      <td>2</td>\n",
              "    </tr>\n",
              "    <tr>\n",
              "      <th>1</th>\n",
              "      <td>ham</td>\n",
              "      <td>Ok lar... Joking wif u oni...</td>\n",
              "      <td>29</td>\n",
              "      <td>8</td>\n",
              "      <td>2</td>\n",
              "    </tr>\n",
              "    <tr>\n",
              "      <th>2</th>\n",
              "      <td>spam</td>\n",
              "      <td>Free entry in 2 a wkly comp to win FA Cup fina...</td>\n",
              "      <td>155</td>\n",
              "      <td>37</td>\n",
              "      <td>2</td>\n",
              "    </tr>\n",
              "    <tr>\n",
              "      <th>3</th>\n",
              "      <td>ham</td>\n",
              "      <td>U dun say so early hor... U c already then say...</td>\n",
              "      <td>49</td>\n",
              "      <td>13</td>\n",
              "      <td>1</td>\n",
              "    </tr>\n",
              "    <tr>\n",
              "      <th>4</th>\n",
              "      <td>ham</td>\n",
              "      <td>Nah I don't think he goes to usf, he lives aro...</td>\n",
              "      <td>61</td>\n",
              "      <td>15</td>\n",
              "      <td>1</td>\n",
              "    </tr>\n",
              "  </tbody>\n",
              "</table>\n",
              "</div>\n",
              "      <button class=\"colab-df-convert\" onclick=\"convertToInteractive('df-553ef463-d02a-4335-a053-d7866822d84a')\"\n",
              "              title=\"Convert this dataframe to an interactive table.\"\n",
              "              style=\"display:none;\">\n",
              "        \n",
              "  <svg xmlns=\"http://www.w3.org/2000/svg\" height=\"24px\"viewBox=\"0 0 24 24\"\n",
              "       width=\"24px\">\n",
              "    <path d=\"M0 0h24v24H0V0z\" fill=\"none\"/>\n",
              "    <path d=\"M18.56 5.44l.94 2.06.94-2.06 2.06-.94-2.06-.94-.94-2.06-.94 2.06-2.06.94zm-11 1L8.5 8.5l.94-2.06 2.06-.94-2.06-.94L8.5 2.5l-.94 2.06-2.06.94zm10 10l.94 2.06.94-2.06 2.06-.94-2.06-.94-.94-2.06-.94 2.06-2.06.94z\"/><path d=\"M17.41 7.96l-1.37-1.37c-.4-.4-.92-.59-1.43-.59-.52 0-1.04.2-1.43.59L10.3 9.45l-7.72 7.72c-.78.78-.78 2.05 0 2.83L4 21.41c.39.39.9.59 1.41.59.51 0 1.02-.2 1.41-.59l7.78-7.78 2.81-2.81c.8-.78.8-2.07 0-2.86zM5.41 20L4 18.59l7.72-7.72 1.47 1.35L5.41 20z\"/>\n",
              "  </svg>\n",
              "      </button>\n",
              "      \n",
              "  <style>\n",
              "    .colab-df-container {\n",
              "      display:flex;\n",
              "      flex-wrap:wrap;\n",
              "      gap: 12px;\n",
              "    }\n",
              "\n",
              "    .colab-df-convert {\n",
              "      background-color: #E8F0FE;\n",
              "      border: none;\n",
              "      border-radius: 50%;\n",
              "      cursor: pointer;\n",
              "      display: none;\n",
              "      fill: #1967D2;\n",
              "      height: 32px;\n",
              "      padding: 0 0 0 0;\n",
              "      width: 32px;\n",
              "    }\n",
              "\n",
              "    .colab-df-convert:hover {\n",
              "      background-color: #E2EBFA;\n",
              "      box-shadow: 0px 1px 2px rgba(60, 64, 67, 0.3), 0px 1px 3px 1px rgba(60, 64, 67, 0.15);\n",
              "      fill: #174EA6;\n",
              "    }\n",
              "\n",
              "    [theme=dark] .colab-df-convert {\n",
              "      background-color: #3B4455;\n",
              "      fill: #D2E3FC;\n",
              "    }\n",
              "\n",
              "    [theme=dark] .colab-df-convert:hover {\n",
              "      background-color: #434B5C;\n",
              "      box-shadow: 0px 1px 3px 1px rgba(0, 0, 0, 0.15);\n",
              "      filter: drop-shadow(0px 1px 2px rgba(0, 0, 0, 0.3));\n",
              "      fill: #FFFFFF;\n",
              "    }\n",
              "  </style>\n",
              "\n",
              "      <script>\n",
              "        const buttonEl =\n",
              "          document.querySelector('#df-553ef463-d02a-4335-a053-d7866822d84a button.colab-df-convert');\n",
              "        buttonEl.style.display =\n",
              "          google.colab.kernel.accessAllowed ? 'block' : 'none';\n",
              "\n",
              "        async function convertToInteractive(key) {\n",
              "          const element = document.querySelector('#df-553ef463-d02a-4335-a053-d7866822d84a');\n",
              "          const dataTable =\n",
              "            await google.colab.kernel.invokeFunction('convertToInteractive',\n",
              "                                                     [key], {});\n",
              "          if (!dataTable) return;\n",
              "\n",
              "          const docLinkHtml = 'Like what you see? Visit the ' +\n",
              "            '<a target=\"_blank\" href=https://colab.research.google.com/notebooks/data_table.ipynb>data table notebook</a>'\n",
              "            + ' to learn more about interactive tables.';\n",
              "          element.innerHTML = '';\n",
              "          dataTable['output_type'] = 'display_data';\n",
              "          await google.colab.output.renderOutput(dataTable, element);\n",
              "          const docLink = document.createElement('div');\n",
              "          docLink.innerHTML = docLinkHtml;\n",
              "          element.appendChild(docLink);\n",
              "        }\n",
              "      </script>\n",
              "    </div>\n",
              "  </div>\n",
              "  "
            ]
          },
          "metadata": {},
          "execution_count": 12
        }
      ],
      "source": [
        "data.head()"
      ],
      "id": "5d114531"
    },
    {
      "cell_type": "code",
      "execution_count": 13,
      "metadata": {
        "colab": {
          "base_uri": "https://localhost:8080/",
          "height": 568
        },
        "id": "b86f70e9",
        "outputId": "252725d0-7e99-4706-a68a-7c6c9fe13a3c"
      },
      "outputs": [
        {
          "output_type": "execute_result",
          "data": {
            "text/plain": [
              "<seaborn.axisgrid.PairGrid at 0x7f3d4ca0ded0>"
            ]
          },
          "metadata": {},
          "execution_count": 13
        },
        {
          "output_type": "display_data",
          "data": {
            "text/plain": [
              "<Figure size 603.25x540 with 12 Axes>"
            ],
            "image/png": "[encoded data removed]"
          },
          "metadata": {
            "needs_background": "light"
          }
        }
      ],
      "source": [
        "sns.pairplot(data=data, hue=\"Class\",palette=cols)"
      ],
      "id": "b86f70e9"
    },
    {
      "cell_type": "markdown",
      "metadata": {
        "id": "a41acf5c"
      },
      "source": [
        "Here, we can observe few outliners in the class 'Ham'. Hence, we can drop the outliners as they the same thing i.e length of the input text."
      ],
      "id": "a41acf5c"
    },
    {
      "cell_type": "markdown",
      "metadata": {
        "id": "f60b7439"
      },
      "source": [
        "# Data Preprocessing"
      ],
      "id": "f60b7439"
    },
    {
      "cell_type": "code",
      "execution_count": 14,
      "metadata": {
        "colab": {
          "base_uri": "https://localhost:8080/"
        },
        "id": "962e3a2d",
        "outputId": "a479547f-17ea-4f9d-c5e4-d1be9c051ddd"
      },
      "outputs": [
        {
          "output_type": "execute_result",
          "data": {
            "text/plain": [
              "(5550, 5)"
            ]
          },
          "metadata": {},
          "execution_count": 14
        }
      ],
      "source": [
        "data = data[(data[\"No_of_Char\"]<350)]\n",
        "data.shape"
      ],
      "id": "962e3a2d"
    },
    {
      "cell_type": "code",
      "execution_count": 15,
      "metadata": {
        "id": "5cc12d45"
      },
      "outputs": [],
      "source": [
        "#function to clean input text\n",
        "def clean_data(inputText):\n",
        "    text = re.sub('[^a-zA-Z]', ' ', inputText) #Replacing all non-alphabetic characters with a space\n",
        "    text = text.lower() #converting input to lowercase\n",
        "    text = text.split()\n",
        "    text = ' '.join(text)\n",
        "    return text"
      ],
      "id": "5cc12d45"
    },
    {
      "cell_type": "code",
      "execution_count": 16,
      "metadata": {
        "colab": {
          "base_uri": "https://localhost:8080/"
        },
        "id": "d6025bb5",
        "outputId": "1d683407-f3fe-456a-db12-3d9642eb1c91"
      },
      "outputs": [
        {
          "output_type": "stream",
          "name": "stderr",
          "text": [
            "/usr/local/lib/python3.7/dist-packages/ipykernel_launcher.py:2: SettingWithCopyWarning: \n",
            "A value is trying to be set on a copy of a slice from a DataFrame.\n",
            "Try using .loc[row_indexer,col_indexer] = value instead\n",
            "\n",
            "See the caveats in the documentation: https://pandas.pydata.org/pandas-docs/stable/user_guide/indexing.html#returning-a-view-versus-a-copy\n",
            "  \n"
          ]
        },
        {
          "output_type": "execute_result",
          "data": {
            "text/plain": [
              "0    go until jurong point crazy available only in ...\n",
              "1                              ok lar joking wif u oni\n",
              "2    free entry in a wkly comp to win fa cup final ...\n",
              "3          u dun say so early hor u c already then say\n",
              "4    nah i don t think he goes to usf he lives arou...\n",
              "Name: cleaned_text, dtype: object"
            ]
          },
          "metadata": {},
          "execution_count": 16
        }
      ],
      "source": [
        "#cleaning input text\n",
        "data[\"cleaned_text\"] = data[\"input Text\"].apply(clean_data)\n",
        "data[\"cleaned_text\"].head()"
      ],
      "id": "d6025bb5"
    },
    {
      "cell_type": "markdown",
      "metadata": {
        "id": "92c55cbf"
      },
      "source": [
        "**Here, I replaced all non-alphabetic characters with a space and converted the text to lower case**"
      ],
      "id": "92c55cbf"
    },
    {
      "cell_type": "code",
      "execution_count": 17,
      "metadata": {
        "colab": {
          "base_uri": "https://localhost:8080/"
        },
        "id": "55ef2c2c",
        "outputId": "ff436333-f904-4a99-b768-34f2d063a618"
      },
      "outputs": [
        {
          "output_type": "stream",
          "name": "stderr",
          "text": [
            "/usr/local/lib/python3.7/dist-packages/ipykernel_launcher.py:2: SettingWithCopyWarning: \n",
            "A value is trying to be set on a copy of a slice from a DataFrame.\n",
            "Try using .loc[row_indexer,col_indexer] = value instead\n",
            "\n",
            "See the caveats in the documentation: https://pandas.pydata.org/pandas-docs/stable/user_guide/indexing.html#returning-a-view-versus-a-copy\n",
            "  \n"
          ]
        },
        {
          "output_type": "execute_result",
          "data": {
            "text/plain": [
              "0    [go, until, jurong, point, crazy, available, o...\n",
              "1                       [ok, lar, joking, wif, u, oni]\n",
              "2    [free, entry, in, a, wkly, comp, to, win, fa, ...\n",
              "3    [u, dun, say, so, early, hor, u, c, already, t...\n",
              "4    [nah, i, don, t, think, he, goes, to, usf, he,...\n",
              "Name: Tokenized_Text, dtype: object"
            ]
          },
          "metadata": {},
          "execution_count": 17
        }
      ],
      "source": [
        "#Tokenization\n",
        "data[\"Tokenized_Text\"]=data.apply(lambda row: nltk.word_tokenize(row[\"cleaned_text\"]), axis=1)\n",
        "data[\"Tokenized_Text\"].head()"
      ],
      "id": "55ef2c2c"
    },
    {
      "cell_type": "markdown",
      "metadata": {
        "id": "9b7ba69c"
      },
      "source": [
        "**Here, I split the sentence into words(tokens) to remove stopwords in the next step.**"
      ],
      "id": "9b7ba69c"
    },
    {
      "cell_type": "code",
      "execution_count": 18,
      "metadata": {
        "id": "917aa8a9"
      },
      "outputs": [],
      "source": [
        "# function to Remove stopwords\n",
        "def removing_stopwords(text):\n",
        "    stop_words = set(stopwords.words(\"english\"))\n",
        "    filtered_text = [word for word in text if word not in stop_words]\n",
        "    return filtered_text"
      ],
      "id": "917aa8a9"
    },
    {
      "cell_type": "code",
      "execution_count": 19,
      "metadata": {
        "colab": {
          "base_uri": "https://localhost:8080/"
        },
        "id": "ba881c14",
        "outputId": "4b25485a-467c-423b-ad8d-2acc24baebd1"
      },
      "outputs": [
        {
          "output_type": "stream",
          "name": "stdout",
          "text": [
            "[nltk_data] Downloading package stopwords to /root/nltk_data...\n",
            "[nltk_data]   Package stopwords is already up-to-date!\n"
          ]
        },
        {
          "output_type": "execute_result",
          "data": {
            "text/plain": [
              "True"
            ]
          },
          "metadata": {},
          "execution_count": 19
        }
      ],
      "source": [
        "nltk.download('stopwords')"
      ],
      "id": "ba881c14"
    },
    {
      "cell_type": "code",
      "execution_count": 20,
      "metadata": {
        "colab": {
          "base_uri": "https://localhost:8080/"
        },
        "id": "a18f154a",
        "outputId": "d4c8e9b6-e1df-490c-b53e-b64518d98fac"
      },
      "outputs": [
        {
          "output_type": "stream",
          "name": "stderr",
          "text": [
            "/usr/local/lib/python3.7/dist-packages/ipykernel_launcher.py:1: SettingWithCopyWarning: \n",
            "A value is trying to be set on a copy of a slice from a DataFrame.\n",
            "Try using .loc[row_indexer,col_indexer] = value instead\n",
            "\n",
            "See the caveats in the documentation: https://pandas.pydata.org/pandas-docs/stable/user_guide/indexing.html#returning-a-view-versus-a-copy\n",
            "  \"\"\"Entry point for launching an IPython kernel.\n"
          ]
        },
        {
          "output_type": "execute_result",
          "data": {
            "text/plain": [
              "0    [go, jurong, point, crazy, available, bugis, n...\n",
              "1                       [ok, lar, joking, wif, u, oni]\n",
              "2    [free, entry, wkly, comp, win, fa, cup, final,...\n",
              "3        [u, dun, say, early, hor, u, c, already, say]\n",
              "4       [nah, think, goes, usf, lives, around, though]\n",
              "Name: No_stopword_Text, dtype: object"
            ]
          },
          "metadata": {},
          "execution_count": 20
        }
      ],
      "source": [
        "data[\"No_stopword_Text\"] = data[\"Tokenized_Text\"].apply(removing_stopwords)\n",
        "data[\"No_stopword_Text\"].head()"
      ],
      "id": "a18f154a"
    },
    {
      "cell_type": "markdown",
      "metadata": {
        "id": "590c63dc"
      },
      "source": [
        "**Stopwords give meaning to the sentence structure but do not contribute in NLP. so, I removed stopwords from the input text.**"
      ],
      "id": "590c63dc"
    },
    {
      "cell_type": "code",
      "execution_count": 21,
      "metadata": {
        "id": "88856884"
      },
      "outputs": [],
      "source": [
        "lemmatizer = WordNetLemmatizer()\n",
        "\n",
        "def lemmatization(text):\n",
        "    lemmas = [lemmatizer.lemmatize(word, pos ='v') for word in text]\n",
        "    return lemmas"
      ],
      "id": "88856884"
    },
    {
      "cell_type": "code",
      "execution_count": 22,
      "metadata": {
        "colab": {
          "base_uri": "https://localhost:8080/"
        },
        "id": "86ce9fd7",
        "outputId": "3fb64fcf-ec59-46c7-8f7a-65bc88ba6e1d"
      },
      "outputs": [
        {
          "output_type": "stream",
          "name": "stdout",
          "text": [
            "[nltk_data] Downloading package wordnet to /root/nltk_data...\n",
            "[nltk_data]   Package wordnet is already up-to-date!\n"
          ]
        },
        {
          "output_type": "execute_result",
          "data": {
            "text/plain": [
              "True"
            ]
          },
          "metadata": {},
          "execution_count": 22
        }
      ],
      "source": [
        "nltk.download('wordnet')"
      ],
      "id": "86ce9fd7"
    },
    {
      "cell_type": "code",
      "execution_count": 23,
      "metadata": {
        "colab": {
          "base_uri": "https://localhost:8080/"
        },
        "id": "f13c7932",
        "outputId": "cb04e6e1-738b-469c-cdb6-e65e3bc0f004"
      },
      "outputs": [
        {
          "output_type": "stream",
          "name": "stderr",
          "text": [
            "/usr/local/lib/python3.7/dist-packages/ipykernel_launcher.py:1: SettingWithCopyWarning: \n",
            "A value is trying to be set on a copy of a slice from a DataFrame.\n",
            "Try using .loc[row_indexer,col_indexer] = value instead\n",
            "\n",
            "See the caveats in the documentation: https://pandas.pydata.org/pandas-docs/stable/user_guide/indexing.html#returning-a-view-versus-a-copy\n",
            "  \"\"\"Entry point for launching an IPython kernel.\n"
          ]
        },
        {
          "output_type": "execute_result",
          "data": {
            "text/plain": [
              "0    [go, jurong, point, crazy, available, bugis, n...\n",
              "1                         [ok, lar, joke, wif, u, oni]\n",
              "2    [free, entry, wkly, comp, win, fa, cup, final,...\n",
              "3        [u, dun, say, early, hor, u, c, already, say]\n",
              "4          [nah, think, go, usf, live, around, though]\n",
              "Name: Lemmatized_Text, dtype: object"
            ]
          },
          "metadata": {},
          "execution_count": 23
        }
      ],
      "source": [
        "data[\"Lemmatized_Text\"] = data[\"No_stopword_Text\"].apply(lemmatization)\n",
        "data[\"Lemmatized_Text\"].head()"
      ],
      "id": "f13c7932"
    },
    {
      "cell_type": "code",
      "execution_count": 24,
      "metadata": {
        "id": "2b7ddaa4"
      },
      "outputs": [],
      "source": [
        "corpus= []\n",
        "for i in data[\"Lemmatized_Text\"]:\n",
        "    msg = ' '.join([row for row in i])\n",
        "    corpus.append(msg)"
      ],
      "id": "2b7ddaa4"
    },
    {
      "cell_type": "code",
      "execution_count": 25,
      "metadata": {
        "colab": {
          "base_uri": "https://localhost:8080/"
        },
        "id": "8d4262f1",
        "outputId": "99cdae61-4e97-4220-9c76-7b6d59881bd7"
      },
      "outputs": [
        {
          "output_type": "execute_result",
          "data": {
            "text/plain": [
              "['go jurong point crazy available bugis n great world la e buffet cine get amore wat',\n",
              " 'ok lar joke wif u oni',\n",
              " 'free entry wkly comp win fa cup final tkts st may text fa receive entry question std txt rate c apply',\n",
              " 'u dun say early hor u c already say',\n",
              " 'nah think go usf live around though']"
            ]
          },
          "metadata": {},
          "execution_count": 25
        }
      ],
      "source": [
        "corpus[:5]"
      ],
      "id": "8d4262f1"
    },
    {
      "cell_type": "code",
      "execution_count": 26,
      "metadata": {
        "id": "64dc92a4"
      },
      "outputs": [],
      "source": [
        "from sklearn.feature_extraction.text import TfidfVectorizer\n",
        "from sklearn.preprocessing import LabelEncoder"
      ],
      "id": "64dc92a4"
    },
    {
      "cell_type": "code",
      "execution_count": 27,
      "metadata": {
        "colab": {
          "base_uri": "https://localhost:8080/"
        },
        "id": "c2229657",
        "outputId": "be193e31-a11b-435b-8127-6cfb4efab166"
      },
      "outputs": [
        {
          "output_type": "execute_result",
          "data": {
            "text/plain": [
              "dtype('float64')"
            ]
          },
          "metadata": {},
          "execution_count": 27
        }
      ],
      "source": [
        "tfidf = TfidfVectorizer()\n",
        "X = tfidf.fit_transform(corpus).toarray()\n",
        "X.dtype"
      ],
      "id": "c2229657"
    },
    {
      "cell_type": "code",
      "execution_count": 28,
      "metadata": {
        "colab": {
          "base_uri": "https://localhost:8080/"
        },
        "id": "7655b4d4",
        "outputId": "f96ca0e7-3710-4930-c5fb-a3b0af089217"
      },
      "outputs": [
        {
          "output_type": "stream",
          "name": "stderr",
          "text": [
            "/usr/local/lib/python3.7/dist-packages/ipykernel_launcher.py:2: SettingWithCopyWarning: \n",
            "A value is trying to be set on a copy of a slice from a DataFrame.\n",
            "Try using .loc[row_indexer,col_indexer] = value instead\n",
            "\n",
            "See the caveats in the documentation: https://pandas.pydata.org/pandas-docs/stable/user_guide/indexing.html#returning-a-view-versus-a-copy\n",
            "  \n"
          ]
        }
      ],
      "source": [
        "label_encoder = LabelEncoder()\n",
        "data[\"Class\"] = label_encoder.fit_transform(data[\"Class\"])"
      ],
      "id": "7655b4d4"
    },
    {
      "cell_type": "markdown",
      "metadata": {
        "id": "02d75482"
      },
      "source": [
        "# Data Visualization After Preprocessing"
      ],
      "id": "02d75482"
    },
    {
      "cell_type": "code",
      "execution_count": 29,
      "metadata": {
        "colab": {
          "base_uri": "https://localhost:8080/",
          "height": 568
        },
        "id": "a7882b49",
        "outputId": "9a9d253a-6582-4f06-bb8c-76e6f1b2b6ef"
      },
      "outputs": [
        {
          "output_type": "execute_result",
          "data": {
            "text/plain": [
              "<seaborn.axisgrid.PairGrid at 0x7f3d479a41d0>"
            ]
          },
          "metadata": {},
          "execution_count": 29
        },
        {
          "output_type": "display_data",
          "data": {
            "text/plain": [
              "<Figure size 582.375x540 with 12 Axes>"
            ],
            "image/png": "[encoded data removed]"
          },
          "metadata": {
            "needs_background": "light"
          }
        }
      ],
      "source": [
        "sns.pairplot(data=data, hue=\"Class\",palette=cols)"
      ],
      "id": "a7882b49"
    },
    {
      "cell_type": "markdown",
      "metadata": {
        "id": "2402398e"
      },
      "source": [
        "# Model Building"
      ],
      "id": "2402398e"
    },
    {
      "cell_type": "code",
      "execution_count": 30,
      "metadata": {
        "id": "a6f6240e"
      },
      "outputs": [],
      "source": [
        "from sklearn.model_selection import train_test_split\n",
        "from sklearn.naive_bayes import MultinomialNB\n",
        "from sklearn.ensemble import RandomForestClassifier\n",
        "from sklearn.neighbors import KNeighborsClassifier\n",
        "from sklearn.svm import SVC\n",
        "from sklearn.model_selection import cross_val_score\n",
        "from sklearn import metrics\n",
        "from sklearn.metrics import precision_score, recall_score, plot_confusion_matrix, classification_report, accuracy_score, f1_score, ConfusionMatrixDisplay"
      ],
      "id": "a6f6240e"
    },
    {
      "cell_type": "code",
      "execution_count": 31,
      "metadata": {
        "id": "c5de4370"
      },
      "outputs": [],
      "source": [
        "# Splitting the testing and training datasets\n",
        "y = data[\"Class\"] \n",
        "X_train, X_test, y_train, y_test = train_test_split(X, y, test_size=0.3, random_state=42)"
      ],
      "id": "c5de4370"
    },
    {
      "cell_type": "code",
      "execution_count": 32,
      "metadata": {
        "id": "kX24s3p0N3m-"
      },
      "outputs": [],
      "source": [
        "precision =[]\n",
        "recall =[]\n",
        "f1_score = []\n",
        "trainset_accuracy = []\n",
        "testset_accuracy = []"
      ],
      "id": "kX24s3p0N3m-"
    },
    {
      "cell_type": "markdown",
      "source": [
        "**Multinomial Naive Bayes**"
      ],
      "metadata": {
        "id": "Q4bgjjQV_3v-"
      },
      "id": "Q4bgjjQV_3v-"
    },
    {
      "cell_type": "code",
      "execution_count": 33,
      "metadata": {
        "colab": {
          "base_uri": "https://localhost:8080/"
        },
        "id": "e417a912",
        "outputId": "52f3ab23-f1b2-454e-ef49-4c8ee0bacf3f"
      },
      "outputs": [
        {
          "output_type": "execute_result",
          "data": {
            "text/plain": [
              "array([0.96915167, 0.96143959, 0.96401028, 0.96915167, 0.9562982 ,\n",
              "       0.97680412, 0.95876289, 0.93814433, 0.96391753, 0.95876289])"
            ]
          },
          "metadata": {},
          "execution_count": 33
        }
      ],
      "source": [
        "Multinomia = MultinomialNB()\n",
        "Multinomia.fit(X_train, y_train)\n",
        "Multinomia_score = cross_val_score(Multinomia, X_train,y_train,scoring=\"accuracy\", cv=10)\n",
        "Multinomia_score"
      ],
      "id": "e417a912"
    },
    {
      "cell_type": "code",
      "execution_count": 34,
      "metadata": {
        "colab": {
          "base_uri": "https://localhost:8080/"
        },
        "id": "84afc057",
        "outputId": "e52bafe5-9cf3-4d1d-dbcd-2001a5450ae8"
      },
      "outputs": [
        {
          "output_type": "execute_result",
          "data": {
            "text/plain": [
              "0.9616443166459068"
            ]
          },
          "metadata": {},
          "execution_count": 34
        }
      ],
      "source": [
        "Multinomia_score.mean()"
      ],
      "id": "84afc057"
    },
    {
      "cell_type": "code",
      "execution_count": 35,
      "metadata": {
        "colab": {
          "base_uri": "https://localhost:8080/"
        },
        "id": "261487b6",
        "outputId": "eb4228d7-827a-46c0-ddef-846f5ae924cc"
      },
      "outputs": [
        {
          "output_type": "execute_result",
          "data": {
            "text/plain": [
              "1.0"
            ]
          },
          "metadata": {},
          "execution_count": 35
        }
      ],
      "source": [
        "Multinomia_pred_train = Multinomia.predict(X_train)\n",
        "Multinomia_pred_test = Multinomia.predict(X_test)\n",
        "Multinomia_pred = metrics.precision_score(y_test, Multinomia_pred_test)\n",
        "Multinomia_pred"
      ],
      "id": "261487b6"
    },
    {
      "cell_type": "code",
      "execution_count": 36,
      "metadata": {
        "colab": {
          "base_uri": "https://localhost:8080/"
        },
        "id": "a2b629ef",
        "outputId": "b9ffd852-f84a-488a-ec72-95530bc00f0b"
      },
      "outputs": [
        {
          "output_type": "execute_result",
          "data": {
            "text/plain": [
              "0.7296137339055794"
            ]
          },
          "metadata": {},
          "execution_count": 36
        }
      ],
      "source": [
        "Multinomia_recal = metrics.recall_score(y_test, Multinomia_pred_test)\n",
        "Multinomia_recal"
      ],
      "id": "a2b629ef"
    },
    {
      "cell_type": "code",
      "execution_count": 37,
      "metadata": {
        "colab": {
          "base_uri": "https://localhost:8080/"
        },
        "id": "83978940",
        "outputId": "8c92db2c-85ef-43a1-f7c5-01341d3bfd8f"
      },
      "outputs": [
        {
          "output_type": "execute_result",
          "data": {
            "text/plain": [
              "0.8436724565756824"
            ]
          },
          "metadata": {},
          "execution_count": 37
        }
      ],
      "source": [
        "Multinomia_f1_s = metrics.f1_score(y_test, Multinomia_pred_test)\n",
        "Multinomia_f1_s"
      ],
      "id": "83978940"
    },
    {
      "cell_type": "code",
      "execution_count": 38,
      "metadata": {
        "colab": {
          "base_uri": "https://localhost:8080/"
        },
        "id": "05c04be1",
        "outputId": "25e34faf-1e03-48eb-9d9d-3fe833128e35"
      },
      "outputs": [
        {
          "output_type": "execute_result",
          "data": {
            "text/plain": [
              "0.9745173745173745"
            ]
          },
          "metadata": {},
          "execution_count": 38
        }
      ],
      "source": [
        "Multinomia_train_accuracy = Multinomia.score(X_train,y_train)\n",
        "Multinomia_train_accuracy"
      ],
      "id": "05c04be1"
    },
    {
      "cell_type": "code",
      "execution_count": 39,
      "metadata": {
        "colab": {
          "base_uri": "https://localhost:8080/"
        },
        "id": "f4231cdb",
        "outputId": "3f01ad17-430d-4fde-94fd-c55322e2ab87"
      },
      "outputs": [
        {
          "output_type": "execute_result",
          "data": {
            "text/plain": [
              "0.9621621621621622"
            ]
          },
          "metadata": {},
          "execution_count": 39
        }
      ],
      "source": [
        "Multinomia_test_accuracy = Multinomia.score(X_test,y_test)\n",
        "Multinomia_test_accuracy"
      ],
      "id": "f4231cdb"
    },
    {
      "cell_type": "code",
      "execution_count": 40,
      "metadata": {
        "id": "oqlC_4v0N8Tf"
      },
      "outputs": [],
      "source": [
        "precision.append(Multinomia_pred)\n",
        "recall.append(Multinomia_recal)\n",
        "f1_score.append(Multinomia_f1_s)\n",
        "trainset_accuracy.append(Multinomia_train_accuracy)\n",
        "testset_accuracy.append(Multinomia_test_accuracy)"
      ],
      "id": "oqlC_4v0N8Tf"
    },
    {
      "cell_type": "markdown",
      "source": [
        "**KNN**"
      ],
      "metadata": {
        "id": "fxo8sy9fAKvo"
      },
      "id": "fxo8sy9fAKvo"
    },
    {
      "cell_type": "code",
      "execution_count": 41,
      "metadata": {
        "colab": {
          "base_uri": "https://localhost:8080/"
        },
        "id": "287c8390",
        "outputId": "eed16968-7a6e-4c3f-8c48-6e003dcf1900"
      },
      "outputs": [
        {
          "output_type": "execute_result",
          "data": {
            "text/plain": [
              "array([0.89974293, 0.90488432, 0.91002571, 0.9125964 , 0.89974293,\n",
              "       0.90979381, 0.90463918, 0.89690722, 0.92010309, 0.92525773])"
            ]
          },
          "metadata": {},
          "execution_count": 41
        }
      ],
      "source": [
        "KNC = KNeighborsClassifier()\n",
        "KNC.fit(X_train, y_train)\n",
        "KNC_score = cross_val_score(KNC, X_train,y_train,scoring=\"accuracy\", cv=10)\n",
        "KNC_score"
      ],
      "id": "287c8390"
    },
    {
      "cell_type": "code",
      "execution_count": 42,
      "metadata": {
        "colab": {
          "base_uri": "https://localhost:8080/"
        },
        "id": "e205d5b5",
        "outputId": "0a37fa24-fcbb-4d96-cd9f-6e0d5fa72657"
      },
      "outputs": [
        {
          "output_type": "execute_result",
          "data": {
            "text/plain": [
              "0.9083693318845573"
            ]
          },
          "metadata": {},
          "execution_count": 42
        }
      ],
      "source": [
        "KNC_score.mean()"
      ],
      "id": "e205d5b5"
    },
    {
      "cell_type": "code",
      "execution_count": 43,
      "metadata": {
        "colab": {
          "base_uri": "https://localhost:8080/"
        },
        "id": "8e2a5d81",
        "outputId": "221b5639-b1f2-4b5c-c9f3-844efa1f4a67"
      },
      "outputs": [
        {
          "output_type": "execute_result",
          "data": {
            "text/plain": [
              "1.0"
            ]
          },
          "metadata": {},
          "execution_count": 43
        }
      ],
      "source": [
        "KNC_pred_train = KNC.predict(X_train)\n",
        "KNC_pred_test = KNC.predict(X_test)\n",
        "KNC_pred = metrics.precision_score(y_test, KNC_pred_test)\n",
        "KNC_pred"
      ],
      "id": "8e2a5d81"
    },
    {
      "cell_type": "code",
      "execution_count": 44,
      "metadata": {
        "colab": {
          "base_uri": "https://localhost:8080/"
        },
        "id": "c5525e09",
        "outputId": "7cb4c9f5-13e5-4bf2-b8bd-5b5ae40f769b"
      },
      "outputs": [
        {
          "output_type": "execute_result",
          "data": {
            "text/plain": [
              "0.3218884120171674"
            ]
          },
          "metadata": {},
          "execution_count": 44
        }
      ],
      "source": [
        "KNC_recal = metrics.recall_score(y_test, KNC_pred_test)\n",
        "KNC_recal"
      ],
      "id": "c5525e09"
    },
    {
      "cell_type": "code",
      "execution_count": 45,
      "metadata": {
        "colab": {
          "base_uri": "https://localhost:8080/"
        },
        "id": "0f0e1862",
        "outputId": "85f32b99-29de-4dad-8222-eda6dad0de20"
      },
      "outputs": [
        {
          "output_type": "execute_result",
          "data": {
            "text/plain": [
              "0.487012987012987"
            ]
          },
          "metadata": {},
          "execution_count": 45
        }
      ],
      "source": [
        "KNC_f1_s = metrics.f1_score(y_test, KNC_pred_test)\n",
        "KNC_f1_s"
      ],
      "id": "0f0e1862"
    },
    {
      "cell_type": "code",
      "execution_count": 46,
      "metadata": {
        "colab": {
          "base_uri": "https://localhost:8080/"
        },
        "id": "e18fb4cf",
        "outputId": "9e8f2a42-1cdd-45f7-9f6b-03e88b1b9209"
      },
      "outputs": [
        {
          "output_type": "execute_result",
          "data": {
            "text/plain": [
              "0.923037323037323"
            ]
          },
          "metadata": {},
          "execution_count": 46
        }
      ],
      "source": [
        "KNC_train_accuracy = KNC.score(X_train,y_train)\n",
        "KNC_train_accuracy"
      ],
      "id": "e18fb4cf"
    },
    {
      "cell_type": "code",
      "execution_count": 47,
      "metadata": {
        "colab": {
          "base_uri": "https://localhost:8080/"
        },
        "id": "2c85fda2",
        "outputId": "dc557068-de4d-4489-eb72-f930442c7df1"
      },
      "outputs": [
        {
          "output_type": "execute_result",
          "data": {
            "text/plain": [
              "0.9051051051051051"
            ]
          },
          "metadata": {},
          "execution_count": 47
        }
      ],
      "source": [
        "KNC_test_accuracy = KNC.score(X_test,y_test)\n",
        "KNC_test_accuracy"
      ],
      "id": "2c85fda2"
    },
    {
      "cell_type": "code",
      "execution_count": 48,
      "metadata": {
        "id": "EptoHDrlOVCC"
      },
      "outputs": [],
      "source": [
        "precision.append(KNC_pred)\n",
        "recall.append(KNC_recal)\n",
        "f1_score.append(KNC_f1_s)\n",
        "trainset_accuracy.append(KNC_train_accuracy)\n",
        "testset_accuracy.append(KNC_test_accuracy)"
      ],
      "id": "EptoHDrlOVCC"
    },
    {
      "cell_type": "markdown",
      "source": [
        "**SVM**"
      ],
      "metadata": {
        "id": "H0kk8CxBAOpo"
      },
      "id": "H0kk8CxBAOpo"
    },
    {
      "cell_type": "code",
      "execution_count": 75,
      "metadata": {
        "colab": {
          "base_uri": "https://localhost:8080/"
        },
        "id": "2513a27d",
        "outputId": "b92e658c-a211-49aa-acd3-76c1fec6f4d7"
      },
      "outputs": [
        {
          "output_type": "execute_result",
          "data": {
            "text/plain": [
              "SVC(probability=True)"
            ]
          },
          "metadata": {},
          "execution_count": 75
        }
      ],
      "source": [
        "SVM = SVC(probability=True)\n",
        "SVM.fit(X_train, y_train)"
      ],
      "id": "2513a27d"
    },
    {
      "cell_type": "code",
      "execution_count": 50,
      "metadata": {
        "colab": {
          "base_uri": "https://localhost:8080/"
        },
        "id": "eM7rRcDsKdRm",
        "outputId": "b8353267-a008-42d2-fbac-91b5658c05b4"
      },
      "outputs": [
        {
          "output_type": "execute_result",
          "data": {
            "text/plain": [
              "array([0.96911197, 0.97039897, 0.97297297, 0.95624196, 0.97554698])"
            ]
          },
          "metadata": {},
          "execution_count": 50
        }
      ],
      "source": [
        "SVM_score = cross_val_score(SVM, X_train,y_train,scoring=\"accuracy\", cv=5)\n",
        "SVM_score"
      ],
      "id": "eM7rRcDsKdRm"
    },
    {
      "cell_type": "code",
      "execution_count": 51,
      "metadata": {
        "colab": {
          "base_uri": "https://localhost:8080/"
        },
        "id": "5ae6897c",
        "outputId": "e50ffe7c-0ed0-4883-9c8d-fcd4c4b07a76"
      },
      "outputs": [
        {
          "output_type": "execute_result",
          "data": {
            "text/plain": [
              "0.9688545688545688"
            ]
          },
          "metadata": {},
          "execution_count": 51
        }
      ],
      "source": [
        "SVM_score.mean()"
      ],
      "id": "5ae6897c"
    },
    {
      "cell_type": "code",
      "execution_count": 52,
      "metadata": {
        "id": "8d4d6718",
        "colab": {
          "base_uri": "https://localhost:8080/"
        },
        "outputId": "289d9308-68e7-45ab-8007-89bef29b36ff"
      },
      "outputs": [
        {
          "output_type": "execute_result",
          "data": {
            "text/plain": [
              "0.9947643979057592"
            ]
          },
          "metadata": {},
          "execution_count": 52
        }
      ],
      "source": [
        "SVM_pred_train = SVM.predict(X_train)\n",
        "SVM_pred_test = SVM.predict(X_test)\n",
        "SVM_pred = metrics.precision_score(y_test, SVM_pred_test)\n",
        "SVM_pred"
      ],
      "id": "8d4d6718"
    },
    {
      "cell_type": "code",
      "execution_count": 53,
      "metadata": {
        "id": "ec1d159e",
        "colab": {
          "base_uri": "https://localhost:8080/"
        },
        "outputId": "f5c3bd43-23c8-4824-fa58-f97d7a07f06d"
      },
      "outputs": [
        {
          "output_type": "execute_result",
          "data": {
            "text/plain": [
              "0.8154506437768241"
            ]
          },
          "metadata": {},
          "execution_count": 53
        }
      ],
      "source": [
        "SVM_recal = metrics.recall_score(y_test, SVM_pred_test)\n",
        "SVM_recal"
      ],
      "id": "ec1d159e"
    },
    {
      "cell_type": "code",
      "execution_count": 54,
      "metadata": {
        "id": "e248dae8",
        "colab": {
          "base_uri": "https://localhost:8080/"
        },
        "outputId": "2490d20c-afe7-4531-d84b-c04e24bb0689"
      },
      "outputs": [
        {
          "output_type": "execute_result",
          "data": {
            "text/plain": [
              "0.8962264150943396"
            ]
          },
          "metadata": {},
          "execution_count": 54
        }
      ],
      "source": [
        "SVM_f1_s = metrics.f1_score(y_test, SVM_pred_test)\n",
        "SVM_f1_s"
      ],
      "id": "e248dae8"
    },
    {
      "cell_type": "code",
      "execution_count": 55,
      "metadata": {
        "id": "5a57aec9",
        "colab": {
          "base_uri": "https://localhost:8080/"
        },
        "outputId": "506662de-f88a-4cf8-8daf-aa575a804fac"
      },
      "outputs": [
        {
          "output_type": "execute_result",
          "data": {
            "text/plain": [
              "0.9979407979407979"
            ]
          },
          "metadata": {},
          "execution_count": 55
        }
      ],
      "source": [
        "SVM_train_accuracy = SVM.score(X_train,y_train)\n",
        "SVM_train_accuracy"
      ],
      "id": "5a57aec9"
    },
    {
      "cell_type": "code",
      "execution_count": 56,
      "metadata": {
        "id": "2b2e5e3d",
        "colab": {
          "base_uri": "https://localhost:8080/"
        },
        "outputId": "8fbc02ff-ab35-4748-9ce1-f391d48fa467"
      },
      "outputs": [
        {
          "output_type": "execute_result",
          "data": {
            "text/plain": [
              "0.9735735735735735"
            ]
          },
          "metadata": {},
          "execution_count": 56
        }
      ],
      "source": [
        "SVM_test_accuracy = SVM.score(X_test,y_test)\n",
        "SVM_test_accuracy"
      ],
      "id": "2b2e5e3d"
    },
    {
      "cell_type": "code",
      "execution_count": 57,
      "metadata": {
        "id": "pnuF0pnqOg0h"
      },
      "outputs": [],
      "source": [
        "precision.append(SVM_pred)\n",
        "recall.append(SVM_recal)\n",
        "f1_score.append(SVM_f1_s)\n",
        "trainset_accuracy.append(SVM_train_accuracy)\n",
        "testset_accuracy.append(SVM_test_accuracy)"
      ],
      "id": "pnuF0pnqOg0h"
    },
    {
      "cell_type": "markdown",
      "source": [
        "**Random Forest**"
      ],
      "metadata": {
        "id": "-0RnCfiTARg9"
      },
      "id": "-0RnCfiTARg9"
    },
    {
      "cell_type": "code",
      "source": [
        "RFC=RandomForestClassifier()\n",
        "RFC.fit(X_train, y_train)\n",
        "RFC_score = cross_val_score(RFC, X_train,y_train,scoring=\"accuracy\", cv=5)\n",
        "RFC_score"
      ],
      "metadata": {
        "colab": {
          "base_uri": "https://localhost:8080/"
        },
        "id": "Uzmy8Wv-AWuT",
        "outputId": "c3c2f05c-c114-4c74-e97f-e4f9adb49ab9"
      },
      "id": "Uzmy8Wv-AWuT",
      "execution_count": 58,
      "outputs": [
        {
          "output_type": "execute_result",
          "data": {
            "text/plain": [
              "array([0.96653797, 0.97683398, 0.97683398, 0.96782497, 0.97554698])"
            ]
          },
          "metadata": {},
          "execution_count": 58
        }
      ]
    },
    {
      "cell_type": "code",
      "source": [
        "RFC_score.mean()"
      ],
      "metadata": {
        "colab": {
          "base_uri": "https://localhost:8080/"
        },
        "id": "nF1AQnmDArp8",
        "outputId": "8a8a405c-6ee4-44eb-99cb-f922f601f5b4"
      },
      "id": "nF1AQnmDArp8",
      "execution_count": 59,
      "outputs": [
        {
          "output_type": "execute_result",
          "data": {
            "text/plain": [
              "0.9727155727155727"
            ]
          },
          "metadata": {},
          "execution_count": 59
        }
      ]
    },
    {
      "cell_type": "code",
      "source": [
        "RFC_pred_train = RFC.predict(X_train)\n",
        "RFC_pred_test = RFC.predict(X_test)\n",
        "RFC_pred = metrics.precision_score(y_test, RFC_pred_test)\n",
        "RFC_pred"
      ],
      "metadata": {
        "colab": {
          "base_uri": "https://localhost:8080/"
        },
        "id": "Bv_bHj9KAxxE",
        "outputId": "31541ea0-a5d0-4787-e1d6-3ea7e58d3b2c"
      },
      "id": "Bv_bHj9KAxxE",
      "execution_count": 60,
      "outputs": [
        {
          "output_type": "execute_result",
          "data": {
            "text/plain": [
              "1.0"
            ]
          },
          "metadata": {},
          "execution_count": 60
        }
      ]
    },
    {
      "cell_type": "code",
      "source": [
        "RFC_recal = metrics.recall_score(y_test, RFC_pred_test)\n",
        "RFC_recal"
      ],
      "metadata": {
        "colab": {
          "base_uri": "https://localhost:8080/"
        },
        "id": "3N8r8ppLAxzq",
        "outputId": "3875bf1a-9228-4282-e06e-0e4587e630dd"
      },
      "id": "3N8r8ppLAxzq",
      "execution_count": 61,
      "outputs": [
        {
          "output_type": "execute_result",
          "data": {
            "text/plain": [
              "0.8540772532188842"
            ]
          },
          "metadata": {},
          "execution_count": 61
        }
      ]
    },
    {
      "cell_type": "code",
      "source": [
        "RFC_f1_s = metrics.f1_score(y_test, RFC_pred_test)\n",
        "RFC_f1_s"
      ],
      "metadata": {
        "colab": {
          "base_uri": "https://localhost:8080/"
        },
        "id": "cdkkRU2ZAx2V",
        "outputId": "dc304388-8f62-4f48-86d0-dabff3634e96"
      },
      "id": "cdkkRU2ZAx2V",
      "execution_count": 62,
      "outputs": [
        {
          "output_type": "execute_result",
          "data": {
            "text/plain": [
              "0.9212962962962963"
            ]
          },
          "metadata": {},
          "execution_count": 62
        }
      ]
    },
    {
      "cell_type": "code",
      "source": [
        "RFC_train_accuracy = RFC.score(X_train,y_train)\n",
        "RFC_train_accuracy"
      ],
      "metadata": {
        "colab": {
          "base_uri": "https://localhost:8080/"
        },
        "id": "E7Vz78bhAx4n",
        "outputId": "6a102e5a-750a-48ef-929d-550bb5cc2920"
      },
      "id": "E7Vz78bhAx4n",
      "execution_count": 63,
      "outputs": [
        {
          "output_type": "execute_result",
          "data": {
            "text/plain": [
              "1.0"
            ]
          },
          "metadata": {},
          "execution_count": 63
        }
      ]
    },
    {
      "cell_type": "code",
      "source": [
        "RFC_test_accuracy = RFC.score(X_test,y_test)\n",
        "RFC_test_accuracy"
      ],
      "metadata": {
        "colab": {
          "base_uri": "https://localhost:8080/"
        },
        "id": "0XCzESxqBPd8",
        "outputId": "32fbf45d-8c7b-4302-e271-326f37850a26"
      },
      "id": "0XCzESxqBPd8",
      "execution_count": 64,
      "outputs": [
        {
          "output_type": "execute_result",
          "data": {
            "text/plain": [
              "0.9795795795795795"
            ]
          },
          "metadata": {},
          "execution_count": 64
        }
      ]
    },
    {
      "cell_type": "code",
      "source": [
        "precision.append(RFC_pred)\n",
        "recall.append(RFC_recal)\n",
        "f1_score.append(RFC_f1_s)\n",
        "trainset_accuracy.append(RFC_train_accuracy)\n",
        "testset_accuracy.append(RFC_test_accuracy)"
      ],
      "metadata": {
        "id": "VB1pyWRaBPhB"
      },
      "id": "VB1pyWRaBPhB",
      "execution_count": 65,
      "outputs": []
    },
    {
      "cell_type": "markdown",
      "metadata": {
        "id": "hkwwmyAZZjKN"
      },
      "source": [
        "# Confusion Matrix"
      ],
      "id": "hkwwmyAZZjKN"
    },
    {
      "cell_type": "code",
      "execution_count": 66,
      "metadata": {
        "id": "6SsblTbvPucP"
      },
      "outputs": [],
      "source": [
        "from matplotlib.colors import ListedColormap\n",
        "cmap2 = ListedColormap([\"#00FFFF\",\"#FFC0CB\"])"
      ],
      "id": "6SsblTbvPucP"
    },
    {
      "cell_type": "markdown",
      "source": [
        "**Confusion Matrix of Multinomial Naive Bayes Model**"
      ],
      "metadata": {
        "id": "4-kMNIjsEAT0"
      },
      "id": "4-kMNIjsEAT0"
    },
    {
      "cell_type": "code",
      "execution_count": 67,
      "metadata": {
        "id": "56ed4f50",
        "colab": {
          "base_uri": "https://localhost:8080/",
          "height": 279
        },
        "outputId": "f67d74dd-b485-49eb-a2a8-bee085268203"
      },
      "outputs": [
        {
          "output_type": "display_data",
          "data": {
            "text/plain": [
              "<Figure size 432x288 with 2 Axes>"
            ],
            "image/png": "[encoded data removed]"
          },
          "metadata": {
            "needs_background": "light"
          }
        }
      ],
      "source": [
        "Multinomia_confusion_matrix = metrics.confusion_matrix(y_test, Multinomia_pred_test)\n",
        "Multinomia_display = ConfusionMatrixDisplay(Multinomia_confusion_matrix,display_labels=[\"Ham\",\"Spam\"])\n",
        "Multinomia_display.plot(cmap=cmap2)\n",
        "plt.show()"
      ],
      "id": "56ed4f50"
    },
    {
      "cell_type": "markdown",
      "source": [
        "**Confusion Matrix of KNN Model**"
      ],
      "metadata": {
        "id": "ctD-qHtvEPKG"
      },
      "id": "ctD-qHtvEPKG"
    },
    {
      "cell_type": "code",
      "execution_count": 68,
      "metadata": {
        "id": "eyQw2c8caHJK",
        "colab": {
          "base_uri": "https://localhost:8080/",
          "height": 279
        },
        "outputId": "8783440e-895d-43bc-970c-18f61397057f"
      },
      "outputs": [
        {
          "output_type": "display_data",
          "data": {
            "text/plain": [
              "<Figure size 432x288 with 2 Axes>"
            ],
            "image/png": "[encoded data removed]"
          },
          "metadata": {
            "needs_background": "light"
          }
        }
      ],
      "source": [
        "KNC_confusion_matrix = metrics.confusion_matrix(y_test, KNC_pred_test)\n",
        "KNC_display = ConfusionMatrixDisplay(KNC_confusion_matrix,display_labels=[\"Ham\",\"Spam\"])\n",
        "KNC_display.plot(cmap=cmap2)\n",
        "plt.show()"
      ],
      "id": "eyQw2c8caHJK"
    },
    {
      "cell_type": "markdown",
      "source": [
        "**Confusion Matrix of SVM Model**"
      ],
      "metadata": {
        "id": "moJANL27ESf5"
      },
      "id": "moJANL27ESf5"
    },
    {
      "cell_type": "code",
      "execution_count": 69,
      "metadata": {
        "id": "ffcq7-RQbIeT",
        "colab": {
          "base_uri": "https://localhost:8080/",
          "height": 279
        },
        "outputId": "399718c9-e4f9-435e-8f7c-a4d8e0954612"
      },
      "outputs": [
        {
          "output_type": "display_data",
          "data": {
            "text/plain": [
              "<Figure size 432x288 with 2 Axes>"
            ],
            "image/png": "[encoded data removed]"
          },
          "metadata": {
            "needs_background": "light"
          }
        }
      ],
      "source": [
        "SVM_confusion_matrix = metrics.confusion_matrix(y_test, SVM_pred_test)\n",
        "SVM_display = ConfusionMatrixDisplay(SVM_confusion_matrix,display_labels=[\"Ham\",\"Spam\"])\n",
        "SVM_display.plot(cmap=cmap2)\n",
        "plt.show()"
      ],
      "id": "ffcq7-RQbIeT"
    },
    {
      "cell_type": "markdown",
      "source": [
        "**Confusion Matrix of Random Forest Model**"
      ],
      "metadata": {
        "id": "34qMehQGEVNV"
      },
      "id": "34qMehQGEVNV"
    },
    {
      "cell_type": "code",
      "source": [
        "RFC_confusion_matrix = metrics.confusion_matrix(y_test, RFC_pred_test)\n",
        "RFC_display = ConfusionMatrixDisplay(RFC_confusion_matrix,display_labels=[\"Ham\",\"Spam\"])\n",
        "RFC_display.plot(cmap=cmap2)\n",
        "plt.show()"
      ],
      "metadata": {
        "colab": {
          "base_uri": "https://localhost:8080/",
          "height": 279
        },
        "id": "9R_BUourD8E_",
        "outputId": "c4c2b9cb-89d2-4b80-e22f-df0665af635a"
      },
      "id": "9R_BUourD8E_",
      "execution_count": 70,
      "outputs": [
        {
          "output_type": "display_data",
          "data": {
            "text/plain": [
              "<Figure size 432x288 with 2 Axes>"
            ],
            "image/png": "[encoded data removed]"
          },
          "metadata": {
            "needs_background": "light"
          }
        }
      ]
    },
    {
      "cell_type": "markdown",
      "metadata": {
        "id": "aEISMPSXNX1I"
      },
      "source": [
        "# EVALUATING MODELS"
      ],
      "id": "aEISMPSXNX1I"
    },
    {
      "cell_type": "code",
      "execution_count": 71,
      "metadata": {
        "id": "HEIXYOETNXEZ"
      },
      "outputs": [],
      "source": [
        "data = {'Precision':precision,\n",
        "'Recall':recall,\n",
        "'F1score':f1_score,\n",
        "'Accuracy on Testset':testset_accuracy,\n",
        "'Accuracy on Trainset':trainset_accuracy}\n",
        "Results = pd.DataFrame(data, index =[\"NaiveBayes\", \"KNeighbours\",\"SVC\",\"RFC\"])"
      ],
      "id": "HEIXYOETNXEZ"
    },
    {
      "cell_type": "code",
      "execution_count": 72,
      "metadata": {
        "id": "_kHLCPMkO-ZA",
        "colab": {
          "base_uri": "https://localhost:8080/",
          "height": 175
        },
        "outputId": "a82c3925-104b-44bb-8405-7cd2f3c4b8bd"
      },
      "outputs": [
        {
          "output_type": "execute_result",
          "data": {
            "text/plain": [
              "<pandas.io.formats.style.Styler at 0x7f3d4056da90>"
            ],
            "text/html": [
              "<style type=\"text/css\">\n",
              "#T_d0a02_row0_col0, #T_d0a02_row0_col1, #T_d0a02_row0_col2, #T_d0a02_row0_col3, #T_d0a02_row0_col4, #T_d0a02_row1_col0, #T_d0a02_row2_col1, #T_d0a02_row2_col2, #T_d0a02_row2_col3, #T_d0a02_row2_col4, #T_d0a02_row3_col0, #T_d0a02_row3_col1, #T_d0a02_row3_col2, #T_d0a02_row3_col3, #T_d0a02_row3_col4 {\n",
              "  background-color: #ffc0cb;\n",
              "  color: #000000;\n",
              "}\n",
              "#T_d0a02_row1_col1, #T_d0a02_row1_col2, #T_d0a02_row1_col3, #T_d0a02_row1_col4, #T_d0a02_row2_col0 {\n",
              "  background-color: #00ffff;\n",
              "  color: #000000;\n",
              "}\n",
              "</style>\n",
              "<table id=\"T_d0a02_\" class=\"dataframe\">\n",
              "  <thead>\n",
              "    <tr>\n",
              "      <th class=\"blank level0\" >&nbsp;</th>\n",
              "      <th class=\"col_heading level0 col0\" >Precision</th>\n",
              "      <th class=\"col_heading level0 col1\" >Recall</th>\n",
              "      <th class=\"col_heading level0 col2\" >F1score</th>\n",
              "      <th class=\"col_heading level0 col3\" >Accuracy on Testset</th>\n",
              "      <th class=\"col_heading level0 col4\" >Accuracy on Trainset</th>\n",
              "    </tr>\n",
              "  </thead>\n",
              "  <tbody>\n",
              "    <tr>\n",
              "      <th id=\"T_d0a02_level0_row0\" class=\"row_heading level0 row0\" >NaiveBayes</th>\n",
              "      <td id=\"T_d0a02_row0_col0\" class=\"data row0 col0\" >1.000000</td>\n",
              "      <td id=\"T_d0a02_row0_col1\" class=\"data row0 col1\" >0.729614</td>\n",
              "      <td id=\"T_d0a02_row0_col2\" class=\"data row0 col2\" >0.843672</td>\n",
              "      <td id=\"T_d0a02_row0_col3\" class=\"data row0 col3\" >0.962162</td>\n",
              "      <td id=\"T_d0a02_row0_col4\" class=\"data row0 col4\" >0.974517</td>\n",
              "    </tr>\n",
              "    <tr>\n",
              "      <th id=\"T_d0a02_level0_row1\" class=\"row_heading level0 row1\" >KNeighbours</th>\n",
              "      <td id=\"T_d0a02_row1_col0\" class=\"data row1 col0\" >1.000000</td>\n",
              "      <td id=\"T_d0a02_row1_col1\" class=\"data row1 col1\" >0.321888</td>\n",
              "      <td id=\"T_d0a02_row1_col2\" class=\"data row1 col2\" >0.487013</td>\n",
              "      <td id=\"T_d0a02_row1_col3\" class=\"data row1 col3\" >0.905105</td>\n",
              "      <td id=\"T_d0a02_row1_col4\" class=\"data row1 col4\" >0.923037</td>\n",
              "    </tr>\n",
              "    <tr>\n",
              "      <th id=\"T_d0a02_level0_row2\" class=\"row_heading level0 row2\" >SVC</th>\n",
              "      <td id=\"T_d0a02_row2_col0\" class=\"data row2 col0\" >0.994764</td>\n",
              "      <td id=\"T_d0a02_row2_col1\" class=\"data row2 col1\" >0.815451</td>\n",
              "      <td id=\"T_d0a02_row2_col2\" class=\"data row2 col2\" >0.896226</td>\n",
              "      <td id=\"T_d0a02_row2_col3\" class=\"data row2 col3\" >0.973574</td>\n",
              "      <td id=\"T_d0a02_row2_col4\" class=\"data row2 col4\" >0.997941</td>\n",
              "    </tr>\n",
              "    <tr>\n",
              "      <th id=\"T_d0a02_level0_row3\" class=\"row_heading level0 row3\" >RFC</th>\n",
              "      <td id=\"T_d0a02_row3_col0\" class=\"data row3 col0\" >1.000000</td>\n",
              "      <td id=\"T_d0a02_row3_col1\" class=\"data row3 col1\" >0.854077</td>\n",
              "      <td id=\"T_d0a02_row3_col2\" class=\"data row3 col2\" >0.921296</td>\n",
              "      <td id=\"T_d0a02_row3_col3\" class=\"data row3 col3\" >0.979580</td>\n",
              "      <td id=\"T_d0a02_row3_col4\" class=\"data row3 col4\" >1.000000</td>\n",
              "    </tr>\n",
              "  </tbody>\n",
              "</table>\n"
            ]
          },
          "metadata": {},
          "execution_count": 72
        }
      ],
      "source": [
        "Results.style.background_gradient(cmap=cmap2)"
      ],
      "id": "_kHLCPMkO-ZA"
    },
    {
      "cell_type": "markdown",
      "metadata": {
        "id": "Wdn3dLrqqCWu"
      },
      "source": [
        "# ROC Curves"
      ],
      "id": "Wdn3dLrqqCWu"
    },
    {
      "cell_type": "code",
      "execution_count": 73,
      "metadata": {
        "id": "Ik3QEiI1qBd8",
        "colab": {
          "base_uri": "https://localhost:8080/",
          "height": 313
        },
        "outputId": "6c94564a-de87-4b45-b564-e643178b33d2"
      },
      "outputs": [
        {
          "output_type": "stream",
          "name": "stdout",
          "text": [
            "ROC Curve for Naive Bayes:\n"
          ]
        },
        {
          "output_type": "display_data",
          "data": {
            "text/plain": [
              "<Figure size 432x288 with 1 Axes>"
            ],
            "image/png": "[encoded data removed]"
          },
          "metadata": {
            "needs_background": "light"
          }
        }
      ],
      "source": [
        "Multinomia_pred = Multinomia.predict_proba(X_test)[:, 1]\n",
        "fpr, tpr, threshold = metrics.roc_curve(y_test, Multinomia_pred)\n",
        "roc_auc = metrics.auc(fpr, tpr)\n",
        "print(\"ROC Curve for Naive Bayes:\")\n",
        "plt.title('Receiver Operating Characteristic')\n",
        "plt.plot(fpr, tpr, 'b', label = 'AUC = %0.2f' % roc_auc)\n",
        "plt.legend(loc = 'lower right')\n",
        "plt.plot([0, 1], [0, 1],'r--')\n",
        "plt.xlim([0, 1])\n",
        "plt.ylim([0, 1])\n",
        "plt.ylabel('True Positive Rate')\n",
        "plt.xlabel('False Positive Rate')\n",
        "plt.show()"
      ],
      "id": "Ik3QEiI1qBd8"
    },
    {
      "cell_type": "code",
      "execution_count": 74,
      "metadata": {
        "id": "CR1FMO46qBm0",
        "colab": {
          "base_uri": "https://localhost:8080/",
          "height": 313
        },
        "outputId": "2dd95792-b2ed-4f08-ed07-47a17e3af40c"
      },
      "outputs": [
        {
          "output_type": "stream",
          "name": "stdout",
          "text": [
            "ROC Curve for KNeibhours Classifier:\n"
          ]
        },
        {
          "output_type": "display_data",
          "data": {
            "text/plain": [
              "<Figure size 432x288 with 1 Axes>"
            ],
            "image/png": "[encoded data removed]"
          },
          "metadata": {
            "needs_background": "light"
          }
        }
      ],
      "source": [
        "KNC_pred = KNC.predict_proba(X_test)[:, 1]\n",
        "fpr, tpr, threshold = metrics.roc_curve(y_test, KNC_pred)\n",
        "roc_auc = metrics.auc(fpr, tpr)\n",
        "print(\"ROC Curve for KNeibhours Classifier:\")\n",
        "plt.title('Receiver Operating Characteristic')\n",
        "plt.plot(fpr, tpr, 'b', label = 'AUC = %0.2f' % roc_auc)\n",
        "plt.legend(loc = 'lower right')\n",
        "plt.plot([0, 1], [0, 1],'r--')\n",
        "plt.xlim([0, 1])\n",
        "plt.ylim([0, 1])\n",
        "plt.ylabel('True Positive Rate')\n",
        "plt.xlabel('False Positive Rate')\n",
        "plt.show()"
      ],
      "id": "CR1FMO46qBm0"
    },
    {
      "cell_type": "code",
      "execution_count": 76,
      "metadata": {
        "id": "tKdsWiHk0TXi",
        "colab": {
          "base_uri": "https://localhost:8080/",
          "height": 313
        },
        "outputId": "598d0ea9-8ce4-4a44-cefc-271cc20522b9"
      },
      "outputs": [
        {
          "output_type": "stream",
          "name": "stdout",
          "text": [
            "ROC Curve for SVM Classifier:\n"
          ]
        },
        {
          "output_type": "display_data",
          "data": {
            "text/plain": [
              "<Figure size 432x288 with 1 Axes>"
            ],
            "image/png": "[encoded data removed]"
          },
          "metadata": {
            "needs_background": "light"
          }
        }
      ],
      "source": [
        "SVM_pred = SVM.predict_proba(X_test)[:, 1]\n",
        "fpr, tpr, threshold = metrics.roc_curve(y_test, SVM_pred)\n",
        "roc_auc = metrics.auc(fpr, tpr)\n",
        "print(\"ROC Curve for SVM Classifier:\")\n",
        "plt.title('Receiver Operating Characteristic')\n",
        "plt.plot(fpr, tpr, 'b', label = 'AUC = %0.2f' % roc_auc)\n",
        "plt.legend(loc = 'lower right')\n",
        "plt.plot([0, 1], [0, 1],'r--')\n",
        "plt.xlim([0, 1])\n",
        "plt.ylim([0, 1])\n",
        "plt.ylabel('True Positive Rate')\n",
        "plt.xlabel('False Positive Rate')\n",
        "plt.show()"
      ],
      "id": "tKdsWiHk0TXi"
    },
    {
      "cell_type": "code",
      "source": [
        "RFC_pred = RFC.predict_proba(X_test)[:, 1]\n",
        "fpr, tpr, threshold = metrics.roc_curve(y_test, RFC_pred)\n",
        "roc_auc = metrics.auc(fpr, tpr)\n",
        "print(\"ROC Curve for SVM Classifier:\")\n",
        "plt.title('Receiver Operating Characteristic')\n",
        "plt.plot(fpr, tpr, 'b', label = 'AUC = %0.2f' % roc_auc)\n",
        "plt.legend(loc = 'lower right')\n",
        "plt.plot([0, 1], [0, 1],'r--')\n",
        "plt.xlim([0, 1])\n",
        "plt.ylim([0, 1])\n",
        "plt.ylabel('True Positive Rate')\n",
        "plt.xlabel('False Positive Rate')\n",
        "plt.show()"
      ],
      "metadata": {
        "colab": {
          "base_uri": "https://localhost:8080/",
          "height": 313
        },
        "id": "8GBKCGYQS8N8",
        "outputId": "e1418192-586a-4be6-a296-ed508f5783f1"
      },
      "id": "8GBKCGYQS8N8",
      "execution_count": 77,
      "outputs": [
        {
          "output_type": "stream",
          "name": "stdout",
          "text": [
            "ROC Curve for SVM Classifier:\n"
          ]
        },
        {
          "output_type": "display_data",
          "data": {
            "text/plain": [
              "<Figure size 432x288 with 1 Axes>"
            ],
            "image/png": "[encoded data removed]"
          },
          "metadata": {
            "needs_background": "light"
          }
        }
      ]
    }
  ],
  "metadata": {
    "colab": {
      "collapsed_sections": [],
      "name": "SMS_Spam_Hashmitha_Katta_Final.ipynb",
      "provenance": []
    },
    "kernelspec": {
      "display_name": "Python 3 (ipykernel)",
      "language": "python",
      "name": "python3"
    },
    "language_info": {
      "codemirror_mode": {
        "name": "ipython",
        "version": 3
      },
      "file_extension": ".py",
      "mimetype": "text/x-python",
      "name": "python",
      "nbconvert_exporter": "python",
      "pygments_lexer": "ipython3",
      "version": "3.9.7"
    }
  },
  "nbformat": 4,
  "nbformat_minor": 5
}