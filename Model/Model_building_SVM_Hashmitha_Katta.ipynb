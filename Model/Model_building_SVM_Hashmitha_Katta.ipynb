{
 "cells": [
  {
   "cell_type": "code",
   "execution_count": 35,
   "id": "2513a27d",
   "metadata": {},
   "outputs": [
    {
     "data": {
      "text/plain": [
       "array([0.97429306, 0.97429306, 0.97172237, 0.97172237, 0.97943445,\n",
       "       0.97938144, 0.97164948, 0.95103093, 0.97938144, 0.9742268 ])"
      ]
     },
     "execution_count": 35,
     "metadata": {},
     "output_type": "execute_result"
    }
   ],
   "source": [
    "SVM = SVC()\n",
    "SVM.fit(X_train, y_train)\n",
    "SVM_score = cross_val_score(SVM, X_train,y_train,scoring=\"accuracy\", cv=10)\n",
    "SVM_score"
   ]
  },
  {
   "cell_type": "code",
   "execution_count": 39,
   "id": "5ae6897c",
   "metadata": {},
   "outputs": [
    {
     "data": {
      "text/plain": [
       "0.9727135398722604"
      ]
     },
     "execution_count": 39,
     "metadata": {},
     "output_type": "execute_result"
    }
   ],
   "source": [
    "SVM_score.mean()"
   ]
  },
  {
   "cell_type": "code",
   "execution_count": 58,
   "id": "8d4d6718",
   "metadata": {},
   "outputs": [
    {
     "data": {
      "text/plain": [
       "1.0"
      ]
     },
     "execution_count": 58,
     "metadata": {},
     "output_type": "execute_result"
    }
   ],
   "source": [
    "SVM_pred_train = KNC.predict(X_train)\n",
    "SVM_pred_test = KNC.predict(X_test)\n",
    "SVM_pred = metrics.precision_score(y_test, KNC_pred_test)\n",
    "SVM_pred"
   ]
  },
  {
   "cell_type": "code",
   "execution_count": 59,
   "id": "ec1d159e",
   "metadata": {},
   "outputs": [
    {
     "data": {
      "text/plain": [
       "0.3218884120171674"
      ]
     },
     "execution_count": 59,
     "metadata": {},
     "output_type": "execute_result"
    }
   ],
   "source": [
    "SVM_recal = metrics.recall_score(y_test, KNC_pred_test)\n",
    "SVM_recal"
   ]
  },
  {
   "cell_type": "code",
   "execution_count": 60,
   "id": "e248dae8",
   "metadata": {},
   "outputs": [
    {
     "data": {
      "text/plain": [
       "0.487012987012987"
      ]
     },
     "execution_count": 60,
     "metadata": {},
     "output_type": "execute_result"
    }
   ],
   "source": [
    "SVM_f1_s = metrics.f1_score(y_test, KNC_pred_test)\n",
    "SVM_f1_s"
   ]
  },
  {
   "cell_type": "code",
   "execution_count": 61,
   "id": "5a57aec9",
   "metadata": {},
   "outputs": [
    {
     "data": {
      "text/plain": [
       "0.923037323037323"
      ]
     },
     "execution_count": 61,
     "metadata": {},
     "output_type": "execute_result"
    }
   ],
   "source": [
    "SVM_train_accuracy = KNC.score(X_train,y_train)\n",
    "SVM_train_accuracy"
   ]
  },
  {
   "cell_type": "code",
   "execution_count": 62,
   "id": "2b2e5e3d",
   "metadata": {},
   "outputs": [
    {
     "data": {
      "text/plain": [
       "0.9051051051051051"
      ]
     },
     "execution_count": 62,
     "metadata": {},
     "output_type": "execute_result"
    }
   ],
   "source": [
    "SVM_test_accuracy = KNC.score(X_test,y_test)\n",
    "SVM_test_accuracy"
   ]
  }
 ],
 "metadata": {
  "kernelspec": {
   "display_name": "Python 3 (ipykernel)",
   "language": "python",
   "name": "python3"
  },
  "language_info": {
   "codemirror_mode": {
    "name": "ipython",
    "version": 3
   },
   "file_extension": ".py",
   "mimetype": "text/x-python",
   "name": "python",
   "nbconvert_exporter": "python",
   "pygments_lexer": "ipython3",
   "version": "3.9.7"
  }
 },
 "nbformat": 4,
 "nbformat_minor": 5
}
