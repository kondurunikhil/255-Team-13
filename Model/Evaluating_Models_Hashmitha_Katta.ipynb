{
  "cells": [
    {
      "cell_type": "markdown",
      "id": "60c34f5f",
      "metadata": {
        "id": "60c34f5f"
      },
      "source": [
        "# Importing Libraries"
      ]
    },
    {
      "cell_type": "code",
      "execution_count": 2,
      "id": "93d9efc6",
      "metadata": {
        "id": "93d9efc6"
      },
      "outputs": [],
      "source": [
        "import warnings\n",
        "import matplotlib.pyplot as plt\n",
        "import seaborn as sns\n",
        "import numpy as np \n",
        "import pandas as pd\n",
        "import re"
      ]
    },
    {
      "cell_type": "markdown",
      "id": "9687e29b",
      "metadata": {
        "id": "9687e29b"
      },
      "source": [
        "# Loading data"
      ]
    },
    {
      "cell_type": "code",
      "execution_count": 3,
      "id": "07d0160e",
      "metadata": {
        "id": "07d0160e",
        "colab": {
          "base_uri": "https://localhost:8080/",
          "height": 206
        },
        "outputId": "b087308a-ce70-4b36-89f7-81e09ffe9423"
      },
      "outputs": [
        {
          "output_type": "execute_result",
          "data": {
            "text/plain": [
              "  Class                                         input Text\n",
              "0   ham  Go until jurong point, crazy.. Available only ...\n",
              "1   ham                      Ok lar... Joking wif u oni...\n",
              "2  spam  Free entry in 2 a wkly comp to win FA Cup fina...\n",
              "3   ham  U dun say so early hor... U c already then say...\n",
              "4   ham  Nah I don't think he goes to usf, he lives aro..."
            ],
            "text/html": [
              "\n",
              "  <div id=\"df-c4542000-148c-47db-a3ed-edcd4bdd89ce\">\n",
              "    <div class=\"colab-df-container\">\n",
              "      <div>\n",
              "<style scoped>\n",
              "    .dataframe tbody tr th:only-of-type {\n",
              "        vertical-align: middle;\n",
              "    }\n",
              "\n",
              "    .dataframe tbody tr th {\n",
              "        vertical-align: top;\n",
              "    }\n",
              "\n",
              "    .dataframe thead th {\n",
              "        text-align: right;\n",
              "    }\n",
              "</style>\n",
              "<table border=\"1\" class=\"dataframe\">\n",
              "  <thead>\n",
              "    <tr style=\"text-align: right;\">\n",
              "      <th></th>\n",
              "      <th>Class</th>\n",
              "      <th>input Text</th>\n",
              "    </tr>\n",
              "  </thead>\n",
              "  <tbody>\n",
              "    <tr>\n",
              "      <th>0</th>\n",
              "      <td>ham</td>\n",
              "      <td>Go until jurong point, crazy.. Available only ...</td>\n",
              "    </tr>\n",
              "    <tr>\n",
              "      <th>1</th>\n",
              "      <td>ham</td>\n",
              "      <td>Ok lar... Joking wif u oni...</td>\n",
              "    </tr>\n",
              "    <tr>\n",
              "      <th>2</th>\n",
              "      <td>spam</td>\n",
              "      <td>Free entry in 2 a wkly comp to win FA Cup fina...</td>\n",
              "    </tr>\n",
              "    <tr>\n",
              "      <th>3</th>\n",
              "      <td>ham</td>\n",
              "      <td>U dun say so early hor... U c already then say...</td>\n",
              "    </tr>\n",
              "    <tr>\n",
              "      <th>4</th>\n",
              "      <td>ham</td>\n",
              "      <td>Nah I don't think he goes to usf, he lives aro...</td>\n",
              "    </tr>\n",
              "  </tbody>\n",
              "</table>\n",
              "</div>\n",
              "      <button class=\"colab-df-convert\" onclick=\"convertToInteractive('df-c4542000-148c-47db-a3ed-edcd4bdd89ce')\"\n",
              "              title=\"Convert this dataframe to an interactive table.\"\n",
              "              style=\"display:none;\">\n",
              "        \n",
              "  <svg xmlns=\"http://www.w3.org/2000/svg\" height=\"24px\"viewBox=\"0 0 24 24\"\n",
              "       width=\"24px\">\n",
              "    <path d=\"M0 0h24v24H0V0z\" fill=\"none\"/>\n",
              "    <path d=\"M18.56 5.44l.94 2.06.94-2.06 2.06-.94-2.06-.94-.94-2.06-.94 2.06-2.06.94zm-11 1L8.5 8.5l.94-2.06 2.06-.94-2.06-.94L8.5 2.5l-.94 2.06-2.06.94zm10 10l.94 2.06.94-2.06 2.06-.94-2.06-.94-.94-2.06-.94 2.06-2.06.94z\"/><path d=\"M17.41 7.96l-1.37-1.37c-.4-.4-.92-.59-1.43-.59-.52 0-1.04.2-1.43.59L10.3 9.45l-7.72 7.72c-.78.78-.78 2.05 0 2.83L4 21.41c.39.39.9.59 1.41.59.51 0 1.02-.2 1.41-.59l7.78-7.78 2.81-2.81c.8-.78.8-2.07 0-2.86zM5.41 20L4 18.59l7.72-7.72 1.47 1.35L5.41 20z\"/>\n",
              "  </svg>\n",
              "      </button>\n",
              "      \n",
              "  <style>\n",
              "    .colab-df-container {\n",
              "      display:flex;\n",
              "      flex-wrap:wrap;\n",
              "      gap: 12px;\n",
              "    }\n",
              "\n",
              "    .colab-df-convert {\n",
              "      background-color: #E8F0FE;\n",
              "      border: none;\n",
              "      border-radius: 50%;\n",
              "      cursor: pointer;\n",
              "      display: none;\n",
              "      fill: #1967D2;\n",
              "      height: 32px;\n",
              "      padding: 0 0 0 0;\n",
              "      width: 32px;\n",
              "    }\n",
              "\n",
              "    .colab-df-convert:hover {\n",
              "      background-color: #E2EBFA;\n",
              "      box-shadow: 0px 1px 2px rgba(60, 64, 67, 0.3), 0px 1px 3px 1px rgba(60, 64, 67, 0.15);\n",
              "      fill: #174EA6;\n",
              "    }\n",
              "\n",
              "    [theme=dark] .colab-df-convert {\n",
              "      background-color: #3B4455;\n",
              "      fill: #D2E3FC;\n",
              "    }\n",
              "\n",
              "    [theme=dark] .colab-df-convert:hover {\n",
              "      background-color: #434B5C;\n",
              "      box-shadow: 0px 1px 3px 1px rgba(0, 0, 0, 0.15);\n",
              "      filter: drop-shadow(0px 1px 2px rgba(0, 0, 0, 0.3));\n",
              "      fill: #FFFFFF;\n",
              "    }\n",
              "  </style>\n",
              "\n",
              "      <script>\n",
              "        const buttonEl =\n",
              "          document.querySelector('#df-c4542000-148c-47db-a3ed-edcd4bdd89ce button.colab-df-convert');\n",
              "        buttonEl.style.display =\n",
              "          google.colab.kernel.accessAllowed ? 'block' : 'none';\n",
              "\n",
              "        async function convertToInteractive(key) {\n",
              "          const element = document.querySelector('#df-c4542000-148c-47db-a3ed-edcd4bdd89ce');\n",
              "          const dataTable =\n",
              "            await google.colab.kernel.invokeFunction('convertToInteractive',\n",
              "                                                     [key], {});\n",
              "          if (!dataTable) return;\n",
              "\n",
              "          const docLinkHtml = 'Like what you see? Visit the ' +\n",
              "            '<a target=\"_blank\" href=https://colab.research.google.com/notebooks/data_table.ipynb>data table notebook</a>'\n",
              "            + ' to learn more about interactive tables.';\n",
              "          element.innerHTML = '';\n",
              "          dataTable['output_type'] = 'display_data';\n",
              "          await google.colab.output.renderOutput(dataTable, element);\n",
              "          const docLink = document.createElement('div');\n",
              "          docLink.innerHTML = docLinkHtml;\n",
              "          element.appendChild(docLink);\n",
              "        }\n",
              "      </script>\n",
              "    </div>\n",
              "  </div>\n",
              "  "
            ]
          },
          "metadata": {},
          "execution_count": 3
        }
      ],
      "source": [
        "data = pd.read_csv(\"spamSMS.csv\")\n",
        "data.head()"
      ]
    },
    {
      "cell_type": "markdown",
      "id": "fc097130",
      "metadata": {
        "id": "fc097130"
      },
      "source": [
        "# Data visualization"
      ]
    },
    {
      "cell_type": "code",
      "execution_count": 4,
      "id": "998c2b9f",
      "metadata": {
        "id": "998c2b9f",
        "colab": {
          "base_uri": "https://localhost:8080/"
        },
        "outputId": "8b0aefb4-0d69-440f-d667-77ad494cb91c"
      },
      "outputs": [
        {
          "output_type": "execute_result",
          "data": {
            "text/plain": [
              "(5574, 2)"
            ]
          },
          "metadata": {},
          "execution_count": 4
        }
      ],
      "source": [
        "data.shape"
      ]
    },
    {
      "cell_type": "code",
      "execution_count": 5,
      "id": "d7cca0f6",
      "metadata": {
        "id": "d7cca0f6",
        "colab": {
          "base_uri": "https://localhost:8080/"
        },
        "outputId": "7a777388-f198-4298-e80e-490b506bac9c"
      },
      "outputs": [
        {
          "output_type": "stream",
          "name": "stdout",
          "text": [
            "<class 'pandas.core.frame.DataFrame'>\n",
            "RangeIndex: 5574 entries, 0 to 5573\n",
            "Data columns (total 2 columns):\n",
            " #   Column      Non-Null Count  Dtype \n",
            "---  ------      --------------  ----- \n",
            " 0   Class       5574 non-null   object\n",
            " 1   input Text  5574 non-null   object\n",
            "dtypes: object(2)\n",
            "memory usage: 87.2+ KB\n"
          ]
        }
      ],
      "source": [
        "data.info()"
      ]
    },
    {
      "cell_type": "code",
      "execution_count": 6,
      "id": "c8d5f579",
      "metadata": {
        "id": "c8d5f579",
        "colab": {
          "base_uri": "https://localhost:8080/",
          "height": 175
        },
        "outputId": "cc02999b-6381-4afb-a045-688fad0bb1f1"
      },
      "outputs": [
        {
          "output_type": "execute_result",
          "data": {
            "text/plain": [
              "       Class              input Text\n",
              "count   5574                    5574\n",
              "unique     2                    5171\n",
              "top      ham  Sorry, I'll call later\n",
              "freq    4827                      30"
            ],
            "text/html": [
              "\n",
              "  <div id=\"df-3e150ad8-23a0-447b-81fa-ec3e992caad2\">\n",
              "    <div class=\"colab-df-container\">\n",
              "      <div>\n",
              "<style scoped>\n",
              "    .dataframe tbody tr th:only-of-type {\n",
              "        vertical-align: middle;\n",
              "    }\n",
              "\n",
              "    .dataframe tbody tr th {\n",
              "        vertical-align: top;\n",
              "    }\n",
              "\n",
              "    .dataframe thead th {\n",
              "        text-align: right;\n",
              "    }\n",
              "</style>\n",
              "<table border=\"1\" class=\"dataframe\">\n",
              "  <thead>\n",
              "    <tr style=\"text-align: right;\">\n",
              "      <th></th>\n",
              "      <th>Class</th>\n",
              "      <th>input Text</th>\n",
              "    </tr>\n",
              "  </thead>\n",
              "  <tbody>\n",
              "    <tr>\n",
              "      <th>count</th>\n",
              "      <td>5574</td>\n",
              "      <td>5574</td>\n",
              "    </tr>\n",
              "    <tr>\n",
              "      <th>unique</th>\n",
              "      <td>2</td>\n",
              "      <td>5171</td>\n",
              "    </tr>\n",
              "    <tr>\n",
              "      <th>top</th>\n",
              "      <td>ham</td>\n",
              "      <td>Sorry, I'll call later</td>\n",
              "    </tr>\n",
              "    <tr>\n",
              "      <th>freq</th>\n",
              "      <td>4827</td>\n",
              "      <td>30</td>\n",
              "    </tr>\n",
              "  </tbody>\n",
              "</table>\n",
              "</div>\n",
              "      <button class=\"colab-df-convert\" onclick=\"convertToInteractive('df-3e150ad8-23a0-447b-81fa-ec3e992caad2')\"\n",
              "              title=\"Convert this dataframe to an interactive table.\"\n",
              "              style=\"display:none;\">\n",
              "        \n",
              "  <svg xmlns=\"http://www.w3.org/2000/svg\" height=\"24px\"viewBox=\"0 0 24 24\"\n",
              "       width=\"24px\">\n",
              "    <path d=\"M0 0h24v24H0V0z\" fill=\"none\"/>\n",
              "    <path d=\"M18.56 5.44l.94 2.06.94-2.06 2.06-.94-2.06-.94-.94-2.06-.94 2.06-2.06.94zm-11 1L8.5 8.5l.94-2.06 2.06-.94-2.06-.94L8.5 2.5l-.94 2.06-2.06.94zm10 10l.94 2.06.94-2.06 2.06-.94-2.06-.94-.94-2.06-.94 2.06-2.06.94z\"/><path d=\"M17.41 7.96l-1.37-1.37c-.4-.4-.92-.59-1.43-.59-.52 0-1.04.2-1.43.59L10.3 9.45l-7.72 7.72c-.78.78-.78 2.05 0 2.83L4 21.41c.39.39.9.59 1.41.59.51 0 1.02-.2 1.41-.59l7.78-7.78 2.81-2.81c.8-.78.8-2.07 0-2.86zM5.41 20L4 18.59l7.72-7.72 1.47 1.35L5.41 20z\"/>\n",
              "  </svg>\n",
              "      </button>\n",
              "      \n",
              "  <style>\n",
              "    .colab-df-container {\n",
              "      display:flex;\n",
              "      flex-wrap:wrap;\n",
              "      gap: 12px;\n",
              "    }\n",
              "\n",
              "    .colab-df-convert {\n",
              "      background-color: #E8F0FE;\n",
              "      border: none;\n",
              "      border-radius: 50%;\n",
              "      cursor: pointer;\n",
              "      display: none;\n",
              "      fill: #1967D2;\n",
              "      height: 32px;\n",
              "      padding: 0 0 0 0;\n",
              "      width: 32px;\n",
              "    }\n",
              "\n",
              "    .colab-df-convert:hover {\n",
              "      background-color: #E2EBFA;\n",
              "      box-shadow: 0px 1px 2px rgba(60, 64, 67, 0.3), 0px 1px 3px 1px rgba(60, 64, 67, 0.15);\n",
              "      fill: #174EA6;\n",
              "    }\n",
              "\n",
              "    [theme=dark] .colab-df-convert {\n",
              "      background-color: #3B4455;\n",
              "      fill: #D2E3FC;\n",
              "    }\n",
              "\n",
              "    [theme=dark] .colab-df-convert:hover {\n",
              "      background-color: #434B5C;\n",
              "      box-shadow: 0px 1px 3px 1px rgba(0, 0, 0, 0.15);\n",
              "      filter: drop-shadow(0px 1px 2px rgba(0, 0, 0, 0.3));\n",
              "      fill: #FFFFFF;\n",
              "    }\n",
              "  </style>\n",
              "\n",
              "      <script>\n",
              "        const buttonEl =\n",
              "          document.querySelector('#df-3e150ad8-23a0-447b-81fa-ec3e992caad2 button.colab-df-convert');\n",
              "        buttonEl.style.display =\n",
              "          google.colab.kernel.accessAllowed ? 'block' : 'none';\n",
              "\n",
              "        async function convertToInteractive(key) {\n",
              "          const element = document.querySelector('#df-3e150ad8-23a0-447b-81fa-ec3e992caad2');\n",
              "          const dataTable =\n",
              "            await google.colab.kernel.invokeFunction('convertToInteractive',\n",
              "                                                     [key], {});\n",
              "          if (!dataTable) return;\n",
              "\n",
              "          const docLinkHtml = 'Like what you see? Visit the ' +\n",
              "            '<a target=\"_blank\" href=https://colab.research.google.com/notebooks/data_table.ipynb>data table notebook</a>'\n",
              "            + ' to learn more about interactive tables.';\n",
              "          element.innerHTML = '';\n",
              "          dataTable['output_type'] = 'display_data';\n",
              "          await google.colab.output.renderOutput(dataTable, element);\n",
              "          const docLink = document.createElement('div');\n",
              "          docLink.innerHTML = docLinkHtml;\n",
              "          element.appendChild(docLink);\n",
              "        }\n",
              "      </script>\n",
              "    </div>\n",
              "  </div>\n",
              "  "
            ]
          },
          "metadata": {},
          "execution_count": 6
        }
      ],
      "source": [
        "data.describe()"
      ]
    },
    {
      "cell_type": "code",
      "execution_count": 7,
      "id": "638cb28f",
      "metadata": {
        "id": "638cb28f",
        "colab": {
          "base_uri": "https://localhost:8080/",
          "height": 298
        },
        "outputId": "855a5546-d993-4893-edcc-79d4f6c0b7af"
      },
      "outputs": [
        {
          "output_type": "execute_result",
          "data": {
            "text/plain": [
              "Text(0, 0.5, 'Count')"
            ]
          },
          "metadata": {},
          "execution_count": 7
        },
        {
          "output_type": "display_data",
          "data": {
            "text/plain": [
              "<Figure size 432x288 with 1 Axes>"
            ],
            "image/png": "[encoded data removed]"
          },
          "metadata": {
            "needs_background": "light"
          }
        }
      ],
      "source": [
        "#Checking if the data is imbalanced or not\n",
        "cols= [\"#00FFFF\", \"#FFC0CB\"] #colour palette\n",
        "bar = sns.countplot(x= data[\"Class\"], palette= cols)\n",
        "bar.set_xlabel(\"Classes\")\n",
        "bar.set_ylabel(\"Count\")"
      ]
    },
    {
      "cell_type": "markdown",
      "id": "9648e986",
      "metadata": {
        "id": "9648e986"
      },
      "source": [
        "Hence, The data imbalance is quite evident here."
      ]
    },
    {
      "cell_type": "markdown",
      "id": "1ea19f8a",
      "metadata": {
        "id": "1ea19f8a"
      },
      "source": [
        "**FEATURE ENGINEERING**"
      ]
    },
    {
      "cell_type": "markdown",
      "id": "73bf804b",
      "metadata": {
        "id": "73bf804b"
      },
      "source": [
        "**To explore and get to know data better I am creating more features(columns)**\n",
        "- No_of_Char = Number of characters in the input text\n",
        "- No_of_Word = Number of words in the input text\n",
        "- No_of_sen  = Number of sentences in the input text"
      ]
    },
    {
      "cell_type": "code",
      "execution_count": 8,
      "id": "1c793759",
      "metadata": {
        "id": "1c793759"
      },
      "outputs": [],
      "source": [
        "import nltk"
      ]
    },
    {
      "cell_type": "code",
      "source": [
        "nltk.download('punkt')"
      ],
      "metadata": {
        "id": "E7_PMvadVKra",
        "colab": {
          "base_uri": "https://localhost:8080/"
        },
        "outputId": "b2c29fb2-9679-48ec-ecfd-3f1f0048c19e"
      },
      "id": "E7_PMvadVKra",
      "execution_count": 9,
      "outputs": [
        {
          "output_type": "stream",
          "name": "stdout",
          "text": [
            "[nltk_data] Downloading package punkt to /root/nltk_data...\n",
            "[nltk_data]   Package punkt is already up-to-date!\n"
          ]
        },
        {
          "output_type": "execute_result",
          "data": {
            "text/plain": [
              "True"
            ]
          },
          "metadata": {},
          "execution_count": 9
        }
      ]
    },
    {
      "cell_type": "code",
      "execution_count": 10,
      "id": "9d6e5c9e",
      "metadata": {
        "id": "9d6e5c9e"
      },
      "outputs": [],
      "source": [
        "from nltk.corpus import stopwords\n",
        "from nltk.stem.porter import PorterStemmer\n",
        "from nltk.stem import WordNetLemmatizer"
      ]
    },
    {
      "cell_type": "code",
      "execution_count": 11,
      "id": "3085a992",
      "metadata": {
        "id": "3085a992"
      },
      "outputs": [],
      "source": [
        "data[\"No_of_Char\"] = data[\"input Text\"].apply(len)\n",
        "data[\"No_of_Words\"]=data.apply(lambda row: nltk.word_tokenize(row[\"input Text\"]), axis=1).apply(len)\n",
        "data[\"No_of_sen\"]=data.apply(lambda row: nltk.sent_tokenize(row[\"input Text\"]), axis=1).apply(len)"
      ]
    },
    {
      "cell_type": "code",
      "execution_count": 12,
      "id": "5d114531",
      "metadata": {
        "id": "5d114531",
        "colab": {
          "base_uri": "https://localhost:8080/",
          "height": 206
        },
        "outputId": "9ae828c9-35bd-45df-d9fc-b870efbe1a14"
      },
      "outputs": [
        {
          "output_type": "execute_result",
          "data": {
            "text/plain": [
              "  Class                                         input Text  No_of_Char  \\\n",
              "0   ham  Go until jurong point, crazy.. Available only ...         111   \n",
              "1   ham                      Ok lar... Joking wif u oni...          29   \n",
              "2  spam  Free entry in 2 a wkly comp to win FA Cup fina...         155   \n",
              "3   ham  U dun say so early hor... U c already then say...          49   \n",
              "4   ham  Nah I don't think he goes to usf, he lives aro...          61   \n",
              "\n",
              "   No_of_Words  No_of_sen  \n",
              "0           23          2  \n",
              "1            8          2  \n",
              "2           37          2  \n",
              "3           13          1  \n",
              "4           15          1  "
            ],
            "text/html": [
              "\n",
              "  <div id=\"df-b9d405d1-19f6-4c6b-a962-e909f5cd38e0\">\n",
              "    <div class=\"colab-df-container\">\n",
              "      <div>\n",
              "<style scoped>\n",
              "    .dataframe tbody tr th:only-of-type {\n",
              "        vertical-align: middle;\n",
              "    }\n",
              "\n",
              "    .dataframe tbody tr th {\n",
              "        vertical-align: top;\n",
              "    }\n",
              "\n",
              "    .dataframe thead th {\n",
              "        text-align: right;\n",
              "    }\n",
              "</style>\n",
              "<table border=\"1\" class=\"dataframe\">\n",
              "  <thead>\n",
              "    <tr style=\"text-align: right;\">\n",
              "      <th></th>\n",
              "      <th>Class</th>\n",
              "      <th>input Text</th>\n",
              "      <th>No_of_Char</th>\n",
              "      <th>No_of_Words</th>\n",
              "      <th>No_of_sen</th>\n",
              "    </tr>\n",
              "  </thead>\n",
              "  <tbody>\n",
              "    <tr>\n",
              "      <th>0</th>\n",
              "      <td>ham</td>\n",
              "      <td>Go until jurong point, crazy.. Available only ...</td>\n",
              "      <td>111</td>\n",
              "      <td>23</td>\n",
              "      <td>2</td>\n",
              "    </tr>\n",
              "    <tr>\n",
              "      <th>1</th>\n",
              "      <td>ham</td>\n",
              "      <td>Ok lar... Joking wif u oni...</td>\n",
              "      <td>29</td>\n",
              "      <td>8</td>\n",
              "      <td>2</td>\n",
              "    </tr>\n",
              "    <tr>\n",
              "      <th>2</th>\n",
              "      <td>spam</td>\n",
              "      <td>Free entry in 2 a wkly comp to win FA Cup fina...</td>\n",
              "      <td>155</td>\n",
              "      <td>37</td>\n",
              "      <td>2</td>\n",
              "    </tr>\n",
              "    <tr>\n",
              "      <th>3</th>\n",
              "      <td>ham</td>\n",
              "      <td>U dun say so early hor... U c already then say...</td>\n",
              "      <td>49</td>\n",
              "      <td>13</td>\n",
              "      <td>1</td>\n",
              "    </tr>\n",
              "    <tr>\n",
              "      <th>4</th>\n",
              "      <td>ham</td>\n",
              "      <td>Nah I don't think he goes to usf, he lives aro...</td>\n",
              "      <td>61</td>\n",
              "      <td>15</td>\n",
              "      <td>1</td>\n",
              "    </tr>\n",
              "  </tbody>\n",
              "</table>\n",
              "</div>\n",
              "      <button class=\"colab-df-convert\" onclick=\"convertToInteractive('df-b9d405d1-19f6-4c6b-a962-e909f5cd38e0')\"\n",
              "              title=\"Convert this dataframe to an interactive table.\"\n",
              "              style=\"display:none;\">\n",
              "        \n",
              "  <svg xmlns=\"http://www.w3.org/2000/svg\" height=\"24px\"viewBox=\"0 0 24 24\"\n",
              "       width=\"24px\">\n",
              "    <path d=\"M0 0h24v24H0V0z\" fill=\"none\"/>\n",
              "    <path d=\"M18.56 5.44l.94 2.06.94-2.06 2.06-.94-2.06-.94-.94-2.06-.94 2.06-2.06.94zm-11 1L8.5 8.5l.94-2.06 2.06-.94-2.06-.94L8.5 2.5l-.94 2.06-2.06.94zm10 10l.94 2.06.94-2.06 2.06-.94-2.06-.94-.94-2.06-.94 2.06-2.06.94z\"/><path d=\"M17.41 7.96l-1.37-1.37c-.4-.4-.92-.59-1.43-.59-.52 0-1.04.2-1.43.59L10.3 9.45l-7.72 7.72c-.78.78-.78 2.05 0 2.83L4 21.41c.39.39.9.59 1.41.59.51 0 1.02-.2 1.41-.59l7.78-7.78 2.81-2.81c.8-.78.8-2.07 0-2.86zM5.41 20L4 18.59l7.72-7.72 1.47 1.35L5.41 20z\"/>\n",
              "  </svg>\n",
              "      </button>\n",
              "      \n",
              "  <style>\n",
              "    .colab-df-container {\n",
              "      display:flex;\n",
              "      flex-wrap:wrap;\n",
              "      gap: 12px;\n",
              "    }\n",
              "\n",
              "    .colab-df-convert {\n",
              "      background-color: #E8F0FE;\n",
              "      border: none;\n",
              "      border-radius: 50%;\n",
              "      cursor: pointer;\n",
              "      display: none;\n",
              "      fill: #1967D2;\n",
              "      height: 32px;\n",
              "      padding: 0 0 0 0;\n",
              "      width: 32px;\n",
              "    }\n",
              "\n",
              "    .colab-df-convert:hover {\n",
              "      background-color: #E2EBFA;\n",
              "      box-shadow: 0px 1px 2px rgba(60, 64, 67, 0.3), 0px 1px 3px 1px rgba(60, 64, 67, 0.15);\n",
              "      fill: #174EA6;\n",
              "    }\n",
              "\n",
              "    [theme=dark] .colab-df-convert {\n",
              "      background-color: #3B4455;\n",
              "      fill: #D2E3FC;\n",
              "    }\n",
              "\n",
              "    [theme=dark] .colab-df-convert:hover {\n",
              "      background-color: #434B5C;\n",
              "      box-shadow: 0px 1px 3px 1px rgba(0, 0, 0, 0.15);\n",
              "      filter: drop-shadow(0px 1px 2px rgba(0, 0, 0, 0.3));\n",
              "      fill: #FFFFFF;\n",
              "    }\n",
              "  </style>\n",
              "\n",
              "      <script>\n",
              "        const buttonEl =\n",
              "          document.querySelector('#df-b9d405d1-19f6-4c6b-a962-e909f5cd38e0 button.colab-df-convert');\n",
              "        buttonEl.style.display =\n",
              "          google.colab.kernel.accessAllowed ? 'block' : 'none';\n",
              "\n",
              "        async function convertToInteractive(key) {\n",
              "          const element = document.querySelector('#df-b9d405d1-19f6-4c6b-a962-e909f5cd38e0');\n",
              "          const dataTable =\n",
              "            await google.colab.kernel.invokeFunction('convertToInteractive',\n",
              "                                                     [key], {});\n",
              "          if (!dataTable) return;\n",
              "\n",
              "          const docLinkHtml = 'Like what you see? Visit the ' +\n",
              "            '<a target=\"_blank\" href=https://colab.research.google.com/notebooks/data_table.ipynb>data table notebook</a>'\n",
              "            + ' to learn more about interactive tables.';\n",
              "          element.innerHTML = '';\n",
              "          dataTable['output_type'] = 'display_data';\n",
              "          await google.colab.output.renderOutput(dataTable, element);\n",
              "          const docLink = document.createElement('div');\n",
              "          docLink.innerHTML = docLinkHtml;\n",
              "          element.appendChild(docLink);\n",
              "        }\n",
              "      </script>\n",
              "    </div>\n",
              "  </div>\n",
              "  "
            ]
          },
          "metadata": {},
          "execution_count": 12
        }
      ],
      "source": [
        "data.head()"
      ]
    },
    {
      "cell_type": "code",
      "execution_count": 13,
      "id": "b86f70e9",
      "metadata": {
        "id": "b86f70e9",
        "colab": {
          "base_uri": "https://localhost:8080/",
          "height": 568
        },
        "outputId": "1c900d41-a21e-4f39-fa89-72fa54aef363"
      },
      "outputs": [
        {
          "output_type": "execute_result",
          "data": {
            "text/plain": [
              "<seaborn.axisgrid.PairGrid at 0x7fb48a445510>"
            ]
          },
          "metadata": {},
          "execution_count": 13
        },
        {
          "output_type": "display_data",
          "data": {
            "text/plain": [
              "<Figure size 603.25x540 with 12 Axes>"
            ],
            "image/png": "[encoded data removed]"
          },
          "metadata": {
            "needs_background": "light"
          }
        }
      ],
      "source": [
        "sns.pairplot(data=data, hue=\"Class\",palette=cols)"
      ]
    },
    {
      "cell_type": "markdown",
      "id": "a41acf5c",
      "metadata": {
        "id": "a41acf5c"
      },
      "source": [
        "Here, we can observe few outliners in the class 'Ham'. Hence, we can drop the outliners as they the same thing i.e length of the input text."
      ]
    },
    {
      "cell_type": "markdown",
      "id": "f60b7439",
      "metadata": {
        "id": "f60b7439"
      },
      "source": [
        "# Data Preprocessing"
      ]
    },
    {
      "cell_type": "code",
      "execution_count": 14,
      "id": "962e3a2d",
      "metadata": {
        "id": "962e3a2d",
        "colab": {
          "base_uri": "https://localhost:8080/"
        },
        "outputId": "6b010b5a-b1db-4be0-cab9-834f33b8aad2"
      },
      "outputs": [
        {
          "output_type": "execute_result",
          "data": {
            "text/plain": [
              "(5550, 5)"
            ]
          },
          "metadata": {},
          "execution_count": 14
        }
      ],
      "source": [
        "data = data[(data[\"No_of_Char\"]<350)]\n",
        "data.shape"
      ]
    },
    {
      "cell_type": "code",
      "execution_count": 15,
      "id": "5cc12d45",
      "metadata": {
        "id": "5cc12d45"
      },
      "outputs": [],
      "source": [
        "#function to clean input text\n",
        "def clean_data(inputText):\n",
        "    text = re.sub('[^a-zA-Z]', ' ', inputText) #Replacing all non-alphabetic characters with a space\n",
        "    text = text.lower() #converting input to lowercase\n",
        "    text = text.split()\n",
        "    text = ' '.join(text)\n",
        "    return text"
      ]
    },
    {
      "cell_type": "code",
      "execution_count": 16,
      "id": "d6025bb5",
      "metadata": {
        "id": "d6025bb5",
        "colab": {
          "base_uri": "https://localhost:8080/"
        },
        "outputId": "df9852fc-864e-415b-a5df-d2855121f14c"
      },
      "outputs": [
        {
          "output_type": "stream",
          "name": "stderr",
          "text": [
            "/usr/local/lib/python3.7/dist-packages/ipykernel_launcher.py:2: SettingWithCopyWarning: \n",
            "A value is trying to be set on a copy of a slice from a DataFrame.\n",
            "Try using .loc[row_indexer,col_indexer] = value instead\n",
            "\n",
            "See the caveats in the documentation: https://pandas.pydata.org/pandas-docs/stable/user_guide/indexing.html#returning-a-view-versus-a-copy\n",
            "  \n"
          ]
        },
        {
          "output_type": "execute_result",
          "data": {
            "text/plain": [
              "0    go until jurong point crazy available only in ...\n",
              "1                              ok lar joking wif u oni\n",
              "2    free entry in a wkly comp to win fa cup final ...\n",
              "3          u dun say so early hor u c already then say\n",
              "4    nah i don t think he goes to usf he lives arou...\n",
              "Name: cleaned_text, dtype: object"
            ]
          },
          "metadata": {},
          "execution_count": 16
        }
      ],
      "source": [
        "#cleaning input text\n",
        "data[\"cleaned_text\"] = data[\"input Text\"].apply(clean_data)\n",
        "data[\"cleaned_text\"].head()"
      ]
    },
    {
      "cell_type": "markdown",
      "id": "92c55cbf",
      "metadata": {
        "id": "92c55cbf"
      },
      "source": [
        "**Here, I replaced all non-alphabetic characters with a space and converted the text to lower case**"
      ]
    },
    {
      "cell_type": "code",
      "execution_count": 17,
      "id": "55ef2c2c",
      "metadata": {
        "id": "55ef2c2c",
        "colab": {
          "base_uri": "https://localhost:8080/"
        },
        "outputId": "1ba785d8-0156-457a-df26-3ffe609cf4ec"
      },
      "outputs": [
        {
          "output_type": "stream",
          "name": "stderr",
          "text": [
            "/usr/local/lib/python3.7/dist-packages/ipykernel_launcher.py:2: SettingWithCopyWarning: \n",
            "A value is trying to be set on a copy of a slice from a DataFrame.\n",
            "Try using .loc[row_indexer,col_indexer] = value instead\n",
            "\n",
            "See the caveats in the documentation: https://pandas.pydata.org/pandas-docs/stable/user_guide/indexing.html#returning-a-view-versus-a-copy\n",
            "  \n"
          ]
        },
        {
          "output_type": "execute_result",
          "data": {
            "text/plain": [
              "0    [go, until, jurong, point, crazy, available, o...\n",
              "1                       [ok, lar, joking, wif, u, oni]\n",
              "2    [free, entry, in, a, wkly, comp, to, win, fa, ...\n",
              "3    [u, dun, say, so, early, hor, u, c, already, t...\n",
              "4    [nah, i, don, t, think, he, goes, to, usf, he,...\n",
              "Name: Tokenized_Text, dtype: object"
            ]
          },
          "metadata": {},
          "execution_count": 17
        }
      ],
      "source": [
        "#Tokenization\n",
        "data[\"Tokenized_Text\"]=data.apply(lambda row: nltk.word_tokenize(row[\"cleaned_text\"]), axis=1)\n",
        "data[\"Tokenized_Text\"].head()"
      ]
    },
    {
      "cell_type": "markdown",
      "id": "9b7ba69c",
      "metadata": {
        "id": "9b7ba69c"
      },
      "source": [
        "**Here, I split the sentence into words(tokens) to remove stopwords in the next step.**"
      ]
    },
    {
      "cell_type": "code",
      "execution_count": 18,
      "id": "917aa8a9",
      "metadata": {
        "id": "917aa8a9"
      },
      "outputs": [],
      "source": [
        "# function to Remove stopwords\n",
        "def removing_stopwords(text):\n",
        "    stop_words = set(stopwords.words(\"english\"))\n",
        "    filtered_text = [word for word in text if word not in stop_words]\n",
        "    return filtered_text"
      ]
    },
    {
      "cell_type": "code",
      "execution_count": 19,
      "id": "ba881c14",
      "metadata": {
        "id": "ba881c14",
        "colab": {
          "base_uri": "https://localhost:8080/"
        },
        "outputId": "f5fadfc7-2098-48e3-cc41-9fc7e4b3e1cd"
      },
      "outputs": [
        {
          "output_type": "stream",
          "name": "stdout",
          "text": [
            "[nltk_data] Downloading package stopwords to /root/nltk_data...\n",
            "[nltk_data]   Package stopwords is already up-to-date!\n"
          ]
        },
        {
          "output_type": "execute_result",
          "data": {
            "text/plain": [
              "True"
            ]
          },
          "metadata": {},
          "execution_count": 19
        }
      ],
      "source": [
        "nltk.download('stopwords')"
      ]
    },
    {
      "cell_type": "code",
      "execution_count": 20,
      "id": "a18f154a",
      "metadata": {
        "id": "a18f154a",
        "colab": {
          "base_uri": "https://localhost:8080/"
        },
        "outputId": "ce278b16-2682-49a9-c4dc-d9a71227e5be"
      },
      "outputs": [
        {
          "output_type": "stream",
          "name": "stderr",
          "text": [
            "/usr/local/lib/python3.7/dist-packages/ipykernel_launcher.py:1: SettingWithCopyWarning: \n",
            "A value is trying to be set on a copy of a slice from a DataFrame.\n",
            "Try using .loc[row_indexer,col_indexer] = value instead\n",
            "\n",
            "See the caveats in the documentation: https://pandas.pydata.org/pandas-docs/stable/user_guide/indexing.html#returning-a-view-versus-a-copy\n",
            "  \"\"\"Entry point for launching an IPython kernel.\n"
          ]
        },
        {
          "output_type": "execute_result",
          "data": {
            "text/plain": [
              "0    [go, jurong, point, crazy, available, bugis, n...\n",
              "1                       [ok, lar, joking, wif, u, oni]\n",
              "2    [free, entry, wkly, comp, win, fa, cup, final,...\n",
              "3        [u, dun, say, early, hor, u, c, already, say]\n",
              "4       [nah, think, goes, usf, lives, around, though]\n",
              "Name: No_stopword_Text, dtype: object"
            ]
          },
          "metadata": {},
          "execution_count": 20
        }
      ],
      "source": [
        "data[\"No_stopword_Text\"] = data[\"Tokenized_Text\"].apply(removing_stopwords)\n",
        "data[\"No_stopword_Text\"].head()"
      ]
    },
    {
      "cell_type": "markdown",
      "id": "590c63dc",
      "metadata": {
        "id": "590c63dc"
      },
      "source": [
        "**Stopwords give meaning to the sentence structure but do not contribute in NLP. so, I removed stopwords from the input text.**"
      ]
    },
    {
      "cell_type": "code",
      "execution_count": 21,
      "id": "88856884",
      "metadata": {
        "id": "88856884"
      },
      "outputs": [],
      "source": [
        "lemmatizer = WordNetLemmatizer()\n",
        "\n",
        "def lemmatization(text):\n",
        "    lemmas = [lemmatizer.lemmatize(word, pos ='v') for word in text]\n",
        "    return lemmas"
      ]
    },
    {
      "cell_type": "code",
      "execution_count": 22,
      "id": "86ce9fd7",
      "metadata": {
        "id": "86ce9fd7",
        "colab": {
          "base_uri": "https://localhost:8080/"
        },
        "outputId": "2de32bba-f669-403f-ddc2-164b6e2860cc"
      },
      "outputs": [
        {
          "output_type": "stream",
          "name": "stdout",
          "text": [
            "[nltk_data] Downloading package wordnet to /root/nltk_data...\n",
            "[nltk_data]   Package wordnet is already up-to-date!\n"
          ]
        },
        {
          "output_type": "execute_result",
          "data": {
            "text/plain": [
              "True"
            ]
          },
          "metadata": {},
          "execution_count": 22
        }
      ],
      "source": [
        "nltk.download('wordnet')"
      ]
    },
    {
      "cell_type": "code",
      "execution_count": 23,
      "id": "f13c7932",
      "metadata": {
        "id": "f13c7932",
        "colab": {
          "base_uri": "https://localhost:8080/"
        },
        "outputId": "5dafd345-809f-4acd-dcc4-f21e524fca6f"
      },
      "outputs": [
        {
          "output_type": "stream",
          "name": "stderr",
          "text": [
            "/usr/local/lib/python3.7/dist-packages/ipykernel_launcher.py:1: SettingWithCopyWarning: \n",
            "A value is trying to be set on a copy of a slice from a DataFrame.\n",
            "Try using .loc[row_indexer,col_indexer] = value instead\n",
            "\n",
            "See the caveats in the documentation: https://pandas.pydata.org/pandas-docs/stable/user_guide/indexing.html#returning-a-view-versus-a-copy\n",
            "  \"\"\"Entry point for launching an IPython kernel.\n"
          ]
        },
        {
          "output_type": "execute_result",
          "data": {
            "text/plain": [
              "0    [go, jurong, point, crazy, available, bugis, n...\n",
              "1                         [ok, lar, joke, wif, u, oni]\n",
              "2    [free, entry, wkly, comp, win, fa, cup, final,...\n",
              "3        [u, dun, say, early, hor, u, c, already, say]\n",
              "4          [nah, think, go, usf, live, around, though]\n",
              "Name: Lemmatized_Text, dtype: object"
            ]
          },
          "metadata": {},
          "execution_count": 23
        }
      ],
      "source": [
        "data[\"Lemmatized_Text\"] = data[\"No_stopword_Text\"].apply(lemmatization)\n",
        "data[\"Lemmatized_Text\"].head()"
      ]
    },
    {
      "cell_type": "code",
      "execution_count": 24,
      "id": "2b7ddaa4",
      "metadata": {
        "id": "2b7ddaa4"
      },
      "outputs": [],
      "source": [
        "corpus= []\n",
        "for i in data[\"Lemmatized_Text\"]:\n",
        "    msg = ' '.join([row for row in i])\n",
        "    corpus.append(msg)"
      ]
    },
    {
      "cell_type": "code",
      "execution_count": 25,
      "id": "8d4262f1",
      "metadata": {
        "id": "8d4262f1",
        "colab": {
          "base_uri": "https://localhost:8080/"
        },
        "outputId": "53932f10-9cc9-4d7d-ae8b-0d6ae0c41dc1"
      },
      "outputs": [
        {
          "output_type": "execute_result",
          "data": {
            "text/plain": [
              "['go jurong point crazy available bugis n great world la e buffet cine get amore wat',\n",
              " 'ok lar joke wif u oni',\n",
              " 'free entry wkly comp win fa cup final tkts st may text fa receive entry question std txt rate c apply',\n",
              " 'u dun say early hor u c already say',\n",
              " 'nah think go usf live around though']"
            ]
          },
          "metadata": {},
          "execution_count": 25
        }
      ],
      "source": [
        "corpus[:5]"
      ]
    },
    {
      "cell_type": "code",
      "execution_count": 26,
      "id": "64dc92a4",
      "metadata": {
        "id": "64dc92a4"
      },
      "outputs": [],
      "source": [
        "from sklearn.feature_extraction.text import TfidfVectorizer\n",
        "from sklearn.preprocessing import LabelEncoder"
      ]
    },
    {
      "cell_type": "code",
      "execution_count": 27,
      "id": "c2229657",
      "metadata": {
        "id": "c2229657",
        "colab": {
          "base_uri": "https://localhost:8080/"
        },
        "outputId": "fcb881f4-12dd-47eb-ef76-11f0205e17fe"
      },
      "outputs": [
        {
          "output_type": "execute_result",
          "data": {
            "text/plain": [
              "dtype('float64')"
            ]
          },
          "metadata": {},
          "execution_count": 27
        }
      ],
      "source": [
        "tfidf = TfidfVectorizer()\n",
        "X = tfidf.fit_transform(corpus).toarray()\n",
        "X.dtype"
      ]
    },
    {
      "cell_type": "code",
      "execution_count": 28,
      "id": "7655b4d4",
      "metadata": {
        "id": "7655b4d4",
        "colab": {
          "base_uri": "https://localhost:8080/"
        },
        "outputId": "3da4df58-c6c4-478c-9b77-55f418243053"
      },
      "outputs": [
        {
          "output_type": "stream",
          "name": "stderr",
          "text": [
            "/usr/local/lib/python3.7/dist-packages/ipykernel_launcher.py:2: SettingWithCopyWarning: \n",
            "A value is trying to be set on a copy of a slice from a DataFrame.\n",
            "Try using .loc[row_indexer,col_indexer] = value instead\n",
            "\n",
            "See the caveats in the documentation: https://pandas.pydata.org/pandas-docs/stable/user_guide/indexing.html#returning-a-view-versus-a-copy\n",
            "  \n"
          ]
        }
      ],
      "source": [
        "label_encoder = LabelEncoder()\n",
        "data[\"Class\"] = label_encoder.fit_transform(data[\"Class\"])"
      ]
    },
    {
      "cell_type": "markdown",
      "id": "02d75482",
      "metadata": {
        "id": "02d75482"
      },
      "source": [
        "# Data Visualization After Preprocessing"
      ]
    },
    {
      "cell_type": "code",
      "execution_count": 29,
      "id": "a7882b49",
      "metadata": {
        "id": "a7882b49",
        "colab": {
          "base_uri": "https://localhost:8080/",
          "height": 568
        },
        "outputId": "3ef8ed92-08d8-45c3-a1b2-952f8aed4e55"
      },
      "outputs": [
        {
          "output_type": "execute_result",
          "data": {
            "text/plain": [
              "<seaborn.axisgrid.PairGrid at 0x7fb48a9ef750>"
            ]
          },
          "metadata": {},
          "execution_count": 29
        },
        {
          "output_type": "display_data",
          "data": {
            "text/plain": [
              "<Figure size 582.375x540 with 12 Axes>"
            ],
            "image/png": "[encoded data removed]"
          },
          "metadata": {
            "needs_background": "light"
          }
        }
      ],
      "source": [
        "sns.pairplot(data=data, hue=\"Class\",palette=cols)"
      ]
    },
    {
      "cell_type": "markdown",
      "id": "2402398e",
      "metadata": {
        "id": "2402398e"
      },
      "source": [
        "# Model Building"
      ]
    },
    {
      "cell_type": "code",
      "execution_count": 30,
      "id": "a6f6240e",
      "metadata": {
        "id": "a6f6240e"
      },
      "outputs": [],
      "source": [
        "from sklearn.model_selection import train_test_split\n",
        "from sklearn.naive_bayes import MultinomialNB\n",
        "from sklearn.ensemble import RandomForestClassifier\n",
        "from sklearn.neighbors import KNeighborsClassifier\n",
        "from sklearn.svm import SVC\n",
        "from sklearn.model_selection import cross_val_score\n",
        "from sklearn import metrics\n",
        "from sklearn.metrics import precision_score, recall_score, plot_confusion_matrix, classification_report, accuracy_score, f1_score, ConfusionMatrixDisplay"
      ]
    },
    {
      "cell_type": "code",
      "execution_count": 31,
      "id": "c5de4370",
      "metadata": {
        "id": "c5de4370"
      },
      "outputs": [],
      "source": [
        "# Splitting the testing and training datasets\n",
        "y = data[\"Class\"] \n",
        "X_train, X_test, y_train, y_test = train_test_split(X, y, test_size=0.3, random_state=42)"
      ]
    },
    {
      "cell_type": "code",
      "source": [
        "precision =[]\n",
        "recall =[]\n",
        "f1_score = []\n",
        "trainset_accuracy = []\n",
        "testset_accuracy = []"
      ],
      "metadata": {
        "id": "kX24s3p0N3m-"
      },
      "id": "kX24s3p0N3m-",
      "execution_count": 32,
      "outputs": []
    },
    {
      "cell_type": "code",
      "execution_count": 33,
      "id": "e417a912",
      "metadata": {
        "id": "e417a912",
        "colab": {
          "base_uri": "https://localhost:8080/"
        },
        "outputId": "181b1c4f-e18c-40a7-b1ec-3771f165fe8b"
      },
      "outputs": [
        {
          "output_type": "execute_result",
          "data": {
            "text/plain": [
              "array([0.96915167, 0.96143959, 0.96401028, 0.96915167, 0.9562982 ,\n",
              "       0.97680412, 0.95876289, 0.93814433, 0.96391753, 0.95876289])"
            ]
          },
          "metadata": {},
          "execution_count": 33
        }
      ],
      "source": [
        "Multinomia = MultinomialNB()\n",
        "Multinomia.fit(X_train, y_train)\n",
        "Multinomia_score = cross_val_score(Multinomia, X_train,y_train,scoring=\"accuracy\", cv=10)\n",
        "Multinomia_score"
      ]
    },
    {
      "cell_type": "code",
      "execution_count": 34,
      "id": "84afc057",
      "metadata": {
        "id": "84afc057",
        "colab": {
          "base_uri": "https://localhost:8080/"
        },
        "outputId": "3c5058b9-c31e-40a3-abde-30d24a040ba8"
      },
      "outputs": [
        {
          "output_type": "execute_result",
          "data": {
            "text/plain": [
              "0.9616443166459068"
            ]
          },
          "metadata": {},
          "execution_count": 34
        }
      ],
      "source": [
        "Multinomia_score.mean()"
      ]
    },
    {
      "cell_type": "code",
      "execution_count": 35,
      "id": "261487b6",
      "metadata": {
        "id": "261487b6",
        "colab": {
          "base_uri": "https://localhost:8080/"
        },
        "outputId": "f1094bc1-3025-4f37-af0d-98d65149119b"
      },
      "outputs": [
        {
          "output_type": "execute_result",
          "data": {
            "text/plain": [
              "1.0"
            ]
          },
          "metadata": {},
          "execution_count": 35
        }
      ],
      "source": [
        "Multinomia_pred_train = Multinomia.predict(X_train)\n",
        "Multinomia_pred_test = Multinomia.predict(X_test)\n",
        "Multinomia_pred = metrics.precision_score(y_test, Multinomia_pred_test)\n",
        "Multinomia_pred"
      ]
    },
    {
      "cell_type": "code",
      "execution_count": 36,
      "id": "a2b629ef",
      "metadata": {
        "id": "a2b629ef",
        "colab": {
          "base_uri": "https://localhost:8080/"
        },
        "outputId": "cd44b482-c737-453b-d1b1-8866d5d38084"
      },
      "outputs": [
        {
          "output_type": "execute_result",
          "data": {
            "text/plain": [
              "0.7296137339055794"
            ]
          },
          "metadata": {},
          "execution_count": 36
        }
      ],
      "source": [
        "Multinomia_recal = metrics.recall_score(y_test, Multinomia_pred_test)\n",
        "Multinomia_recal"
      ]
    },
    {
      "cell_type": "code",
      "execution_count": 37,
      "id": "83978940",
      "metadata": {
        "id": "83978940",
        "colab": {
          "base_uri": "https://localhost:8080/"
        },
        "outputId": "8d3d0697-def2-475b-e06e-2c07ee01f7d4"
      },
      "outputs": [
        {
          "output_type": "execute_result",
          "data": {
            "text/plain": [
              "0.8436724565756824"
            ]
          },
          "metadata": {},
          "execution_count": 37
        }
      ],
      "source": [
        "Multinomia_f1_s = metrics.f1_score(y_test, Multinomia_pred_test)\n",
        "Multinomia_f1_s"
      ]
    },
    {
      "cell_type": "code",
      "execution_count": 38,
      "id": "05c04be1",
      "metadata": {
        "id": "05c04be1",
        "colab": {
          "base_uri": "https://localhost:8080/"
        },
        "outputId": "3a5d2deb-10ab-48d5-e6c9-f294e7d11ac8"
      },
      "outputs": [
        {
          "output_type": "execute_result",
          "data": {
            "text/plain": [
              "0.9745173745173745"
            ]
          },
          "metadata": {},
          "execution_count": 38
        }
      ],
      "source": [
        "Multinomia_train_accuracy = Multinomia.score(X_train,y_train)\n",
        "Multinomia_train_accuracy"
      ]
    },
    {
      "cell_type": "code",
      "execution_count": 39,
      "id": "f4231cdb",
      "metadata": {
        "id": "f4231cdb",
        "colab": {
          "base_uri": "https://localhost:8080/"
        },
        "outputId": "56775dd5-4377-494b-c539-dcc03a386474"
      },
      "outputs": [
        {
          "output_type": "execute_result",
          "data": {
            "text/plain": [
              "0.9621621621621622"
            ]
          },
          "metadata": {},
          "execution_count": 39
        }
      ],
      "source": [
        "Multinomia_test_accuracy = Multinomia.score(X_test,y_test)\n",
        "Multinomia_test_accuracy"
      ]
    },
    {
      "cell_type": "code",
      "source": [
        "precision.append(Multinomia_pred)\n",
        "recall.append(Multinomia_recal)\n",
        "f1_score.append(Multinomia_f1_s)\n",
        "trainset_accuracy.append(Multinomia_train_accuracy)\n",
        "testset_accuracy.append(Multinomia_test_accuracy)"
      ],
      "metadata": {
        "id": "oqlC_4v0N8Tf"
      },
      "id": "oqlC_4v0N8Tf",
      "execution_count": 40,
      "outputs": []
    },
    {
      "cell_type": "code",
      "execution_count": 41,
      "id": "287c8390",
      "metadata": {
        "id": "287c8390",
        "colab": {
          "base_uri": "https://localhost:8080/"
        },
        "outputId": "cdaaa226-b5c3-4253-e697-8db5311be42b"
      },
      "outputs": [
        {
          "output_type": "execute_result",
          "data": {
            "text/plain": [
              "array([0.89974293, 0.90488432, 0.91002571, 0.9125964 , 0.89974293,\n",
              "       0.90979381, 0.90463918, 0.89690722, 0.92010309, 0.92525773])"
            ]
          },
          "metadata": {},
          "execution_count": 41
        }
      ],
      "source": [
        "KNC = KNeighborsClassifier()\n",
        "KNC.fit(X_train, y_train)\n",
        "KNC_score = cross_val_score(KNC, X_train,y_train,scoring=\"accuracy\", cv=10)\n",
        "KNC_score"
      ]
    },
    {
      "cell_type": "code",
      "execution_count": 42,
      "id": "e205d5b5",
      "metadata": {
        "id": "e205d5b5",
        "colab": {
          "base_uri": "https://localhost:8080/"
        },
        "outputId": "a1515524-a8ab-492b-d44d-27d6cf508802"
      },
      "outputs": [
        {
          "output_type": "execute_result",
          "data": {
            "text/plain": [
              "0.9083693318845573"
            ]
          },
          "metadata": {},
          "execution_count": 42
        }
      ],
      "source": [
        "KNC_score.mean()"
      ]
    },
    {
      "cell_type": "code",
      "execution_count": 43,
      "id": "8e2a5d81",
      "metadata": {
        "id": "8e2a5d81",
        "colab": {
          "base_uri": "https://localhost:8080/"
        },
        "outputId": "3f0d5c03-9e58-499a-bfb6-15f8958b6ea6"
      },
      "outputs": [
        {
          "output_type": "execute_result",
          "data": {
            "text/plain": [
              "1.0"
            ]
          },
          "metadata": {},
          "execution_count": 43
        }
      ],
      "source": [
        "KNC_pred_train = KNC.predict(X_train)\n",
        "KNC_pred_test = KNC.predict(X_test)\n",
        "KNC_pred = metrics.precision_score(y_test, KNC_pred_test)\n",
        "KNC_pred"
      ]
    },
    {
      "cell_type": "code",
      "execution_count": 44,
      "id": "c5525e09",
      "metadata": {
        "id": "c5525e09",
        "colab": {
          "base_uri": "https://localhost:8080/"
        },
        "outputId": "68bd307b-99c4-4567-d3a7-1faa6590c7a7"
      },
      "outputs": [
        {
          "output_type": "execute_result",
          "data": {
            "text/plain": [
              "0.3218884120171674"
            ]
          },
          "metadata": {},
          "execution_count": 44
        }
      ],
      "source": [
        "KNC_recal = metrics.recall_score(y_test, KNC_pred_test)\n",
        "KNC_recal"
      ]
    },
    {
      "cell_type": "code",
      "execution_count": 45,
      "id": "0f0e1862",
      "metadata": {
        "id": "0f0e1862",
        "colab": {
          "base_uri": "https://localhost:8080/"
        },
        "outputId": "5ea4a974-045a-449e-fa4e-8d39d6e61c50"
      },
      "outputs": [
        {
          "output_type": "execute_result",
          "data": {
            "text/plain": [
              "0.487012987012987"
            ]
          },
          "metadata": {},
          "execution_count": 45
        }
      ],
      "source": [
        "KNC_f1_s = metrics.f1_score(y_test, KNC_pred_test)\n",
        "KNC_f1_s"
      ]
    },
    {
      "cell_type": "code",
      "execution_count": 46,
      "id": "e18fb4cf",
      "metadata": {
        "id": "e18fb4cf",
        "colab": {
          "base_uri": "https://localhost:8080/"
        },
        "outputId": "d79bd94d-8076-4e59-d06d-a71ba185973c"
      },
      "outputs": [
        {
          "output_type": "execute_result",
          "data": {
            "text/plain": [
              "0.923037323037323"
            ]
          },
          "metadata": {},
          "execution_count": 46
        }
      ],
      "source": [
        "KNC_train_accuracy = KNC.score(X_train,y_train)\n",
        "KNC_train_accuracy"
      ]
    },
    {
      "cell_type": "code",
      "execution_count": 47,
      "id": "2c85fda2",
      "metadata": {
        "id": "2c85fda2",
        "colab": {
          "base_uri": "https://localhost:8080/"
        },
        "outputId": "44ea6ec8-aba1-4e81-be35-057b0deb55f2"
      },
      "outputs": [
        {
          "output_type": "execute_result",
          "data": {
            "text/plain": [
              "0.9051051051051051"
            ]
          },
          "metadata": {},
          "execution_count": 47
        }
      ],
      "source": [
        "KNC_test_accuracy = KNC.score(X_test,y_test)\n",
        "KNC_test_accuracy"
      ]
    },
    {
      "cell_type": "code",
      "source": [
        "precision.append(KNC_pred)\n",
        "recall.append(KNC_recal)\n",
        "f1_score.append(KNC_f1_s)\n",
        "trainset_accuracy.append(KNC_train_accuracy)\n",
        "testset_accuracy.append(KNC_test_accuracy)"
      ],
      "metadata": {
        "id": "EptoHDrlOVCC"
      },
      "id": "EptoHDrlOVCC",
      "execution_count": 48,
      "outputs": []
    },
    {
      "cell_type": "code",
      "execution_count": 49,
      "id": "2513a27d",
      "metadata": {
        "id": "2513a27d",
        "colab": {
          "base_uri": "https://localhost:8080/"
        },
        "outputId": "d732822f-83f0-4f98-ab79-46dfad532ebe"
      },
      "outputs": [
        {
          "output_type": "execute_result",
          "data": {
            "text/plain": [
              "array([0.97429306, 0.97429306, 0.97172237, 0.97172237, 0.97943445,\n",
              "       0.97938144, 0.97164948, 0.95103093, 0.97938144, 0.9742268 ])"
            ]
          },
          "metadata": {},
          "execution_count": 49
        }
      ],
      "source": [
        "SVM = SVC()\n",
        "SVM.fit(X_train, y_train)\n",
        "SVM_score = cross_val_score(SVM, X_train,y_train,scoring=\"accuracy\", cv=10)\n",
        "SVM_score"
      ]
    },
    {
      "cell_type": "code",
      "execution_count": 50,
      "id": "5ae6897c",
      "metadata": {
        "id": "5ae6897c",
        "colab": {
          "base_uri": "https://localhost:8080/"
        },
        "outputId": "86b8918a-00b7-4178-bb4f-dd0bcc79ddf4"
      },
      "outputs": [
        {
          "output_type": "execute_result",
          "data": {
            "text/plain": [
              "0.9727135398722604"
            ]
          },
          "metadata": {},
          "execution_count": 50
        }
      ],
      "source": [
        "SVM_score.mean()"
      ]
    },
    {
      "cell_type": "code",
      "execution_count": 51,
      "id": "8d4d6718",
      "metadata": {
        "id": "8d4d6718",
        "colab": {
          "base_uri": "https://localhost:8080/"
        },
        "outputId": "6bec672e-c471-44f0-b7d2-a588745a19b8"
      },
      "outputs": [
        {
          "output_type": "execute_result",
          "data": {
            "text/plain": [
              "1.0"
            ]
          },
          "metadata": {},
          "execution_count": 51
        }
      ],
      "source": [
        "SVM_pred_train = KNC.predict(X_train)\n",
        "SVM_pred_test = KNC.predict(X_test)\n",
        "SVM_pred = metrics.precision_score(y_test, KNC_pred_test)\n",
        "SVM_pred"
      ]
    },
    {
      "cell_type": "code",
      "execution_count": 52,
      "id": "ec1d159e",
      "metadata": {
        "id": "ec1d159e",
        "colab": {
          "base_uri": "https://localhost:8080/"
        },
        "outputId": "83273220-69e6-4a49-d5ee-1b6fd0bda356"
      },
      "outputs": [
        {
          "output_type": "execute_result",
          "data": {
            "text/plain": [
              "0.3218884120171674"
            ]
          },
          "metadata": {},
          "execution_count": 52
        }
      ],
      "source": [
        "SVM_recal = metrics.recall_score(y_test, KNC_pred_test)\n",
        "SVM_recal"
      ]
    },
    {
      "cell_type": "code",
      "execution_count": 53,
      "id": "e248dae8",
      "metadata": {
        "id": "e248dae8",
        "colab": {
          "base_uri": "https://localhost:8080/"
        },
        "outputId": "24416703-7ffc-4d51-c8ad-1e7ca2026a40"
      },
      "outputs": [
        {
          "output_type": "execute_result",
          "data": {
            "text/plain": [
              "0.487012987012987"
            ]
          },
          "metadata": {},
          "execution_count": 53
        }
      ],
      "source": [
        "SVM_f1_s = metrics.f1_score(y_test, KNC_pred_test)\n",
        "SVM_f1_s"
      ]
    },
    {
      "cell_type": "code",
      "execution_count": 54,
      "id": "5a57aec9",
      "metadata": {
        "id": "5a57aec9",
        "colab": {
          "base_uri": "https://localhost:8080/"
        },
        "outputId": "e17a0f49-0170-4ab9-a30f-13f7a362d52e"
      },
      "outputs": [
        {
          "output_type": "execute_result",
          "data": {
            "text/plain": [
              "0.923037323037323"
            ]
          },
          "metadata": {},
          "execution_count": 54
        }
      ],
      "source": [
        "SVM_train_accuracy = KNC.score(X_train,y_train)\n",
        "SVM_train_accuracy"
      ]
    },
    {
      "cell_type": "code",
      "execution_count": 55,
      "id": "2b2e5e3d",
      "metadata": {
        "id": "2b2e5e3d",
        "colab": {
          "base_uri": "https://localhost:8080/"
        },
        "outputId": "b7d0b18d-52ea-4085-e7fc-e707b8d4afb3"
      },
      "outputs": [
        {
          "output_type": "execute_result",
          "data": {
            "text/plain": [
              "0.9051051051051051"
            ]
          },
          "metadata": {},
          "execution_count": 55
        }
      ],
      "source": [
        "SVM_test_accuracy = KNC.score(X_test,y_test)\n",
        "SVM_test_accuracy"
      ]
    },
    {
      "cell_type": "code",
      "source": [
        "precision.append(SVM_pred)\n",
        "recall.append(SVM_recal)\n",
        "f1_score.append(SVM_f1_s)\n",
        "trainset_accuracy.append(SVM_train_accuracy)\n",
        "testset_accuracy.append(SVM_test_accuracy)"
      ],
      "metadata": {
        "id": "pnuF0pnqOg0h"
      },
      "id": "pnuF0pnqOg0h",
      "execution_count": 56,
      "outputs": []
    },
    {
      "cell_type": "markdown",
      "source": [
        "# Confusion Matrix"
      ],
      "metadata": {
        "id": "hkwwmyAZZjKN"
      },
      "id": "hkwwmyAZZjKN"
    },
    {
      "cell_type": "code",
      "source": [
        "from matplotlib.colors import ListedColormap\n",
        "cmap2 = ListedColormap([\"#00FFFF\",\"#FFC0CB\"])"
      ],
      "metadata": {
        "id": "6SsblTbvPucP"
      },
      "id": "6SsblTbvPucP",
      "execution_count": 57,
      "outputs": []
    },
    {
      "cell_type": "code",
      "execution_count": 58,
      "id": "56ed4f50",
      "metadata": {
        "id": "56ed4f50",
        "colab": {
          "base_uri": "https://localhost:8080/",
          "height": 279
        },
        "outputId": "e3fbbeb8-87cc-47b8-eb2e-8bf129c65aa5"
      },
      "outputs": [
        {
          "output_type": "display_data",
          "data": {
            "text/plain": [
              "<Figure size 432x288 with 2 Axes>"
            ],
            "image/png": "[encoded data removed]"
          },
          "metadata": {
            "needs_background": "light"
          }
        }
      ],
      "source": [
        "Multinomia_confusion_matrix = metrics.confusion_matrix(y_test, Multinomia_pred_test)\n",
        "Multinomia_display = ConfusionMatrixDisplay(Multinomia_confusion_matrix,display_labels=[\"Ham\",\"Spam\"])\n",
        "Multinomia_display.plot(cmap=cmap2)\n",
        "plt.show()"
      ]
    },
    {
      "cell_type": "code",
      "source": [
        "KNC_confusion_matrix = metrics.confusion_matrix(y_test, KNC_pred_test)\n",
        "KNC_display = ConfusionMatrixDisplay(KNC_confusion_matrix,display_labels=[\"Ham\",\"Spam\"])\n",
        "KNC_display.plot(cmap=cmap2)\n",
        "plt.show()"
      ],
      "metadata": {
        "id": "eyQw2c8caHJK",
        "colab": {
          "base_uri": "https://localhost:8080/",
          "height": 279
        },
        "outputId": "71eecea8-387d-4ee2-f026-03c69ef77571"
      },
      "id": "eyQw2c8caHJK",
      "execution_count": 59,
      "outputs": [
        {
          "output_type": "display_data",
          "data": {
            "text/plain": [
              "<Figure size 432x288 with 2 Axes>"
            ],
            "image/png": "[encoded data removed]"
          },
          "metadata": {
            "needs_background": "light"
          }
        }
      ]
    },
    {
      "cell_type": "code",
      "source": [
        "SVM_confusion_matrix = metrics.confusion_matrix(y_test, SVM_pred_test)\n",
        "SVM_display = ConfusionMatrixDisplay(SVM_confusion_matrix,display_labels=[\"Ham\",\"Spam\"])\n",
        "SVM_display.plot(cmap=cmap2)\n",
        "plt.show()"
      ],
      "metadata": {
        "id": "ffcq7-RQbIeT",
        "colab": {
          "base_uri": "https://localhost:8080/",
          "height": 279
        },
        "outputId": "567e1406-78cc-48b1-e0e4-50d21d81e640"
      },
      "id": "ffcq7-RQbIeT",
      "execution_count": 60,
      "outputs": [
        {
          "output_type": "display_data",
          "data": {
            "text/plain": [
              "<Figure size 432x288 with 2 Axes>"
            ],
            "image/png": "[encoded data removed]"
          },
          "metadata": {
            "needs_background": "light"
          }
        }
      ]
    },
    {
      "cell_type": "markdown",
      "source": [
        "# EVALUATING MODELS"
      ],
      "metadata": {
        "id": "aEISMPSXNX1I"
      },
      "id": "aEISMPSXNX1I"
    },
    {
      "cell_type": "code",
      "source": [
        "data = {'Precision':precision,\n",
        "'Recall':recall,\n",
        "'F1score':f1_score,\n",
        "'Accuracy on Testset':testset_accuracy,\n",
        "'Accuracy on Trainset':trainset_accuracy}\n",
        "Results = pd.DataFrame(data, index =[\"NaiveBayes\", \"KNeighbours\",\"SVC\"])"
      ],
      "metadata": {
        "id": "HEIXYOETNXEZ"
      },
      "id": "HEIXYOETNXEZ",
      "execution_count": 61,
      "outputs": []
    },
    {
      "cell_type": "code",
      "source": [
        "Results.style.background_gradient(cmap=cmap2)"
      ],
      "metadata": {
        "id": "_kHLCPMkO-ZA",
        "colab": {
          "base_uri": "https://localhost:8080/",
          "height": 143
        },
        "outputId": "fdf0d5d9-a850-45a8-9de3-66e7cb14eb98"
      },
      "id": "_kHLCPMkO-ZA",
      "execution_count": 62,
      "outputs": [
        {
          "output_type": "execute_result",
          "data": {
            "text/plain": [
              "<pandas.io.formats.style.Styler at 0x7fb47e06f890>"
            ],
            "text/html": [
              "<style type=\"text/css\">\n",
              "#T_b89f5_row0_col0, #T_b89f5_row1_col0, #T_b89f5_row1_col1, #T_b89f5_row1_col2, #T_b89f5_row1_col3, #T_b89f5_row1_col4, #T_b89f5_row2_col0, #T_b89f5_row2_col1, #T_b89f5_row2_col2, #T_b89f5_row2_col3, #T_b89f5_row2_col4 {\n",
              "  background-color: #00ffff;\n",
              "  color: #000000;\n",
              "}\n",
              "#T_b89f5_row0_col1, #T_b89f5_row0_col2, #T_b89f5_row0_col3, #T_b89f5_row0_col4 {\n",
              "  background-color: #ffc0cb;\n",
              "  color: #000000;\n",
              "}\n",
              "</style>\n",
              "<table id=\"T_b89f5_\" class=\"dataframe\">\n",
              "  <thead>\n",
              "    <tr>\n",
              "      <th class=\"blank level0\" >&nbsp;</th>\n",
              "      <th class=\"col_heading level0 col0\" >Precision</th>\n",
              "      <th class=\"col_heading level0 col1\" >Recall</th>\n",
              "      <th class=\"col_heading level0 col2\" >F1score</th>\n",
              "      <th class=\"col_heading level0 col3\" >Accuracy on Testset</th>\n",
              "      <th class=\"col_heading level0 col4\" >Accuracy on Trainset</th>\n",
              "    </tr>\n",
              "  </thead>\n",
              "  <tbody>\n",
              "    <tr>\n",
              "      <th id=\"T_b89f5_level0_row0\" class=\"row_heading level0 row0\" >NaiveBayes</th>\n",
              "      <td id=\"T_b89f5_row0_col0\" class=\"data row0 col0\" >1.000000</td>\n",
              "      <td id=\"T_b89f5_row0_col1\" class=\"data row0 col1\" >0.729614</td>\n",
              "      <td id=\"T_b89f5_row0_col2\" class=\"data row0 col2\" >0.843672</td>\n",
              "      <td id=\"T_b89f5_row0_col3\" class=\"data row0 col3\" >0.962162</td>\n",
              "      <td id=\"T_b89f5_row0_col4\" class=\"data row0 col4\" >0.974517</td>\n",
              "    </tr>\n",
              "    <tr>\n",
              "      <th id=\"T_b89f5_level0_row1\" class=\"row_heading level0 row1\" >KNeighbours</th>\n",
              "      <td id=\"T_b89f5_row1_col0\" class=\"data row1 col0\" >1.000000</td>\n",
              "      <td id=\"T_b89f5_row1_col1\" class=\"data row1 col1\" >0.321888</td>\n",
              "      <td id=\"T_b89f5_row1_col2\" class=\"data row1 col2\" >0.487013</td>\n",
              "      <td id=\"T_b89f5_row1_col3\" class=\"data row1 col3\" >0.905105</td>\n",
              "      <td id=\"T_b89f5_row1_col4\" class=\"data row1 col4\" >0.923037</td>\n",
              "    </tr>\n",
              "    <tr>\n",
              "      <th id=\"T_b89f5_level0_row2\" class=\"row_heading level0 row2\" >SVC</th>\n",
              "      <td id=\"T_b89f5_row2_col0\" class=\"data row2 col0\" >1.000000</td>\n",
              "      <td id=\"T_b89f5_row2_col1\" class=\"data row2 col1\" >0.321888</td>\n",
              "      <td id=\"T_b89f5_row2_col2\" class=\"data row2 col2\" >0.487013</td>\n",
              "      <td id=\"T_b89f5_row2_col3\" class=\"data row2 col3\" >0.905105</td>\n",
              "      <td id=\"T_b89f5_row2_col4\" class=\"data row2 col4\" >0.923037</td>\n",
              "    </tr>\n",
              "  </tbody>\n",
              "</table>\n"
            ]
          },
          "metadata": {},
          "execution_count": 62
        }
      ]
    }
  ],
  "metadata": {
    "kernelspec": {
      "display_name": "Python 3 (ipykernel)",
      "language": "python",
      "name": "python3"
    },
    "language_info": {
      "codemirror_mode": {
        "name": "ipython",
        "version": 3
      },
      "file_extension": ".py",
      "mimetype": "text/x-python",
      "name": "python",
      "nbconvert_exporter": "python",
      "pygments_lexer": "ipython3",
      "version": "3.9.7"
    },
    "colab": {
      "name": "Evaluating_Models_Hashmitha_Katta.ipynb",
      "provenance": [],
      "collapsed_sections": []
    }
  },
  "nbformat": 4,
  "nbformat_minor": 5
}